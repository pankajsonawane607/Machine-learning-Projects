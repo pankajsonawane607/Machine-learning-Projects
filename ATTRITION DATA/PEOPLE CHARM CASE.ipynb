{
 "cells": [
  {
   "cell_type": "markdown",
   "metadata": {},
   "source": [
    "# PEOPLE CHARM CASE\n",
    "‘People Charm’, a growing company is facing a high attrition rate among their employees which in turn affects their business due to lack of expertise and experience. Their HR department is assigned the task to reduce the attrition rate by retaining employees who are about to churn out. They need to recommend special plans or strategies which will help them to retain their employees which in turn will help them to grow bigger as a company. "
   ]
  },
  {
   "cell_type": "code",
   "execution_count": 1,
   "metadata": {},
   "outputs": [],
   "source": [
    "#IMPORTING THE LIBRARIES\n",
    "import pandas as pd\n",
    "import numpy as np\n",
    "import matplotlib.pyplot as plt\n",
    "%matplotlib inline\n",
    "import seaborn as sns"
   ]
  },
  {
   "cell_type": "code",
   "execution_count": 2,
   "metadata": {},
   "outputs": [],
   "source": [
    "#IMPORTING DATASET\n",
    "data = pd.read_csv(\"People Charm Case.csv\")"
   ]
  },
  {
   "cell_type": "code",
   "execution_count": 3,
   "metadata": {},
   "outputs": [
    {
     "data": {
      "text/html": [
       "<div>\n",
       "<style scoped>\n",
       "    .dataframe tbody tr th:only-of-type {\n",
       "        vertical-align: middle;\n",
       "    }\n",
       "\n",
       "    .dataframe tbody tr th {\n",
       "        vertical-align: top;\n",
       "    }\n",
       "\n",
       "    .dataframe thead th {\n",
       "        text-align: right;\n",
       "    }\n",
       "</style>\n",
       "<table border=\"1\" class=\"dataframe\">\n",
       "  <thead>\n",
       "    <tr style=\"text-align: right;\">\n",
       "      <th></th>\n",
       "      <th>satisfactoryLevel</th>\n",
       "      <th>lastEvaluation</th>\n",
       "      <th>numberOfProjects</th>\n",
       "      <th>avgMonthlyHours</th>\n",
       "      <th>timeSpent.company</th>\n",
       "      <th>workAccident</th>\n",
       "      <th>left</th>\n",
       "      <th>promotionInLast5years</th>\n",
       "      <th>dept</th>\n",
       "      <th>salary</th>\n",
       "    </tr>\n",
       "  </thead>\n",
       "  <tbody>\n",
       "    <tr>\n",
       "      <th>0</th>\n",
       "      <td>0.38</td>\n",
       "      <td>0.53</td>\n",
       "      <td>2</td>\n",
       "      <td>157</td>\n",
       "      <td>3</td>\n",
       "      <td>0</td>\n",
       "      <td>1</td>\n",
       "      <td>0</td>\n",
       "      <td>sales</td>\n",
       "      <td>low</td>\n",
       "    </tr>\n",
       "    <tr>\n",
       "      <th>1</th>\n",
       "      <td>0.80</td>\n",
       "      <td>0.86</td>\n",
       "      <td>5</td>\n",
       "      <td>262</td>\n",
       "      <td>6</td>\n",
       "      <td>0</td>\n",
       "      <td>1</td>\n",
       "      <td>0</td>\n",
       "      <td>sales</td>\n",
       "      <td>medium</td>\n",
       "    </tr>\n",
       "    <tr>\n",
       "      <th>2</th>\n",
       "      <td>0.11</td>\n",
       "      <td>0.88</td>\n",
       "      <td>7</td>\n",
       "      <td>272</td>\n",
       "      <td>4</td>\n",
       "      <td>0</td>\n",
       "      <td>1</td>\n",
       "      <td>0</td>\n",
       "      <td>sales</td>\n",
       "      <td>medium</td>\n",
       "    </tr>\n",
       "    <tr>\n",
       "      <th>3</th>\n",
       "      <td>0.37</td>\n",
       "      <td>0.52</td>\n",
       "      <td>2</td>\n",
       "      <td>159</td>\n",
       "      <td>3</td>\n",
       "      <td>0</td>\n",
       "      <td>1</td>\n",
       "      <td>0</td>\n",
       "      <td>sales</td>\n",
       "      <td>low</td>\n",
       "    </tr>\n",
       "    <tr>\n",
       "      <th>4</th>\n",
       "      <td>0.41</td>\n",
       "      <td>0.50</td>\n",
       "      <td>2</td>\n",
       "      <td>153</td>\n",
       "      <td>3</td>\n",
       "      <td>0</td>\n",
       "      <td>1</td>\n",
       "      <td>0</td>\n",
       "      <td>sales</td>\n",
       "      <td>low</td>\n",
       "    </tr>\n",
       "  </tbody>\n",
       "</table>\n",
       "</div>"
      ],
      "text/plain": [
       "   satisfactoryLevel  lastEvaluation  numberOfProjects  avgMonthlyHours  \\\n",
       "0               0.38            0.53                 2              157   \n",
       "1               0.80            0.86                 5              262   \n",
       "2               0.11            0.88                 7              272   \n",
       "3               0.37            0.52                 2              159   \n",
       "4               0.41            0.50                 2              153   \n",
       "\n",
       "   timeSpent.company  workAccident  left  promotionInLast5years   dept  salary  \n",
       "0                  3             0     1                      0  sales     low  \n",
       "1                  6             0     1                      0  sales  medium  \n",
       "2                  4             0     1                      0  sales  medium  \n",
       "3                  3             0     1                      0  sales     low  \n",
       "4                  3             0     1                      0  sales     low  "
      ]
     },
     "execution_count": 3,
     "metadata": {},
     "output_type": "execute_result"
    }
   ],
   "source": [
    "#PRINTING TOP 5 ROWS\n",
    "data.head()"
   ]
  },
  {
   "cell_type": "code",
   "execution_count": 4,
   "metadata": {},
   "outputs": [],
   "source": [
    "#LOWERING DOWN THE COLUMN NAMES\n",
    "data.columns  = data.columns.str.lower()"
   ]
  },
  {
   "cell_type": "code",
   "execution_count": 5,
   "metadata": {},
   "outputs": [
    {
     "name": "stdout",
     "output_type": "stream",
     "text": [
      "<class 'pandas.core.frame.DataFrame'>\n",
      "RangeIndex: 14999 entries, 0 to 14998\n",
      "Data columns (total 10 columns):\n",
      "satisfactorylevel        14999 non-null float64\n",
      "lastevaluation           14999 non-null float64\n",
      "numberofprojects         14999 non-null int64\n",
      "avgmonthlyhours          14999 non-null int64\n",
      "timespent.company        14999 non-null int64\n",
      "workaccident             14999 non-null int64\n",
      "left                     14999 non-null int64\n",
      "promotioninlast5years    14999 non-null int64\n",
      "dept                     14999 non-null object\n",
      "salary                   14999 non-null object\n",
      "dtypes: float64(2), int64(6), object(2)\n",
      "memory usage: 1.1+ MB\n"
     ]
    }
   ],
   "source": [
    "data.info()"
   ]
  },
  {
   "cell_type": "code",
   "execution_count": 6,
   "metadata": {},
   "outputs": [
    {
     "data": {
      "text/plain": [
       "(14999, 10)"
      ]
     },
     "execution_count": 6,
     "metadata": {},
     "output_type": "execute_result"
    }
   ],
   "source": [
    "#DIMESNIONS OF DATASET\n",
    "data.shape"
   ]
  },
  {
   "cell_type": "code",
   "execution_count": 7,
   "metadata": {},
   "outputs": [
    {
     "data": {
      "text/plain": [
       "array(['sales', 'accounting', 'hr', 'technical', 'support', 'IT',\n",
       "       'product_mng', 'marketing', 'management', 'RandD'], dtype=object)"
      ]
     },
     "execution_count": 7,
     "metadata": {},
     "output_type": "execute_result"
    }
   ],
   "source": [
    "#FINDING UNIQUE VALUES\n",
    "data[\"dept\"].unique()"
   ]
  },
  {
   "cell_type": "code",
   "execution_count": 8,
   "metadata": {},
   "outputs": [
    {
     "data": {
      "text/plain": [
       "array(['low', 'medium', 'high'], dtype=object)"
      ]
     },
     "execution_count": 8,
     "metadata": {},
     "output_type": "execute_result"
    }
   ],
   "source": [
    "#FINDING UNIQUE VALUES\n",
    "data[\"salary\"].unique()"
   ]
  },
  {
   "cell_type": "code",
   "execution_count": 9,
   "metadata": {},
   "outputs": [
    {
     "data": {
      "text/plain": [
       "<matplotlib.axes._subplots.AxesSubplot at 0x1e4bcc02978>"
      ]
     },
     "execution_count": 9,
     "metadata": {},
     "output_type": "execute_result"
    },
    {
     "data": {
      "image/png": "[encoded data removed]",
      "text/plain": [
       "<Figure size 432x288 with 1 Axes>"
      ]
     },
     "metadata": {
      "needs_background": "light"
     },
     "output_type": "display_data"
    }
   ],
   "source": [
    "#DISTRIBUTION OF LEFT COLUMN WITH RESPECT TO DEPARTMENT \n",
    "sns.countplot(data = data.sort_values(by = \"dept\"), x = \"left\", hue = \"dept\")"
   ]
  },
  {
   "cell_type": "code",
   "execution_count": 10,
   "metadata": {},
   "outputs": [
    {
     "name": "stderr",
     "output_type": "stream",
     "text": [
      "C:\\Users\\Pankaj\\Anaconda3\\lib\\site-packages\\sklearn\\preprocessing\\label.py:235: DataConversionWarning: A column-vector y was passed when a 1d array was expected. Please change the shape of y to (n_samples, ), for example using ravel().\n",
      "  y = column_or_1d(y, warn=True)\n",
      "C:\\Users\\Pankaj\\Anaconda3\\lib\\site-packages\\sklearn\\preprocessing\\label.py:235: DataConversionWarning: A column-vector y was passed when a 1d array was expected. Please change the shape of y to (n_samples, ), for example using ravel().\n",
      "  y = column_or_1d(y, warn=True)\n"
     ]
    }
   ],
   "source": [
    "#LABEL ENCODING THE DEPARTMENT AND SALARY COLUMNS BASED ON THE MEAN OF LEFT COLUMNS\n",
    "from sklearn.preprocessing import LabelEncoder\n",
    "lb = LabelEncoder()\n",
    "ctg = data[[\"dept\",\"salary\",\"left\"]]\n",
    "for i in ctg.columns[:-1]:\n",
    "    ctg_mean = ctg.groupby(i).mean()\n",
    "    enc = pd.Series(data = lb.fit_transform(ctg_mean), index = ctg_mean.index)\n",
    "    data[i] = data[i].map(enc)\n"
   ]
  },
  {
   "cell_type": "code",
   "execution_count": 11,
   "metadata": {},
   "outputs": [
    {
     "data": {
      "text/plain": [
       "Index(['satisfactorylevel', 'lastevaluation', 'numberofprojects',\n",
       "       'avgmonthlyhours', 'timespent.company', 'workaccident', 'left',\n",
       "       'promotioninlast5years', 'dept', 'salary'],\n",
       "      dtype='object')"
      ]
     },
     "execution_count": 11,
     "metadata": {},
     "output_type": "execute_result"
    }
   ],
   "source": [
    "#MAKING THE COPY OF THE  DATA\n",
    "new_data = data.copy()\n",
    "new_data.columns"
   ]
  },
  {
   "cell_type": "code",
   "execution_count": 12,
   "metadata": {},
   "outputs": [
    {
     "data": {
      "text/plain": [
       "satisfactorylevel           0\n",
       "lastevaluation              0\n",
       "numberofprojects            0\n",
       "avgmonthlyhours             0\n",
       "timespent.company        1282\n",
       "workaccident             2169\n",
       "left                     3571\n",
       "promotioninlast5years     319\n",
       "dept                        0\n",
       "salary                      0\n",
       "dtype: int64"
      ]
     },
     "execution_count": 12,
     "metadata": {},
     "output_type": "execute_result"
    }
   ],
   "source": [
    "#Calculating outlier from whole data frame\n",
    "Q1 = new_data.quantile(0.25)\n",
    "Q3 = new_data.quantile(0.75)\n",
    "IQR = Q3-Q1\n",
    "\n",
    "((new_data < (Q1 - 1.5 * IQR)) | (new_data > (Q3 + 1.5 * IQR))).sum()"
   ]
  },
  {
   "cell_type": "code",
   "execution_count": 13,
   "metadata": {},
   "outputs": [],
   "source": [
    "#Outlier analysis\n",
    "q75, q25 = np.percentile(new_data[\"timespent.company\"], [75,25])\n",
    "iqr = q75-q25\n",
    "minimum = q25-1.5*iqr\n",
    "maximum = q75+1.5*iqr\n",
    "new_data.loc[new_data[\"timespent.company\"] < minimum, \"timespent.company\"] = minimum\n",
    "new_data.loc[new_data[\"timespent.company\"] > maximum, \"timespent.company\"]= maximum\n",
    "        \n",
    "    \n",
    "    "
   ]
  },
  {
   "cell_type": "code",
   "execution_count": 14,
   "metadata": {},
   "outputs": [
    {
     "data": {
      "text/plain": [
       "{'whiskers': [<matplotlib.lines.Line2D at 0x1e4be832470>,\n",
       "  <matplotlib.lines.Line2D at 0x1e4be8327b8>],\n",
       " 'caps': [<matplotlib.lines.Line2D at 0x1e4be832b00>,\n",
       "  <matplotlib.lines.Line2D at 0x1e4be832e48>],\n",
       " 'boxes': [<matplotlib.lines.Line2D at 0x1e4be832048>],\n",
       " 'medians': [<matplotlib.lines.Line2D at 0x1e4be832f28>],\n",
       " 'fliers': [<matplotlib.lines.Line2D at 0x1e4be83c518>],\n",
       " 'means': []}"
      ]
     },
     "execution_count": 14,
     "metadata": {},
     "output_type": "execute_result"
    },
    {
     "data": {
      "image/png": "[encoded data removed]",
      "text/plain": [
       "<Figure size 432x288 with 1 Axes>"
      ]
     },
     "metadata": {
      "needs_background": "light"
     },
     "output_type": "display_data"
    }
   ],
   "source": [
    "#CHECKING THE COLUMN FOR OUTLIER BY PLOTTING BOXPLOT\n",
    "plt.boxplot(new_data[\"timespent.company\"])"
   ]
  },
  {
   "cell_type": "code",
   "execution_count": 15,
   "metadata": {},
   "outputs": [
    {
     "data": {
      "text/plain": [
       "<matplotlib.axes._subplots.AxesSubplot at 0x1e4bdf08550>"
      ]
     },
     "execution_count": 15,
     "metadata": {},
     "output_type": "execute_result"
    },
    {
     "data": {
      "image/png": "[encoded data removed]",
      "text/plain": [
       "<Figure size 720x360 with 2 Axes>"
      ]
     },
     "metadata": {
      "needs_background": "light"
     },
     "output_type": "display_data"
    }
   ],
   "source": [
    "#FINDING CORRELATION WITH DIFFERENT COLUMNS BY USING HEAT MAP\n",
    "plt.figure(figsize = (10,5))\n",
    "sns.heatmap(new_data.corr(),cmap = \"RdYlGn\", annot = True)"
   ]
  },
  {
   "cell_type": "markdown",
   "metadata": {},
   "source": [
    "# PREPARING THE DATA FOR MODEL IMPLEMENTATION"
   ]
  },
  {
   "cell_type": "code",
   "execution_count": 16,
   "metadata": {},
   "outputs": [],
   "source": [
    "#Selecting Independent Variables\n",
    "ind_v = new_data[[\"satisfactorylevel\", \"timespent.company\", \"workaccident\", \"salary\"]].values\n",
    "#Selecting Dependent Variables\n",
    "dep_v = new_data[\"left\"].values\n"
   ]
  },
  {
   "cell_type": "code",
   "execution_count": 17,
   "metadata": {},
   "outputs": [],
   "source": [
    "#Preparing train and test data\n",
    "from sklearn.model_selection import train_test_split\n",
    "x_train, x_test, y_train, y_test = train_test_split(ind_v, dep_v, test_size = 0.2, random_state = 0)\n"
   ]
  },
  {
   "cell_type": "code",
   "execution_count": 18,
   "metadata": {},
   "outputs": [],
   "source": [
    "#Feature Scaling\n",
    "from sklearn.preprocessing import StandardScaler\n",
    "sc = StandardScaler()\n",
    "sc_x_train = sc.fit_transform(x_train)\n",
    "sc_x_test = sc.fit_transform(x_test)"
   ]
  },
  {
   "cell_type": "markdown",
   "metadata": {},
   "source": [
    "# KNN MODEL IMPLEMENTATION"
   ]
  },
  {
   "cell_type": "code",
   "execution_count": 19,
   "metadata": {},
   "outputs": [
    {
     "data": {
      "text/plain": [
       "KNeighborsClassifier(algorithm='auto', leaf_size=30, metric='minkowski',\n",
       "           metric_params=None, n_jobs=None, n_neighbors=5, p=2,\n",
       "           weights='uniform')"
      ]
     },
     "execution_count": 19,
     "metadata": {},
     "output_type": "execute_result"
    }
   ],
   "source": [
    "from sklearn.neighbors import KNeighborsClassifier\n",
    "knn = KNeighborsClassifier()\n",
    "knn.fit(x_train, y_train)\n"
   ]
  },
  {
   "cell_type": "code",
   "execution_count": 20,
   "metadata": {},
   "outputs": [],
   "source": [
    "knn_pred = knn.predict(x_test)"
   ]
  },
  {
   "cell_type": "code",
   "execution_count": 21,
   "metadata": {},
   "outputs": [
    {
     "name": "stdout",
     "output_type": "stream",
     "text": [
      "Confusion_Matrix :\n",
      " [[2174   77]\n",
      " [  73  676]]\n",
      "\n",
      "\n",
      "Accuracy:\n",
      " 0.95\n",
      "\n",
      "\n",
      "Classification Report:\n",
      "               precision    recall  f1-score   support\n",
      "\n",
      "           0       0.97      0.97      0.97      2251\n",
      "           1       0.90      0.90      0.90       749\n",
      "\n",
      "   micro avg       0.95      0.95      0.95      3000\n",
      "   macro avg       0.93      0.93      0.93      3000\n",
      "weighted avg       0.95      0.95      0.95      3000\n",
      "\n"
     ]
    }
   ],
   "source": [
    "from sklearn.metrics import confusion_matrix, accuracy_score, classification_report,roc_curve,auc\n",
    "print(\"Confusion_Matrix :\\n\", confusion_matrix(y_test, knn_pred))\n",
    "print(\"\\n\")\n",
    "print(\"Accuracy:\\n\",accuracy_score(y_test, knn_pred))\n",
    "print(\"\\n\")\n",
    "print(\"Classification Report:\\n\", classification_report(y_test, knn_pred))"
   ]
  },
  {
   "cell_type": "code",
   "execution_count": 22,
   "metadata": {},
   "outputs": [
    {
     "data": {
      "text/plain": [
       "0.9573297774814568"
      ]
     },
     "execution_count": 22,
     "metadata": {},
     "output_type": "execute_result"
    }
   ],
   "source": [
    "knn.score(x_train, y_train)"
   ]
  },
  {
   "cell_type": "code",
   "execution_count": 23,
   "metadata": {},
   "outputs": [
    {
     "data": {
      "text/plain": [
       "0.9687891273956866"
      ]
     },
     "execution_count": 23,
     "metadata": {},
     "output_type": "execute_result"
    }
   ],
   "source": [
    "#ROC AND AUC CURVE\n",
    "knn_proba = knn.predict_proba(x_test)[:,1]\n",
    "fpr, tpr, threshold = roc_curve(y_test, knn_proba)\n",
    "auc_score = auc(fpr, tpr)\n",
    "auc_score"
   ]
  },
  {
   "cell_type": "code",
   "execution_count": 24,
   "metadata": {},
   "outputs": [
    {
     "data": {
      "text/plain": [
       "<matplotlib.legend.Legend at 0x1e4bec72390>"
      ]
     },
     "execution_count": 24,
     "metadata": {},
     "output_type": "execute_result"
    },
    {
     "data": {
      "image/png": "[encoded data removed]",
      "text/plain": [
       "<Figure size 432x288 with 1 Axes>"
      ]
     },
     "metadata": {
      "needs_background": "light"
     },
     "output_type": "display_data"
    }
   ],
   "source": [
    "#PLotting roc_curve\n",
    "plt.title(\"KNN ROC\")\n",
    "plt.plot(fpr, tpr,\"b+-\",label = \"AUC = %.2f\" % auc_score)\n",
    "plt.plot([0,1], \"r--\",label = \"Baseline\")\n",
    "plt.legend()"
   ]
  },
  {
   "cell_type": "markdown",
   "metadata": {},
   "source": [
    "# LOGISTIC REGRESSION MODEL"
   ]
  },
  {
   "cell_type": "code",
   "execution_count": 25,
   "metadata": {},
   "outputs": [
    {
     "name": "stderr",
     "output_type": "stream",
     "text": [
      "C:\\Users\\Pankaj\\Anaconda3\\lib\\site-packages\\sklearn\\linear_model\\logistic.py:433: FutureWarning: Default solver will be changed to 'lbfgs' in 0.22. Specify a solver to silence this warning.\n",
      "  FutureWarning)\n"
     ]
    },
    {
     "data": {
      "text/plain": [
       "LogisticRegression(C=1.0, class_weight='balanced', dual=False,\n",
       "          fit_intercept=True, intercept_scaling=1, max_iter=100,\n",
       "          multi_class='warn', n_jobs=None, penalty='l2', random_state=None,\n",
       "          solver='warn', tol=0.0001, verbose=0, warm_start=False)"
      ]
     },
     "execution_count": 25,
     "metadata": {},
     "output_type": "execute_result"
    }
   ],
   "source": [
    "from sklearn.linear_model import LogisticRegression\n",
    "lr = LogisticRegression(class_weight = \"balanced\")\n",
    "lr.fit(x_train, y_train)"
   ]
  },
  {
   "cell_type": "code",
   "execution_count": 26,
   "metadata": {},
   "outputs": [],
   "source": [
    "lr_pred = lr.predict(x_test)"
   ]
  },
  {
   "cell_type": "code",
   "execution_count": 27,
   "metadata": {},
   "outputs": [
    {
     "name": "stdout",
     "output_type": "stream",
     "text": [
      "Confusion_Matrix :\n",
      " [[1743  508]\n",
      " [ 169  580]]\n",
      "\n",
      "\n",
      "Accuracy:\n",
      " 0.7743333333333333\n",
      "\n",
      "\n",
      "Classification Report:\n",
      "               precision    recall  f1-score   support\n",
      "\n",
      "           0       0.91      0.77      0.84      2251\n",
      "           1       0.53      0.77      0.63       749\n",
      "\n",
      "   micro avg       0.77      0.77      0.77      3000\n",
      "   macro avg       0.72      0.77      0.73      3000\n",
      "weighted avg       0.82      0.77      0.79      3000\n",
      "\n"
     ]
    }
   ],
   "source": [
    "print(\"Confusion_Matrix :\\n\", confusion_matrix(y_test, lr_pred))\n",
    "print(\"\\n\")\n",
    "print(\"Accuracy:\\n\",accuracy_score(y_test, lr_pred))\n",
    "print(\"\\n\")\n",
    "print(\"Classification Report:\\n\", classification_report(y_test, lr_pred))"
   ]
  },
  {
   "cell_type": "code",
   "execution_count": 28,
   "metadata": {},
   "outputs": [
    {
     "data": {
      "text/plain": [
       "0.8425704878828517"
      ]
     },
     "execution_count": 28,
     "metadata": {},
     "output_type": "execute_result"
    }
   ],
   "source": [
    "#ROC AND AUC CURVE\n",
    "lr_proba = lr.predict_proba(x_test)[:,1]\n",
    "fpr, tpr, threshold = roc_curve(y_test, lr_proba)\n",
    "auc_score = auc(fpr, tpr)\n",
    "auc_score"
   ]
  },
  {
   "cell_type": "code",
   "execution_count": 29,
   "metadata": {},
   "outputs": [
    {
     "data": {
      "text/plain": [
       "<matplotlib.legend.Legend at 0x1e4bee3cef0>"
      ]
     },
     "execution_count": 29,
     "metadata": {},
     "output_type": "execute_result"
    },
    {
     "data": {
      "image/png": "[encoded data removed]",
      "text/plain": [
       "<Figure size 432x288 with 1 Axes>"
      ]
     },
     "metadata": {
      "needs_background": "light"
     },
     "output_type": "display_data"
    }
   ],
   "source": [
    "#PLotting roc_curve\n",
    "baseline_x =[0,0]\n",
    "baseline_y =[1,1]\n",
    "plt.title(\"Logistic Regression ROC\")\n",
    "plt.plot(fpr, tpr,\"b\",label = \"AUC = %.2f\" % auc_score)\n",
    "plt.plot([0,1], \"r--\",label = \"Baseline\")\n",
    "plt.legend()"
   ]
  },
  {
   "cell_type": "code",
   "execution_count": 30,
   "metadata": {},
   "outputs": [
    {
     "data": {
      "text/html": [
       "<div>\n",
       "<style scoped>\n",
       "    .dataframe tbody tr th:only-of-type {\n",
       "        vertical-align: middle;\n",
       "    }\n",
       "\n",
       "    .dataframe tbody tr th {\n",
       "        vertical-align: top;\n",
       "    }\n",
       "\n",
       "    .dataframe thead th {\n",
       "        text-align: right;\n",
       "    }\n",
       "</style>\n",
       "<table border=\"1\" class=\"dataframe\">\n",
       "  <thead>\n",
       "    <tr style=\"text-align: right;\">\n",
       "      <th></th>\n",
       "      <th>Threshold</th>\n",
       "      <th>TPR</th>\n",
       "      <th>FPR</th>\n",
       "    </tr>\n",
       "  </thead>\n",
       "  <tbody>\n",
       "    <tr>\n",
       "      <th>309</th>\n",
       "      <td>0.461354</td>\n",
       "      <td>0.867824</td>\n",
       "      <td>0.250111</td>\n",
       "    </tr>\n",
       "    <tr>\n",
       "      <th>310</th>\n",
       "      <td>0.461023</td>\n",
       "      <td>0.867824</td>\n",
       "      <td>0.251444</td>\n",
       "    </tr>\n",
       "    <tr>\n",
       "      <th>311</th>\n",
       "      <td>0.459710</td>\n",
       "      <td>0.867824</td>\n",
       "      <td>0.251888</td>\n",
       "    </tr>\n",
       "    <tr>\n",
       "      <th>312</th>\n",
       "      <td>0.459379</td>\n",
       "      <td>0.867824</td>\n",
       "      <td>0.253221</td>\n",
       "    </tr>\n",
       "    <tr>\n",
       "      <th>313</th>\n",
       "      <td>0.457737</td>\n",
       "      <td>0.867824</td>\n",
       "      <td>0.253665</td>\n",
       "    </tr>\n",
       "    <tr>\n",
       "      <th>314</th>\n",
       "      <td>0.456242</td>\n",
       "      <td>0.867824</td>\n",
       "      <td>0.257663</td>\n",
       "    </tr>\n",
       "    <tr>\n",
       "      <th>315</th>\n",
       "      <td>0.454601</td>\n",
       "      <td>0.873164</td>\n",
       "      <td>0.258108</td>\n",
       "    </tr>\n",
       "    <tr>\n",
       "      <th>316</th>\n",
       "      <td>0.453768</td>\n",
       "      <td>0.881175</td>\n",
       "      <td>0.258996</td>\n",
       "    </tr>\n",
       "    <tr>\n",
       "      <th>317</th>\n",
       "      <td>0.452139</td>\n",
       "      <td>0.881175</td>\n",
       "      <td>0.259440</td>\n",
       "    </tr>\n",
       "    <tr>\n",
       "      <th>318</th>\n",
       "      <td>0.450966</td>\n",
       "      <td>0.883845</td>\n",
       "      <td>0.259884</td>\n",
       "    </tr>\n",
       "    <tr>\n",
       "      <th>319</th>\n",
       "      <td>0.450637</td>\n",
       "      <td>0.883845</td>\n",
       "      <td>0.260329</td>\n",
       "    </tr>\n",
       "    <tr>\n",
       "      <th>320</th>\n",
       "      <td>0.445874</td>\n",
       "      <td>0.883845</td>\n",
       "      <td>0.263438</td>\n",
       "    </tr>\n",
       "    <tr>\n",
       "      <th>321</th>\n",
       "      <td>0.445044</td>\n",
       "      <td>0.883845</td>\n",
       "      <td>0.263883</td>\n",
       "    </tr>\n",
       "    <tr>\n",
       "      <th>322</th>\n",
       "      <td>0.444240</td>\n",
       "      <td>0.883845</td>\n",
       "      <td>0.264771</td>\n",
       "    </tr>\n",
       "    <tr>\n",
       "      <th>323</th>\n",
       "      <td>0.443410</td>\n",
       "      <td>0.889186</td>\n",
       "      <td>0.264771</td>\n",
       "    </tr>\n",
       "    <tr>\n",
       "      <th>324</th>\n",
       "      <td>0.441121</td>\n",
       "      <td>0.889186</td>\n",
       "      <td>0.265660</td>\n",
       "    </tr>\n",
       "    <tr>\n",
       "      <th>325</th>\n",
       "      <td>0.440621</td>\n",
       "      <td>0.889186</td>\n",
       "      <td>0.266548</td>\n",
       "    </tr>\n",
       "    <tr>\n",
       "      <th>326</th>\n",
       "      <td>0.439491</td>\n",
       "      <td>0.889186</td>\n",
       "      <td>0.267437</td>\n",
       "    </tr>\n",
       "    <tr>\n",
       "      <th>327</th>\n",
       "      <td>0.438663</td>\n",
       "      <td>0.889186</td>\n",
       "      <td>0.268325</td>\n",
       "    </tr>\n",
       "    <tr>\n",
       "      <th>328</th>\n",
       "      <td>0.437034</td>\n",
       "      <td>0.889186</td>\n",
       "      <td>0.269214</td>\n",
       "    </tr>\n",
       "    <tr>\n",
       "      <th>329</th>\n",
       "      <td>0.435553</td>\n",
       "      <td>0.889186</td>\n",
       "      <td>0.271879</td>\n",
       "    </tr>\n",
       "    <tr>\n",
       "      <th>330</th>\n",
       "      <td>0.433927</td>\n",
       "      <td>0.889186</td>\n",
       "      <td>0.273212</td>\n",
       "    </tr>\n",
       "    <tr>\n",
       "      <th>331</th>\n",
       "      <td>0.433102</td>\n",
       "      <td>0.894526</td>\n",
       "      <td>0.273656</td>\n",
       "    </tr>\n",
       "    <tr>\n",
       "      <th>332</th>\n",
       "      <td>0.431489</td>\n",
       "      <td>0.894526</td>\n",
       "      <td>0.274545</td>\n",
       "    </tr>\n",
       "    <tr>\n",
       "      <th>333</th>\n",
       "      <td>0.431478</td>\n",
       "      <td>0.895861</td>\n",
       "      <td>0.274545</td>\n",
       "    </tr>\n",
       "    <tr>\n",
       "      <th>334</th>\n",
       "      <td>0.430825</td>\n",
       "      <td>0.895861</td>\n",
       "      <td>0.276766</td>\n",
       "    </tr>\n",
       "    <tr>\n",
       "      <th>335</th>\n",
       "      <td>0.428380</td>\n",
       "      <td>0.895861</td>\n",
       "      <td>0.278543</td>\n",
       "    </tr>\n",
       "    <tr>\n",
       "      <th>336</th>\n",
       "      <td>0.426760</td>\n",
       "      <td>0.895861</td>\n",
       "      <td>0.279431</td>\n",
       "    </tr>\n",
       "    <tr>\n",
       "      <th>337</th>\n",
       "      <td>0.425287</td>\n",
       "      <td>0.895861</td>\n",
       "      <td>0.281653</td>\n",
       "    </tr>\n",
       "    <tr>\n",
       "      <th>338</th>\n",
       "      <td>0.423671</td>\n",
       "      <td>0.895861</td>\n",
       "      <td>0.284762</td>\n",
       "    </tr>\n",
       "    <tr>\n",
       "      <th>...</th>\n",
       "      <td>...</td>\n",
       "      <td>...</td>\n",
       "      <td>...</td>\n",
       "    </tr>\n",
       "    <tr>\n",
       "      <th>389</th>\n",
       "      <td>0.368564</td>\n",
       "      <td>0.931909</td>\n",
       "      <td>0.354065</td>\n",
       "    </tr>\n",
       "    <tr>\n",
       "      <th>390</th>\n",
       "      <td>0.368255</td>\n",
       "      <td>0.931909</td>\n",
       "      <td>0.355398</td>\n",
       "    </tr>\n",
       "    <tr>\n",
       "      <th>391</th>\n",
       "      <td>0.365319</td>\n",
       "      <td>0.931909</td>\n",
       "      <td>0.356286</td>\n",
       "    </tr>\n",
       "    <tr>\n",
       "      <th>392</th>\n",
       "      <td>0.363786</td>\n",
       "      <td>0.931909</td>\n",
       "      <td>0.359396</td>\n",
       "    </tr>\n",
       "    <tr>\n",
       "      <th>393</th>\n",
       "      <td>0.363009</td>\n",
       "      <td>0.935915</td>\n",
       "      <td>0.359396</td>\n",
       "    </tr>\n",
       "    <tr>\n",
       "      <th>394</th>\n",
       "      <td>0.360865</td>\n",
       "      <td>0.935915</td>\n",
       "      <td>0.362061</td>\n",
       "    </tr>\n",
       "    <tr>\n",
       "      <th>395</th>\n",
       "      <td>0.360091</td>\n",
       "      <td>0.938585</td>\n",
       "      <td>0.362950</td>\n",
       "    </tr>\n",
       "    <tr>\n",
       "      <th>396</th>\n",
       "      <td>0.359341</td>\n",
       "      <td>0.938585</td>\n",
       "      <td>0.363394</td>\n",
       "    </tr>\n",
       "    <tr>\n",
       "      <th>397</th>\n",
       "      <td>0.358568</td>\n",
       "      <td>0.938585</td>\n",
       "      <td>0.365171</td>\n",
       "    </tr>\n",
       "    <tr>\n",
       "      <th>398</th>\n",
       "      <td>0.357047</td>\n",
       "      <td>0.938585</td>\n",
       "      <td>0.365615</td>\n",
       "    </tr>\n",
       "    <tr>\n",
       "      <th>399</th>\n",
       "      <td>0.355666</td>\n",
       "      <td>0.938585</td>\n",
       "      <td>0.368281</td>\n",
       "    </tr>\n",
       "    <tr>\n",
       "      <th>400</th>\n",
       "      <td>0.354151</td>\n",
       "      <td>0.938585</td>\n",
       "      <td>0.373167</td>\n",
       "    </tr>\n",
       "    <tr>\n",
       "      <th>401</th>\n",
       "      <td>0.353383</td>\n",
       "      <td>0.946595</td>\n",
       "      <td>0.373167</td>\n",
       "    </tr>\n",
       "    <tr>\n",
       "      <th>402</th>\n",
       "      <td>0.352649</td>\n",
       "      <td>0.947931</td>\n",
       "      <td>0.373167</td>\n",
       "    </tr>\n",
       "    <tr>\n",
       "      <th>403</th>\n",
       "      <td>0.351872</td>\n",
       "      <td>0.947931</td>\n",
       "      <td>0.373612</td>\n",
       "    </tr>\n",
       "    <tr>\n",
       "      <th>404</th>\n",
       "      <td>0.351265</td>\n",
       "      <td>0.947931</td>\n",
       "      <td>0.375389</td>\n",
       "    </tr>\n",
       "    <tr>\n",
       "      <th>405</th>\n",
       "      <td>0.350500</td>\n",
       "      <td>0.947931</td>\n",
       "      <td>0.378498</td>\n",
       "    </tr>\n",
       "    <tr>\n",
       "      <th>406</th>\n",
       "      <td>0.348995</td>\n",
       "      <td>0.947931</td>\n",
       "      <td>0.378943</td>\n",
       "    </tr>\n",
       "    <tr>\n",
       "      <th>407</th>\n",
       "      <td>0.346128</td>\n",
       "      <td>0.949266</td>\n",
       "      <td>0.383829</td>\n",
       "    </tr>\n",
       "    <tr>\n",
       "      <th>408</th>\n",
       "      <td>0.344632</td>\n",
       "      <td>0.949266</td>\n",
       "      <td>0.386051</td>\n",
       "    </tr>\n",
       "    <tr>\n",
       "      <th>409</th>\n",
       "      <td>0.342382</td>\n",
       "      <td>0.951936</td>\n",
       "      <td>0.386051</td>\n",
       "    </tr>\n",
       "    <tr>\n",
       "      <th>410</th>\n",
       "      <td>0.341783</td>\n",
       "      <td>0.951936</td>\n",
       "      <td>0.388716</td>\n",
       "    </tr>\n",
       "    <tr>\n",
       "      <th>411</th>\n",
       "      <td>0.341027</td>\n",
       "      <td>0.951936</td>\n",
       "      <td>0.389605</td>\n",
       "    </tr>\n",
       "    <tr>\n",
       "      <th>412</th>\n",
       "      <td>0.338070</td>\n",
       "      <td>0.951936</td>\n",
       "      <td>0.391382</td>\n",
       "    </tr>\n",
       "    <tr>\n",
       "      <th>413</th>\n",
       "      <td>0.336713</td>\n",
       "      <td>0.951936</td>\n",
       "      <td>0.394047</td>\n",
       "    </tr>\n",
       "    <tr>\n",
       "      <th>414</th>\n",
       "      <td>0.335237</td>\n",
       "      <td>0.951936</td>\n",
       "      <td>0.397157</td>\n",
       "    </tr>\n",
       "    <tr>\n",
       "      <th>415</th>\n",
       "      <td>0.333764</td>\n",
       "      <td>0.953271</td>\n",
       "      <td>0.397601</td>\n",
       "    </tr>\n",
       "    <tr>\n",
       "      <th>416</th>\n",
       "      <td>0.333027</td>\n",
       "      <td>0.953271</td>\n",
       "      <td>0.398045</td>\n",
       "    </tr>\n",
       "    <tr>\n",
       "      <th>417</th>\n",
       "      <td>0.332426</td>\n",
       "      <td>0.953271</td>\n",
       "      <td>0.399378</td>\n",
       "    </tr>\n",
       "    <tr>\n",
       "      <th>418</th>\n",
       "      <td>0.331681</td>\n",
       "      <td>0.953271</td>\n",
       "      <td>0.399822</td>\n",
       "    </tr>\n",
       "  </tbody>\n",
       "</table>\n",
       "<p>110 rows × 3 columns</p>\n",
       "</div>"
      ],
      "text/plain": [
       "     Threshold       TPR       FPR\n",
       "309   0.461354  0.867824  0.250111\n",
       "310   0.461023  0.867824  0.251444\n",
       "311   0.459710  0.867824  0.251888\n",
       "312   0.459379  0.867824  0.253221\n",
       "313   0.457737  0.867824  0.253665\n",
       "314   0.456242  0.867824  0.257663\n",
       "315   0.454601  0.873164  0.258108\n",
       "316   0.453768  0.881175  0.258996\n",
       "317   0.452139  0.881175  0.259440\n",
       "318   0.450966  0.883845  0.259884\n",
       "319   0.450637  0.883845  0.260329\n",
       "320   0.445874  0.883845  0.263438\n",
       "321   0.445044  0.883845  0.263883\n",
       "322   0.444240  0.883845  0.264771\n",
       "323   0.443410  0.889186  0.264771\n",
       "324   0.441121  0.889186  0.265660\n",
       "325   0.440621  0.889186  0.266548\n",
       "326   0.439491  0.889186  0.267437\n",
       "327   0.438663  0.889186  0.268325\n",
       "328   0.437034  0.889186  0.269214\n",
       "329   0.435553  0.889186  0.271879\n",
       "330   0.433927  0.889186  0.273212\n",
       "331   0.433102  0.894526  0.273656\n",
       "332   0.431489  0.894526  0.274545\n",
       "333   0.431478  0.895861  0.274545\n",
       "334   0.430825  0.895861  0.276766\n",
       "335   0.428380  0.895861  0.278543\n",
       "336   0.426760  0.895861  0.279431\n",
       "337   0.425287  0.895861  0.281653\n",
       "338   0.423671  0.895861  0.284762\n",
       "..         ...       ...       ...\n",
       "389   0.368564  0.931909  0.354065\n",
       "390   0.368255  0.931909  0.355398\n",
       "391   0.365319  0.931909  0.356286\n",
       "392   0.363786  0.931909  0.359396\n",
       "393   0.363009  0.935915  0.359396\n",
       "394   0.360865  0.935915  0.362061\n",
       "395   0.360091  0.938585  0.362950\n",
       "396   0.359341  0.938585  0.363394\n",
       "397   0.358568  0.938585  0.365171\n",
       "398   0.357047  0.938585  0.365615\n",
       "399   0.355666  0.938585  0.368281\n",
       "400   0.354151  0.938585  0.373167\n",
       "401   0.353383  0.946595  0.373167\n",
       "402   0.352649  0.947931  0.373167\n",
       "403   0.351872  0.947931  0.373612\n",
       "404   0.351265  0.947931  0.375389\n",
       "405   0.350500  0.947931  0.378498\n",
       "406   0.348995  0.947931  0.378943\n",
       "407   0.346128  0.949266  0.383829\n",
       "408   0.344632  0.949266  0.386051\n",
       "409   0.342382  0.951936  0.386051\n",
       "410   0.341783  0.951936  0.388716\n",
       "411   0.341027  0.951936  0.389605\n",
       "412   0.338070  0.951936  0.391382\n",
       "413   0.336713  0.951936  0.394047\n",
       "414   0.335237  0.951936  0.397157\n",
       "415   0.333764  0.953271  0.397601\n",
       "416   0.333027  0.953271  0.398045\n",
       "417   0.332426  0.953271  0.399378\n",
       "418   0.331681  0.953271  0.399822\n",
       "\n",
       "[110 rows x 3 columns]"
      ]
     },
     "execution_count": 30,
     "metadata": {},
     "output_type": "execute_result"
    }
   ],
   "source": [
    "#Finding Threshold Value where \"False Positive\" is less\n",
    "threshold_data = pd.DataFrame({\"Threshold\": threshold, \"TPR\": tpr, \"FPR\":fpr})\n",
    "threshold_data[(threshold_data[\"TPR\"].between(0.95,0.85)) |(threshold_data[\"FPR\"].between(0.25,0.4))]"
   ]
  },
  {
   "cell_type": "code",
   "execution_count": 31,
   "metadata": {},
   "outputs": [
    {
     "name": "stdout",
     "output_type": "stream",
     "text": [
      "[[1715  536]\n",
      " [ 133  616]]\n"
     ]
    },
    {
     "data": {
      "text/plain": [
       "0.777"
      ]
     },
     "execution_count": 31,
     "metadata": {},
     "output_type": "execute_result"
    }
   ],
   "source": [
    "#FIXING THE THRESHOLD VALUE FOR PARTICULAR CASE BY USING BINARIZER CALSSIFIER\n",
    "from sklearn.preprocessing import binarize\n",
    "lr_pred_class = binarize([lr_proba], threshold = 0.48)[0]\n",
    "print(confusion_matrix(y_test, lr_pred_class))\n",
    "accuracy_score(y_test, lr_pred_class)"
   ]
  },
  {
   "cell_type": "markdown",
   "metadata": {},
   "source": [
    "# NAIVE BAYES MODEL\n"
   ]
  },
  {
   "cell_type": "code",
   "execution_count": 32,
   "metadata": {},
   "outputs": [
    {
     "data": {
      "text/plain": [
       "GaussianNB(priors=None, var_smoothing=1e-09)"
      ]
     },
     "execution_count": 32,
     "metadata": {},
     "output_type": "execute_result"
    }
   ],
   "source": [
    "from sklearn.naive_bayes import GaussianNB\n",
    "gb = GaussianNB()\n",
    "gb.fit(x_train, y_train)"
   ]
  },
  {
   "cell_type": "code",
   "execution_count": 33,
   "metadata": {},
   "outputs": [],
   "source": [
    "gb_pred = gb.predict(x_test)"
   ]
  },
  {
   "cell_type": "code",
   "execution_count": 34,
   "metadata": {},
   "outputs": [
    {
     "name": "stdout",
     "output_type": "stream",
     "text": [
      "Confusion_Matrix :\n",
      " [[2025  226]\n",
      " [ 423  326]]\n",
      "\n",
      "\n",
      "Accuracy:\n",
      " 0.7836666666666666\n",
      "\n",
      "\n",
      "Classification Report:\n",
      "               precision    recall  f1-score   support\n",
      "\n",
      "           0       0.83      0.90      0.86      2251\n",
      "           1       0.59      0.44      0.50       749\n",
      "\n",
      "   micro avg       0.78      0.78      0.78      3000\n",
      "   macro avg       0.71      0.67      0.68      3000\n",
      "weighted avg       0.77      0.78      0.77      3000\n",
      "\n"
     ]
    }
   ],
   "source": [
    "print(\"Confusion_Matrix :\\n\", confusion_matrix(y_test, gb_pred))\n",
    "print(\"\\n\")\n",
    "print(\"Accuracy:\\n\",accuracy_score(y_test, gb_pred))\n",
    "print(\"\\n\")\n",
    "print(\"Classification Report:\\n\", classification_report(y_test, gb_pred))"
   ]
  },
  {
   "cell_type": "code",
   "execution_count": 35,
   "metadata": {},
   "outputs": [
    {
     "data": {
      "text/plain": [
       "0.837798836179618"
      ]
     },
     "execution_count": 35,
     "metadata": {},
     "output_type": "execute_result"
    }
   ],
   "source": [
    "#ROC AND AUC CURVE\n",
    "gb_proba = gb.predict_proba(x_test)[:,1]\n",
    "fpr, tpr, threshold = roc_curve(y_test, gb_proba)\n",
    "auc_score = auc(fpr, tpr)\n",
    "auc_score"
   ]
  },
  {
   "cell_type": "code",
   "execution_count": 36,
   "metadata": {},
   "outputs": [
    {
     "data": {
      "text/plain": [
       "<matplotlib.legend.Legend at 0x1e4bef3f630>"
      ]
     },
     "execution_count": 36,
     "metadata": {},
     "output_type": "execute_result"
    },
    {
     "data": {
      "image/png": "[encoded data removed]",
      "text/plain": [
       "<Figure size 432x288 with 1 Axes>"
      ]
     },
     "metadata": {
      "needs_background": "light"
     },
     "output_type": "display_data"
    }
   ],
   "source": [
    "#PLotting roc_curve\n",
    "baseline_x =[0,0]\n",
    "baseline_y =[1,1]\n",
    "plt.title(\"Naive Base Classifier ROC\")\n",
    "plt.plot(fpr, tpr,\"b\",label = \"AUC = %.2f\" % auc_score)\n",
    "plt.plot([0,1], \"r--\",label = \"Baseline\")\n",
    "plt.legend()"
   ]
  },
  {
   "cell_type": "markdown",
   "metadata": {},
   "source": [
    "# DECISION TREE CLASSIFIER"
   ]
  },
  {
   "cell_type": "code",
   "execution_count": 37,
   "metadata": {},
   "outputs": [
    {
     "data": {
      "text/plain": [
       "DecisionTreeClassifier(class_weight=None, criterion='gini', max_depth=None,\n",
       "            max_features=None, max_leaf_nodes=None,\n",
       "            min_impurity_decrease=0.0, min_impurity_split=None,\n",
       "            min_samples_leaf=1, min_samples_split=2,\n",
       "            min_weight_fraction_leaf=0.0, presort=False, random_state=None,\n",
       "            splitter='best')"
      ]
     },
     "execution_count": 37,
     "metadata": {},
     "output_type": "execute_result"
    }
   ],
   "source": [
    "from sklearn.tree import DecisionTreeClassifier\n",
    "dtc = DecisionTreeClassifier()\n",
    "dtc.fit(x_train, y_train)\n"
   ]
  },
  {
   "cell_type": "code",
   "execution_count": 38,
   "metadata": {},
   "outputs": [],
   "source": [
    "dtc_pred = dtc.predict(x_test)"
   ]
  },
  {
   "cell_type": "code",
   "execution_count": 39,
   "metadata": {},
   "outputs": [
    {
     "name": "stdout",
     "output_type": "stream",
     "text": [
      "Confusion_Matrix :\n",
      " [[2195   56]\n",
      " [  72  677]]\n",
      "\n",
      "\n",
      "Accuracy:\n",
      " 0.9573333333333334\n",
      "\n",
      "\n",
      "Classification Report:\n",
      "               precision    recall  f1-score   support\n",
      "\n",
      "           0       0.97      0.98      0.97      2251\n",
      "           1       0.92      0.90      0.91       749\n",
      "\n",
      "   micro avg       0.96      0.96      0.96      3000\n",
      "   macro avg       0.95      0.94      0.94      3000\n",
      "weighted avg       0.96      0.96      0.96      3000\n",
      "\n"
     ]
    }
   ],
   "source": [
    "print(\"Confusion_Matrix :\\n\", confusion_matrix(y_test, dtc_pred))\n",
    "print(\"\\n\")\n",
    "print(\"Accuracy:\\n\",accuracy_score(y_test, dtc_pred))\n",
    "print(\"\\n\")\n",
    "print(\"Classification Report:\\n\", classification_report(y_test, dtc_pred))"
   ]
  },
  {
   "cell_type": "code",
   "execution_count": 40,
   "metadata": {},
   "outputs": [
    {
     "data": {
      "text/plain": [
       "0.9756494517493783"
      ]
     },
     "execution_count": 40,
     "metadata": {},
     "output_type": "execute_result"
    }
   ],
   "source": [
    "#ROC AND AUC CURVE\n",
    "dtc_proba = dtc.predict_proba(x_test)[:,1]\n",
    "fpr, tpr, threshold = roc_curve(y_test, dtc_proba)\n",
    "auc_score = auc(fpr, tpr)\n",
    "auc_score"
   ]
  },
  {
   "cell_type": "code",
   "execution_count": 41,
   "metadata": {},
   "outputs": [
    {
     "data": {
      "text/plain": [
       "<matplotlib.legend.Legend at 0x1e4be9a0f98>"
      ]
     },
     "execution_count": 41,
     "metadata": {},
     "output_type": "execute_result"
    },
    {
     "data": {
      "image/png": "[encoded data removed]",
      "text/plain": [
       "<Figure size 432x288 with 1 Axes>"
      ]
     },
     "metadata": {
      "needs_background": "light"
     },
     "output_type": "display_data"
    }
   ],
   "source": [
    "#PLotting roc_curve\n",
    "baseline_x =[0,0]\n",
    "baseline_y =[1,1]\n",
    "plt.title(\"Decision Tree Classifier ROC\")\n",
    "plt.plot(fpr, tpr,\"b\",label = \"AUC = %.2f\" % auc_score)\n",
    "plt.plot([0,1], \"r--\",label = \"Baseline\")\n",
    "plt.legend()"
   ]
  },
  {
   "cell_type": "markdown",
   "metadata": {},
   "source": [
    "# RANDOM FOREST CLASSIFIER"
   ]
  },
  {
   "cell_type": "code",
   "execution_count": 42,
   "metadata": {},
   "outputs": [
    {
     "name": "stderr",
     "output_type": "stream",
     "text": [
      "C:\\Users\\Pankaj\\Anaconda3\\lib\\site-packages\\sklearn\\ensemble\\forest.py:246: FutureWarning: The default value of n_estimators will change from 10 in version 0.20 to 100 in 0.22.\n",
      "  \"10 in version 0.20 to 100 in 0.22.\", FutureWarning)\n"
     ]
    },
    {
     "data": {
      "text/plain": [
       "RandomForestClassifier(bootstrap=True, class_weight=None, criterion='entropy',\n",
       "            max_depth=None, max_features='auto', max_leaf_nodes=None,\n",
       "            min_impurity_decrease=0.0, min_impurity_split=None,\n",
       "            min_samples_leaf=1, min_samples_split=2,\n",
       "            min_weight_fraction_leaf=0.0, n_estimators=10, n_jobs=None,\n",
       "            oob_score=False, random_state=None, verbose=0,\n",
       "            warm_start=False)"
      ]
     },
     "execution_count": 42,
     "metadata": {},
     "output_type": "execute_result"
    }
   ],
   "source": [
    "from sklearn.ensemble import RandomForestClassifier\n",
    "rfc = RandomForestClassifier(criterion = \"entropy\")\n",
    "rfc.fit(x_train, y_train)\n"
   ]
  },
  {
   "cell_type": "code",
   "execution_count": 43,
   "metadata": {},
   "outputs": [],
   "source": [
    "rfc_pred = rfc.predict(x_test)"
   ]
  },
  {
   "cell_type": "code",
   "execution_count": 44,
   "metadata": {},
   "outputs": [
    {
     "name": "stdout",
     "output_type": "stream",
     "text": [
      "Confusion_Matrix :\n",
      " [[2181   70]\n",
      " [  63  686]]\n",
      "\n",
      "\n",
      "Accuracy:\n",
      " 0.9556666666666667\n",
      "\n",
      "\n",
      "Classification Report:\n",
      "               precision    recall  f1-score   support\n",
      "\n",
      "           0       0.97      0.97      0.97      2251\n",
      "           1       0.91      0.92      0.91       749\n",
      "\n",
      "   micro avg       0.96      0.96      0.96      3000\n",
      "   macro avg       0.94      0.94      0.94      3000\n",
      "weighted avg       0.96      0.96      0.96      3000\n",
      "\n"
     ]
    }
   ],
   "source": [
    "print(\"Confusion_Matrix :\\n\", confusion_matrix(y_test, rfc_pred))\n",
    "print(\"\\n\")\n",
    "print(\"Accuracy:\\n\",accuracy_score(y_test, rfc_pred))\n",
    "print(\"\\n\")\n",
    "print(\"Classification Report:\\n\", classification_report(y_test, rfc_pred))"
   ]
  },
  {
   "cell_type": "code",
   "execution_count": 45,
   "metadata": {},
   "outputs": [
    {
     "data": {
      "text/plain": [
       "0.9783324308021535"
      ]
     },
     "execution_count": 45,
     "metadata": {},
     "output_type": "execute_result"
    }
   ],
   "source": [
    "#ROC AND AUC CURVE\n",
    "rfc_proba = rfc.predict_proba(x_test)[:,1]\n",
    "fpr, tpr, threshold = roc_curve(y_test, rfc_proba)\n",
    "auc_score = auc(fpr, tpr)\n",
    "auc_score"
   ]
  },
  {
   "cell_type": "code",
   "execution_count": 46,
   "metadata": {},
   "outputs": [
    {
     "data": {
      "text/plain": [
       "<matplotlib.legend.Legend at 0x1e4c003f748>"
      ]
     },
     "execution_count": 46,
     "metadata": {},
     "output_type": "execute_result"
    },
    {
     "data": {
      "image/png": "[encoded data removed]",
      "text/plain": [
       "<Figure size 432x288 with 1 Axes>"
      ]
     },
     "metadata": {
      "needs_background": "light"
     },
     "output_type": "display_data"
    }
   ],
   "source": [
    "#PLotting roc_curve\n",
    "baseline_x =[0,0]\n",
    "baseline_y =[1,1]\n",
    "plt.title(\"Random Forest Classifier ROC\")\n",
    "plt.plot(fpr, tpr,\"b\",label = \"AUC = %.2f\" % auc_score)\n",
    "plt.plot([0,1], \"r--\",label = \"Baseline\")\n",
    "plt.legend()"
   ]
  },
  {
   "cell_type": "markdown",
   "metadata": {},
   "source": [
    "# ADABOOST CLASSIFIER"
   ]
  },
  {
   "cell_type": "code",
   "execution_count": 47,
   "metadata": {},
   "outputs": [
    {
     "data": {
      "text/plain": [
       "AdaBoostClassifier(algorithm='SAMME.R', base_estimator=None,\n",
       "          learning_rate=1.0, n_estimators=50, random_state=None)"
      ]
     },
     "execution_count": 47,
     "metadata": {},
     "output_type": "execute_result"
    }
   ],
   "source": [
    "from sklearn.ensemble import AdaBoostClassifier\n",
    "abc = AdaBoostClassifier()\n",
    "abc.fit(x_train, y_train)"
   ]
  },
  {
   "cell_type": "code",
   "execution_count": 48,
   "metadata": {},
   "outputs": [],
   "source": [
    "abc_pred = abc.predict(x_test)"
   ]
  },
  {
   "cell_type": "code",
   "execution_count": 49,
   "metadata": {},
   "outputs": [
    {
     "name": "stdout",
     "output_type": "stream",
     "text": [
      "Confusion_Matrix :\n",
      " [[2171   80]\n",
      " [ 116  633]]\n",
      "\n",
      "\n",
      "Accuracy:\n",
      " 0.9346666666666666\n",
      "\n",
      "\n",
      "Classification Report:\n",
      "               precision    recall  f1-score   support\n",
      "\n",
      "           0       0.95      0.96      0.96      2251\n",
      "           1       0.89      0.85      0.87       749\n",
      "\n",
      "   micro avg       0.93      0.93      0.93      3000\n",
      "   macro avg       0.92      0.90      0.91      3000\n",
      "weighted avg       0.93      0.93      0.93      3000\n",
      "\n"
     ]
    }
   ],
   "source": [
    "print(\"Confusion_Matrix :\\n\", confusion_matrix(y_test, abc_pred))\n",
    "print(\"\\n\")\n",
    "print(\"Accuracy:\\n\",accuracy_score(y_test, abc_pred))\n",
    "print(\"\\n\")\n",
    "print(\"Classification Report:\\n\", classification_report(y_test, abc_pred))"
   ]
  },
  {
   "cell_type": "code",
   "execution_count": 50,
   "metadata": {},
   "outputs": [
    {
     "data": {
      "text/plain": [
       "0.960972693340862"
      ]
     },
     "execution_count": 50,
     "metadata": {},
     "output_type": "execute_result"
    }
   ],
   "source": [
    "#ROC AND AUC CURVE\n",
    "abc_proba = abc.predict_proba(x_test)[:,1]\n",
    "fpr, tpr, threshold = roc_curve(y_test, abc_proba)\n",
    "auc_score = auc(fpr, tpr)\n",
    "auc_score"
   ]
  },
  {
   "cell_type": "code",
   "execution_count": 51,
   "metadata": {},
   "outputs": [
    {
     "data": {
      "text/plain": [
       "<matplotlib.legend.Legend at 0x1e4c00ade80>"
      ]
     },
     "execution_count": 51,
     "metadata": {},
     "output_type": "execute_result"
    },
    {
     "data": {
      "image/png": "[encoded data removed]",
      "text/plain": [
       "<Figure size 432x288 with 1 Axes>"
      ]
     },
     "metadata": {
      "needs_background": "light"
     },
     "output_type": "display_data"
    }
   ],
   "source": [
    "#PLotting roc_curve\n",
    "baseline_x =[0,0]\n",
    "baseline_y =[1,1]\n",
    "plt.title(\"AdaBoost Classifier ROC\")\n",
    "plt.plot(fpr, tpr,\"b\",label = \"AUC = %.2f\" % auc_score)\n",
    "plt.plot([0,1], \"r--\",label = \"Baseline\")\n",
    "plt.legend()"
   ]
  },
  {
   "cell_type": "markdown",
   "metadata": {},
   "source": [
    "# XGBoost CLASSIFIER"
   ]
  },
  {
   "cell_type": "code",
   "execution_count": 52,
   "metadata": {},
   "outputs": [
    {
     "data": {
      "text/plain": [
       "XGBClassifier(base_score=0.5, booster='gbtree', colsample_bylevel=1,\n",
       "       colsample_bytree=1, gamma=0, learning_rate=0.1, max_delta_step=0,\n",
       "       max_depth=3, min_child_weight=1, missing=None, n_estimators=100,\n",
       "       n_jobs=1, nthread=None, objective='binary:logistic', random_state=0,\n",
       "       reg_alpha=0, reg_lambda=1, scale_pos_weight=1, seed=None,\n",
       "       silent=True, subsample=1)"
      ]
     },
     "execution_count": 52,
     "metadata": {},
     "output_type": "execute_result"
    }
   ],
   "source": [
    "\n",
    "from xgboost import XGBClassifier\n",
    "xgb = XGBClassifier()\n",
    "xgb.fit(x_train, y_train)"
   ]
  },
  {
   "cell_type": "code",
   "execution_count": 53,
   "metadata": {},
   "outputs": [],
   "source": [
    "xgb_pred = xgb.predict(x_test)\n"
   ]
  },
  {
   "cell_type": "code",
   "execution_count": 54,
   "metadata": {},
   "outputs": [
    {
     "name": "stdout",
     "output_type": "stream",
     "text": [
      "Confusion_Matrix :\n",
      " [[2187   64]\n",
      " [  71  678]]\n",
      "\n",
      "\n",
      "Accuracy:\n",
      " 0.955\n",
      "\n",
      "\n",
      "Classification Report:\n",
      "               precision    recall  f1-score   support\n",
      "\n",
      "           0       0.97      0.97      0.97      2251\n",
      "           1       0.91      0.91      0.91       749\n",
      "\n",
      "   micro avg       0.95      0.95      0.95      3000\n",
      "   macro avg       0.94      0.94      0.94      3000\n",
      "weighted avg       0.95      0.95      0.95      3000\n",
      "\n"
     ]
    }
   ],
   "source": [
    "print(\"Confusion_Matrix :\\n\", confusion_matrix(y_test, xgb_pred))\n",
    "print(\"\\n\")\n",
    "print(\"Accuracy:\\n\",accuracy_score(y_test, xgb_pred))\n",
    "print(\"\\n\")\n",
    "print(\"Classification Report:\\n\", classification_report(y_test, xgb_pred))"
   ]
  },
  {
   "cell_type": "code",
   "execution_count": 55,
   "metadata": {},
   "outputs": [
    {
     "data": {
      "text/plain": [
       "0.9775038419358493"
      ]
     },
     "execution_count": 55,
     "metadata": {},
     "output_type": "execute_result"
    }
   ],
   "source": [
    "#ROC AND AUC CURVE\n",
    "xgb_proba = xgb.predict_proba(x_test)[:,1]\n",
    "fpr, tpr, threshold = roc_curve(y_test, xgb_proba)\n",
    "auc_score = auc(fpr, tpr)\n",
    "auc_score"
   ]
  },
  {
   "cell_type": "code",
   "execution_count": 56,
   "metadata": {},
   "outputs": [
    {
     "data": {
      "text/plain": [
       "<matplotlib.legend.Legend at 0x1e4c0172be0>"
      ]
     },
     "execution_count": 56,
     "metadata": {},
     "output_type": "execute_result"
    },
    {
     "data": {
      "image/png": "[encoded data removed]",
      "text/plain": [
       "<Figure size 432x288 with 1 Axes>"
      ]
     },
     "metadata": {
      "needs_background": "light"
     },
     "output_type": "display_data"
    }
   ],
   "source": [
    "#PLotting roc_curve\n",
    "baseline_x =[0,0]\n",
    "baseline_y =[1,1]\n",
    "plt.title(\"XGBOOST Classifier ROC\")\n",
    "plt.plot(fpr, tpr,\"b\",label = \"AUC = %.2f\" % auc_score)\n",
    "plt.plot([0,1], \"r--\",label = \"Baseline\")\n",
    "plt.legend()"
   ]
  },
  {
   "cell_type": "markdown",
   "metadata": {},
   "source": [
    "# GRADIENT BOOSTING CLASSIFIER"
   ]
  },
  {
   "cell_type": "code",
   "execution_count": 57,
   "metadata": {},
   "outputs": [
    {
     "data": {
      "text/plain": [
       "GradientBoostingClassifier(criterion='friedman_mse', init=None,\n",
       "              learning_rate=0.1, loss='deviance', max_depth=3,\n",
       "              max_features=None, max_leaf_nodes=None,\n",
       "              min_impurity_decrease=0.0, min_impurity_split=None,\n",
       "              min_samples_leaf=1, min_samples_split=2,\n",
       "              min_weight_fraction_leaf=0.0, n_estimators=100,\n",
       "              n_iter_no_change=None, presort='auto', random_state=None,\n",
       "              subsample=1.0, tol=0.0001, validation_fraction=0.1,\n",
       "              verbose=0, warm_start=False)"
      ]
     },
     "execution_count": 57,
     "metadata": {},
     "output_type": "execute_result"
    }
   ],
   "source": [
    "from sklearn.ensemble import GradientBoostingClassifier\n",
    "gbc = GradientBoostingClassifier()\n",
    "gbc.fit(x_train, y_train)"
   ]
  },
  {
   "cell_type": "code",
   "execution_count": 58,
   "metadata": {},
   "outputs": [],
   "source": [
    "gbc_pred = gbc.predict(x_test)"
   ]
  },
  {
   "cell_type": "code",
   "execution_count": 59,
   "metadata": {},
   "outputs": [
    {
     "name": "stdout",
     "output_type": "stream",
     "text": [
      "Confusion_Matrix :\n",
      " [[2186   65]\n",
      " [  71  678]]\n",
      "\n",
      "\n",
      "Accuracy:\n",
      " 0.9546666666666667\n",
      "\n",
      "\n",
      "Classification Report:\n",
      "               precision    recall  f1-score   support\n",
      "\n",
      "           0       0.97      0.97      0.97      2251\n",
      "           1       0.91      0.91      0.91       749\n",
      "\n",
      "   micro avg       0.95      0.95      0.95      3000\n",
      "   macro avg       0.94      0.94      0.94      3000\n",
      "weighted avg       0.95      0.95      0.95      3000\n",
      "\n"
     ]
    }
   ],
   "source": [
    "print(\"Confusion_Matrix :\\n\", confusion_matrix(y_test, gbc_pred))\n",
    "print(\"\\n\")\n",
    "print(\"Accuracy:\\n\",accuracy_score(y_test, gbc_pred))\n",
    "print(\"\\n\")\n",
    "print(\"Classification Report:\\n\", classification_report(y_test, gbc_pred))"
   ]
  },
  {
   "cell_type": "code",
   "execution_count": 60,
   "metadata": {},
   "outputs": [
    {
     "data": {
      "text/plain": [
       "0.9760705670643932"
      ]
     },
     "execution_count": 60,
     "metadata": {},
     "output_type": "execute_result"
    }
   ],
   "source": [
    "#ROC AND AUC CURVE\n",
    "gbc_proba = gbc.predict_proba(x_test)[:,1]\n",
    "fpr, tpr, threshold = roc_curve(y_test, gbc_proba)\n",
    "auc_score = auc(fpr, tpr)\n",
    "auc_score"
   ]
  },
  {
   "cell_type": "code",
   "execution_count": 61,
   "metadata": {},
   "outputs": [
    {
     "data": {
      "text/plain": [
       "<matplotlib.legend.Legend at 0x1e4c0206fd0>"
      ]
     },
     "execution_count": 61,
     "metadata": {},
     "output_type": "execute_result"
    },
    {
     "data": {
      "image/png": "[encoded data removed]",
      "text/plain": [
       "<Figure size 432x288 with 1 Axes>"
      ]
     },
     "metadata": {
      "needs_background": "light"
     },
     "output_type": "display_data"
    }
   ],
   "source": [
    "#PLotting roc_curve\n",
    "baseline_x =[0,0]\n",
    "baseline_y =[1,1]\n",
    "plt.title(\"GradientBoost Classifier ROC\")\n",
    "plt.plot(fpr, tpr,\"b\",label = \"AUC = %.2f\" % auc_score)\n",
    "plt.plot([0,1], \"r--\",label = \"Baseline\")\n",
    "plt.legend()"
   ]
  },
  {
   "cell_type": "markdown",
   "metadata": {},
   "source": [
    "# APPLYING K-FOLD CROSS VALIDATION"
   ]
  },
  {
   "cell_type": "code",
   "execution_count": 62,
   "metadata": {},
   "outputs": [],
   "source": [
    "from sklearn.model_selection import cross_val_score"
   ]
  },
  {
   "cell_type": "code",
   "execution_count": 63,
   "metadata": {},
   "outputs": [
    {
     "name": "stderr",
     "output_type": "stream",
     "text": [
      "C:\\Users\\Pankaj\\Anaconda3\\lib\\site-packages\\sklearn\\linear_model\\logistic.py:433: FutureWarning: Default solver will be changed to 'lbfgs' in 0.22. Specify a solver to silence this warning.\n",
      "  FutureWarning)\n",
      "C:\\Users\\Pankaj\\Anaconda3\\lib\\site-packages\\sklearn\\linear_model\\logistic.py:433: FutureWarning: Default solver will be changed to 'lbfgs' in 0.22. Specify a solver to silence this warning.\n",
      "  FutureWarning)\n",
      "C:\\Users\\Pankaj\\Anaconda3\\lib\\site-packages\\sklearn\\linear_model\\logistic.py:433: FutureWarning: Default solver will be changed to 'lbfgs' in 0.22. Specify a solver to silence this warning.\n",
      "  FutureWarning)\n",
      "C:\\Users\\Pankaj\\Anaconda3\\lib\\site-packages\\sklearn\\linear_model\\logistic.py:433: FutureWarning: Default solver will be changed to 'lbfgs' in 0.22. Specify a solver to silence this warning.\n",
      "  FutureWarning)\n",
      "C:\\Users\\Pankaj\\Anaconda3\\lib\\site-packages\\sklearn\\linear_model\\logistic.py:433: FutureWarning: Default solver will be changed to 'lbfgs' in 0.22. Specify a solver to silence this warning.\n",
      "  FutureWarning)\n",
      "C:\\Users\\Pankaj\\Anaconda3\\lib\\site-packages\\sklearn\\linear_model\\logistic.py:433: FutureWarning: Default solver will be changed to 'lbfgs' in 0.22. Specify a solver to silence this warning.\n",
      "  FutureWarning)\n",
      "C:\\Users\\Pankaj\\Anaconda3\\lib\\site-packages\\sklearn\\linear_model\\logistic.py:433: FutureWarning: Default solver will be changed to 'lbfgs' in 0.22. Specify a solver to silence this warning.\n",
      "  FutureWarning)\n",
      "C:\\Users\\Pankaj\\Anaconda3\\lib\\site-packages\\sklearn\\linear_model\\logistic.py:433: FutureWarning: Default solver will be changed to 'lbfgs' in 0.22. Specify a solver to silence this warning.\n",
      "  FutureWarning)\n",
      "C:\\Users\\Pankaj\\Anaconda3\\lib\\site-packages\\sklearn\\linear_model\\logistic.py:433: FutureWarning: Default solver will be changed to 'lbfgs' in 0.22. Specify a solver to silence this warning.\n",
      "  FutureWarning)\n",
      "C:\\Users\\Pankaj\\Anaconda3\\lib\\site-packages\\sklearn\\linear_model\\logistic.py:433: FutureWarning: Default solver will be changed to 'lbfgs' in 0.22. Specify a solver to silence this warning.\n",
      "  FutureWarning)\n"
     ]
    }
   ],
   "source": [
    "model_list = [knn, lr,gb, dtc, rfc, abc, xgb, gbc] #LIST OF MODEL OBJECTS\n",
    "#LOOPING THROUGH EACH MODEL FOR CROSS VALIDATION\n",
    "accuracy = []\n",
    "for i in model_list:\n",
    "    accuracies =cross_val_score(estimator = i, X= x_train, y = y_train, cv = 10, scoring = \"accuracy\")\n",
    "    accuracies_mean = accuracies.mean()\n",
    "    accuracy.append(accuracies_mean)"
   ]
  },
  {
   "cell_type": "markdown",
   "metadata": {},
   "source": [
    "# MODEL AND ACCURACIES ON SINGLE DATAFRAME"
   ]
  },
  {
   "cell_type": "code",
   "execution_count": 64,
   "metadata": {},
   "outputs": [],
   "source": [
    "model = [\"KNearest Neighbors\",\"Logistic Regression\",\"Naive Bayes\", \"Decision Tree Classifier\", \"Random Forest Classifier\", \"AdaBoost Classifier\", \"XGBBOOST Classifier\", \"Gradient Boosting Classifier\"]"
   ]
  },
  {
   "cell_type": "code",
   "execution_count": 65,
   "metadata": {},
   "outputs": [],
   "source": [
    "model_accuracy = pd.DataFrame({\"Model\": model, \"Accuracies\": accuracy}).sort_values(by = \"Accuracies\",ascending = False).reset_index().drop(\"index\", axis = 1)"
   ]
  },
  {
   "cell_type": "code",
   "execution_count": 66,
   "metadata": {},
   "outputs": [
    {
     "data": {
      "text/html": [
       "<div>\n",
       "<style scoped>\n",
       "    .dataframe tbody tr th:only-of-type {\n",
       "        vertical-align: middle;\n",
       "    }\n",
       "\n",
       "    .dataframe tbody tr th {\n",
       "        vertical-align: top;\n",
       "    }\n",
       "\n",
       "    .dataframe thead th {\n",
       "        text-align: right;\n",
       "    }\n",
       "</style>\n",
       "<table border=\"1\" class=\"dataframe\">\n",
       "  <thead>\n",
       "    <tr style=\"text-align: right;\">\n",
       "      <th></th>\n",
       "      <th>Model</th>\n",
       "      <th>Accuracies</th>\n",
       "    </tr>\n",
       "  </thead>\n",
       "  <tbody>\n",
       "    <tr>\n",
       "      <th>0</th>\n",
       "      <td>Random Forest Classifier</td>\n",
       "      <td>0.951579</td>\n",
       "    </tr>\n",
       "    <tr>\n",
       "      <th>1</th>\n",
       "      <td>XGBBOOST Classifier</td>\n",
       "      <td>0.950912</td>\n",
       "    </tr>\n",
       "    <tr>\n",
       "      <th>2</th>\n",
       "      <td>Decision Tree Classifier</td>\n",
       "      <td>0.950746</td>\n",
       "    </tr>\n",
       "    <tr>\n",
       "      <th>3</th>\n",
       "      <td>Gradient Boosting Classifier</td>\n",
       "      <td>0.950246</td>\n",
       "    </tr>\n",
       "    <tr>\n",
       "      <th>4</th>\n",
       "      <td>KNearest Neighbors</td>\n",
       "      <td>0.947078</td>\n",
       "    </tr>\n",
       "    <tr>\n",
       "      <th>5</th>\n",
       "      <td>AdaBoost Classifier</td>\n",
       "      <td>0.928994</td>\n",
       "    </tr>\n",
       "    <tr>\n",
       "      <th>6</th>\n",
       "      <td>Naive Bayes</td>\n",
       "      <td>0.794314</td>\n",
       "    </tr>\n",
       "    <tr>\n",
       "      <th>7</th>\n",
       "      <td>Logistic Regression</td>\n",
       "      <td>0.766395</td>\n",
       "    </tr>\n",
       "  </tbody>\n",
       "</table>\n",
       "</div>"
      ],
      "text/plain": [
       "                          Model  Accuracies\n",
       "0      Random Forest Classifier    0.951579\n",
       "1           XGBBOOST Classifier    0.950912\n",
       "2      Decision Tree Classifier    0.950746\n",
       "3  Gradient Boosting Classifier    0.950246\n",
       "4            KNearest Neighbors    0.947078\n",
       "5           AdaBoost Classifier    0.928994\n",
       "6                   Naive Bayes    0.794314\n",
       "7           Logistic Regression    0.766395"
      ]
     },
     "execution_count": 66,
     "metadata": {},
     "output_type": "execute_result"
    }
   ],
   "source": [
    "model_accuracy"
   ]
  },
  {
   "cell_type": "markdown",
   "metadata": {},
   "source": [
    "# CONCLUSION "
   ]
  },
  {
   "cell_type": "markdown",
   "metadata": {},
   "source": [
    "## 1. BEST MODEL FOR ABOVE DATASET\n",
    "From Above dataframe i.e model_accuracies we can conclude that \"RANDOM FOREST\", \"XGBBOOST\", \"DECISION TREE\", \"GRADIENT BOOSTING\" are performing almost equal when accuracy is considered upto 2 decimal. But, Selectively we can choose \"RANDOM FOREST MODEL\" to classify the given problem because it evident that accuracy of \"RANDOM FOREST\" is more than all above mentioned algorithms and is more efficient than others as other Algorithm consumes more Resources."
   ]
  },
  {
   "cell_type": "markdown",
   "metadata": {},
   "source": [
    "## 2. COMMENTS ON ACCURACY A GOOD MEASURE OR NOT?\n",
    "   Accuracy can be misleading. For example, in a problem where there is a large class imbalance, a model can predict the value of the majority class for all predictions and achieve a high classification accuracy. In such case, we need to go for different measures techniques that are as follows:\n",
    "   \n",
    "**1.ROC CURVE:**\n",
    "From ROC curve we can find a perfect **THRESHOLD** where over **FALSE POSITIVE RATE** is minimum and **TRUE POSITIVE RATE** is maximum.Therefore, Accuracy could decrease or increase it depends upon cases after fixing the **Perfect THRESHOLD**.Hence, from here we can say that not always **Accuracy** is considered to be best estimator of a model therefore,other parameters are required to draw conclusion about **EVALUATION OF MODEL PERFORMANCE**. \n",
    "\n",
    "**2. PRECISION AND RECALL CURVE:**\n",
    "It Summarise the trade-off between the true positive rate and the positive predictive value for a predictive model using different probability thresholds. Here, we determine **THRESHOLD** based on **PRECISION AND RECALL**. Genearally, if dataset is balanced **PRECISION AND RECALL VALUES** are high and when dataset is imbalanced **PRECISION AND RECALL** would be low hence we need to consider next parameter i.e **F1-SCORE** or else we can change the THRESHOLD value according to the case and opt the best acuracy depending upon **PRECISION AND RECALL**.\n",
    "\n"
   ]
  },
  {
   "cell_type": "markdown",
   "metadata": {},
   "source": [
    "# Further Conclusion:\n",
    "ACCURACY can be misleading if the number of samples per class in your problem is unbalanced. Having a dataset with two classes only, where the first class is 90% of the data, and the second completes the remaining 10%. If the classifier predicts every sample as belonging to the first class, the accuracy reported will be of 90% but this classifier is in practice useless.\n",
    "\n",
    "With imbalanced classes, it’s easy to get a high accuracy without actually making useful predictions. So, accuracy as an evaluation metrics makes sense only if the class labels are uniformly distributed.\n",
    "\n",
    "\n",
    "\n",
    "**ROC Curves**: summarise the trade-off between the true positive rate and false positive rate for a predictive model using different probability thresholds.\n",
    "\n",
    "**Precision-Recall curves**: summarise the trade-off between the true positive rate and the positive predictive value for a predictive model using different probability thresholds."
   ]
  }
 ],
 "metadata": {
  "kernelspec": {
   "display_name": "Python 3",
   "language": "python",
   "name": "python3"
  },
  "language_info": {
   "codemirror_mode": {
    "name": "ipython",
    "version": 3
   },
   "file_extension": ".py",
   "mimetype": "text/x-python",
   "name": "python",
   "nbconvert_exporter": "python",
   "pygments_lexer": "ipython3",
   "version": "3.7.1"
  }
 },
 "nbformat": 4,
 "nbformat_minor": 2
}
