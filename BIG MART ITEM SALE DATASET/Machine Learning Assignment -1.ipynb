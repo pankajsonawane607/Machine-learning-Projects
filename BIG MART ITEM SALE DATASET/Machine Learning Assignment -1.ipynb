{
 "cells": [
  {
   "cell_type": "markdown",
   "metadata": {},
   "source": [
    "# ITEM OUTLET SALES PREDICTION"
   ]
  },
  {
   "cell_type": "code",
   "execution_count": 1,
   "metadata": {},
   "outputs": [],
   "source": [
    "#IMPORTING LIBRARIES:\n",
    "import pandas as pd\n",
    "import numpy as np\n",
    "import seaborn as sns\n",
    "import matplotlib.pyplot as plt\n",
    "%matplotlib inline\n",
    "from scipy import stats"
   ]
  },
  {
   "cell_type": "code",
   "execution_count": 2,
   "metadata": {},
   "outputs": [],
   "source": [
    "#Importing Dataset:\n",
    "data_shopping= pd.read_csv(\"Train.csv\")"
   ]
  },
  {
   "cell_type": "code",
   "execution_count": 3,
   "metadata": {},
   "outputs": [
    {
     "data": {
      "text/html": [
       "<div>\n",
       "<style scoped>\n",
       "    .dataframe tbody tr th:only-of-type {\n",
       "        vertical-align: middle;\n",
       "    }\n",
       "\n",
       "    .dataframe tbody tr th {\n",
       "        vertical-align: top;\n",
       "    }\n",
       "\n",
       "    .dataframe thead th {\n",
       "        text-align: right;\n",
       "    }\n",
       "</style>\n",
       "<table border=\"1\" class=\"dataframe\">\n",
       "  <thead>\n",
       "    <tr style=\"text-align: right;\">\n",
       "      <th></th>\n",
       "      <th>Item_Identifier</th>\n",
       "      <th>Item_Weight</th>\n",
       "      <th>Item_Fat_Content</th>\n",
       "      <th>Item_Visibility</th>\n",
       "      <th>Item_Type</th>\n",
       "      <th>Item_MRP</th>\n",
       "      <th>Outlet_Identifier</th>\n",
       "      <th>Outlet_Establishment_Year</th>\n",
       "      <th>Outlet_Size</th>\n",
       "      <th>Outlet_Location_Type</th>\n",
       "      <th>Outlet_Type</th>\n",
       "      <th>Item_Outlet_Sales</th>\n",
       "    </tr>\n",
       "  </thead>\n",
       "  <tbody>\n",
       "    <tr>\n",
       "      <th>0</th>\n",
       "      <td>FDA15</td>\n",
       "      <td>9.30</td>\n",
       "      <td>Low Fat</td>\n",
       "      <td>0.016047</td>\n",
       "      <td>Dairy</td>\n",
       "      <td>249.8092</td>\n",
       "      <td>OUT049</td>\n",
       "      <td>1999</td>\n",
       "      <td>Medium</td>\n",
       "      <td>Tier 1</td>\n",
       "      <td>Supermarket Type1</td>\n",
       "      <td>3735.1380</td>\n",
       "    </tr>\n",
       "    <tr>\n",
       "      <th>1</th>\n",
       "      <td>DRC01</td>\n",
       "      <td>5.92</td>\n",
       "      <td>Regular</td>\n",
       "      <td>0.019278</td>\n",
       "      <td>Soft Drinks</td>\n",
       "      <td>48.2692</td>\n",
       "      <td>OUT018</td>\n",
       "      <td>2009</td>\n",
       "      <td>Medium</td>\n",
       "      <td>Tier 3</td>\n",
       "      <td>Supermarket Type2</td>\n",
       "      <td>443.4228</td>\n",
       "    </tr>\n",
       "    <tr>\n",
       "      <th>2</th>\n",
       "      <td>FDN15</td>\n",
       "      <td>17.50</td>\n",
       "      <td>Low Fat</td>\n",
       "      <td>0.016760</td>\n",
       "      <td>Meat</td>\n",
       "      <td>141.6180</td>\n",
       "      <td>OUT049</td>\n",
       "      <td>1999</td>\n",
       "      <td>Medium</td>\n",
       "      <td>Tier 1</td>\n",
       "      <td>Supermarket Type1</td>\n",
       "      <td>2097.2700</td>\n",
       "    </tr>\n",
       "    <tr>\n",
       "      <th>3</th>\n",
       "      <td>FDX07</td>\n",
       "      <td>19.20</td>\n",
       "      <td>Regular</td>\n",
       "      <td>0.000000</td>\n",
       "      <td>Fruits and Vegetables</td>\n",
       "      <td>182.0950</td>\n",
       "      <td>OUT010</td>\n",
       "      <td>1998</td>\n",
       "      <td>NaN</td>\n",
       "      <td>Tier 3</td>\n",
       "      <td>Grocery Store</td>\n",
       "      <td>732.3800</td>\n",
       "    </tr>\n",
       "    <tr>\n",
       "      <th>4</th>\n",
       "      <td>NCD19</td>\n",
       "      <td>8.93</td>\n",
       "      <td>Low Fat</td>\n",
       "      <td>0.000000</td>\n",
       "      <td>Household</td>\n",
       "      <td>53.8614</td>\n",
       "      <td>OUT013</td>\n",
       "      <td>1987</td>\n",
       "      <td>High</td>\n",
       "      <td>Tier 3</td>\n",
       "      <td>Supermarket Type1</td>\n",
       "      <td>994.7052</td>\n",
       "    </tr>\n",
       "  </tbody>\n",
       "</table>\n",
       "</div>"
      ],
      "text/plain": [
       "  Item_Identifier  Item_Weight Item_Fat_Content  Item_Visibility  \\\n",
       "0           FDA15         9.30          Low Fat         0.016047   \n",
       "1           DRC01         5.92          Regular         0.019278   \n",
       "2           FDN15        17.50          Low Fat         0.016760   \n",
       "3           FDX07        19.20          Regular         0.000000   \n",
       "4           NCD19         8.93          Low Fat         0.000000   \n",
       "\n",
       "               Item_Type  Item_MRP Outlet_Identifier  \\\n",
       "0                  Dairy  249.8092            OUT049   \n",
       "1            Soft Drinks   48.2692            OUT018   \n",
       "2                   Meat  141.6180            OUT049   \n",
       "3  Fruits and Vegetables  182.0950            OUT010   \n",
       "4              Household   53.8614            OUT013   \n",
       "\n",
       "   Outlet_Establishment_Year Outlet_Size Outlet_Location_Type  \\\n",
       "0                       1999      Medium               Tier 1   \n",
       "1                       2009      Medium               Tier 3   \n",
       "2                       1999      Medium               Tier 1   \n",
       "3                       1998         NaN               Tier 3   \n",
       "4                       1987        High               Tier 3   \n",
       "\n",
       "         Outlet_Type  Item_Outlet_Sales  \n",
       "0  Supermarket Type1          3735.1380  \n",
       "1  Supermarket Type2           443.4228  \n",
       "2  Supermarket Type1          2097.2700  \n",
       "3      Grocery Store           732.3800  \n",
       "4  Supermarket Type1           994.7052  "
      ]
     },
     "execution_count": 3,
     "metadata": {},
     "output_type": "execute_result"
    }
   ],
   "source": [
    "data_shopping.head()"
   ]
  },
  {
   "cell_type": "code",
   "execution_count": 4,
   "metadata": {},
   "outputs": [],
   "source": [
    "#Making a Copy of Original Data\n",
    "data =data_shopping.copy()"
   ]
  },
  {
   "cell_type": "code",
   "execution_count": 5,
   "metadata": {},
   "outputs": [],
   "source": [
    "#Lowering the down column names\n",
    "data.columns = data.columns.str.lower()"
   ]
  },
  {
   "cell_type": "code",
   "execution_count": 6,
   "metadata": {},
   "outputs": [
    {
     "data": {
      "text/plain": [
       "item_identifier               0.000000\n",
       "item_weight                  17.165317\n",
       "item_fat_content              0.000000\n",
       "item_visibility               0.000000\n",
       "item_type                     0.000000\n",
       "item_mrp                      0.000000\n",
       "outlet_identifier             0.000000\n",
       "outlet_establishment_year     0.000000\n",
       "outlet_size                  28.276428\n",
       "outlet_location_type          0.000000\n",
       "outlet_type                   0.000000\n",
       "item_outlet_sales             0.000000\n",
       "dtype: float64"
      ]
     },
     "execution_count": 6,
     "metadata": {},
     "output_type": "execute_result"
    }
   ],
   "source": [
    "#Calculating Missing Values\n",
    "(data.isnull().sum()/len(data))*100"
   ]
  },
  {
   "cell_type": "markdown",
   "metadata": {},
   "source": [
    "## Imputation Of Missing Values in the Columns:"
   ]
  },
  {
   "cell_type": "code",
   "execution_count": 7,
   "metadata": {},
   "outputs": [],
   "source": [
    "group_mean_weight = data.pivot_table(index = [\"item_type\"], values = \"item_weight\", aggfunc = [np.mean])"
   ]
  },
  {
   "cell_type": "code",
   "execution_count": 8,
   "metadata": {},
   "outputs": [
    {
     "data": {
      "text/html": [
       "<div>\n",
       "<style scoped>\n",
       "    .dataframe tbody tr th:only-of-type {\n",
       "        vertical-align: middle;\n",
       "    }\n",
       "\n",
       "    .dataframe tbody tr th {\n",
       "        vertical-align: top;\n",
       "    }\n",
       "\n",
       "    .dataframe thead tr th {\n",
       "        text-align: left;\n",
       "    }\n",
       "\n",
       "    .dataframe thead tr:last-of-type th {\n",
       "        text-align: right;\n",
       "    }\n",
       "</style>\n",
       "<table border=\"1\" class=\"dataframe\">\n",
       "  <thead>\n",
       "    <tr>\n",
       "      <th></th>\n",
       "      <th>mean</th>\n",
       "    </tr>\n",
       "    <tr>\n",
       "      <th></th>\n",
       "      <th>item_weight</th>\n",
       "    </tr>\n",
       "    <tr>\n",
       "      <th>item_type</th>\n",
       "      <th></th>\n",
       "    </tr>\n",
       "  </thead>\n",
       "  <tbody>\n",
       "    <tr>\n",
       "      <th>Baking Goods</th>\n",
       "      <td>12.277108</td>\n",
       "    </tr>\n",
       "    <tr>\n",
       "      <th>Breads</th>\n",
       "      <td>11.346936</td>\n",
       "    </tr>\n",
       "    <tr>\n",
       "      <th>Breakfast</th>\n",
       "      <td>12.768202</td>\n",
       "    </tr>\n",
       "    <tr>\n",
       "      <th>Canned</th>\n",
       "      <td>12.305705</td>\n",
       "    </tr>\n",
       "    <tr>\n",
       "      <th>Dairy</th>\n",
       "      <td>13.426069</td>\n",
       "    </tr>\n",
       "    <tr>\n",
       "      <th>Frozen Foods</th>\n",
       "      <td>12.867061</td>\n",
       "    </tr>\n",
       "    <tr>\n",
       "      <th>Fruits and Vegetables</th>\n",
       "      <td>13.224769</td>\n",
       "    </tr>\n",
       "    <tr>\n",
       "      <th>Hard Drinks</th>\n",
       "      <td>11.400328</td>\n",
       "    </tr>\n",
       "    <tr>\n",
       "      <th>Health and Hygiene</th>\n",
       "      <td>13.142314</td>\n",
       "    </tr>\n",
       "    <tr>\n",
       "      <th>Household</th>\n",
       "      <td>13.384736</td>\n",
       "    </tr>\n",
       "    <tr>\n",
       "      <th>Meat</th>\n",
       "      <td>12.817344</td>\n",
       "    </tr>\n",
       "    <tr>\n",
       "      <th>Others</th>\n",
       "      <td>13.853285</td>\n",
       "    </tr>\n",
       "    <tr>\n",
       "      <th>Seafood</th>\n",
       "      <td>12.552843</td>\n",
       "    </tr>\n",
       "    <tr>\n",
       "      <th>Snack Foods</th>\n",
       "      <td>12.987880</td>\n",
       "    </tr>\n",
       "    <tr>\n",
       "      <th>Soft Drinks</th>\n",
       "      <td>11.847460</td>\n",
       "    </tr>\n",
       "    <tr>\n",
       "      <th>Starchy Foods</th>\n",
       "      <td>13.690731</td>\n",
       "    </tr>\n",
       "  </tbody>\n",
       "</table>\n",
       "</div>"
      ],
      "text/plain": [
       "                             mean\n",
       "                      item_weight\n",
       "item_type                        \n",
       "Baking Goods            12.277108\n",
       "Breads                  11.346936\n",
       "Breakfast               12.768202\n",
       "Canned                  12.305705\n",
       "Dairy                   13.426069\n",
       "Frozen Foods            12.867061\n",
       "Fruits and Vegetables   13.224769\n",
       "Hard Drinks             11.400328\n",
       "Health and Hygiene      13.142314\n",
       "Household               13.384736\n",
       "Meat                    12.817344\n",
       "Others                  13.853285\n",
       "Seafood                 12.552843\n",
       "Snack Foods             12.987880\n",
       "Soft Drinks             11.847460\n",
       "Starchy Foods           13.690731"
      ]
     },
     "execution_count": 8,
     "metadata": {},
     "output_type": "execute_result"
    }
   ],
   "source": [
    "group_mean_weight"
   ]
  },
  {
   "cell_type": "code",
   "execution_count": 9,
   "metadata": {},
   "outputs": [],
   "source": [
    "mean_weight = group_mean_weight.iloc[:,[0][0]]"
   ]
  },
  {
   "cell_type": "code",
   "execution_count": 10,
   "metadata": {},
   "outputs": [
    {
     "data": {
      "text/plain": [
       "item_type\n",
       "Baking Goods             12.277108\n",
       "Breads                   11.346936\n",
       "Breakfast                12.768202\n",
       "Canned                   12.305705\n",
       "Dairy                    13.426069\n",
       "Frozen Foods             12.867061\n",
       "Fruits and Vegetables    13.224769\n",
       "Hard Drinks              11.400328\n",
       "Health and Hygiene       13.142314\n",
       "Household                13.384736\n",
       "Meat                     12.817344\n",
       "Others                   13.853285\n",
       "Seafood                  12.552843\n",
       "Snack Foods              12.987880\n",
       "Soft Drinks              11.847460\n",
       "Starchy Foods            13.690731\n",
       "Name: (mean, item_weight), dtype: float64"
      ]
     },
     "execution_count": 10,
     "metadata": {},
     "output_type": "execute_result"
    }
   ],
   "source": [
    "mean_weight"
   ]
  },
  {
   "cell_type": "code",
   "execution_count": 11,
   "metadata": {},
   "outputs": [],
   "source": [
    "# Function to impute Missing Value in item_weight column:\n",
    "\n",
    "def missing_value(cols):\n",
    "    item_type = cols[0]\n",
    "    item_weight =cols[1]\n",
    "    if pd.isnull(item_weight):\n",
    "        if item_type == \"Baking Goods\":\n",
    "            return 12.277\n",
    "        elif item_type == \"Breads\":\n",
    "            return 11.347\n",
    "        elif item_type == \"Breakfast\":\n",
    "            return 12.768\n",
    "        elif item_type == \"Canned\":\n",
    "            return 12.30\n",
    "        elif item_type == \"Dairy\":\n",
    "            return 13.42\n",
    "        elif item_type == \"Frozen Foods\":\n",
    "            return  12.867061\n",
    "        elif item_type == \"Fruits and Vegetables\":\n",
    "            return 13.224769\n",
    "        elif item_type == \"Hard Drinks\":\n",
    "            return 11.400328\n",
    "        elif item_type == \"Health and Hygiene\":\n",
    "            return 13.142314\n",
    "        elif item_type == \"Household\":\n",
    "            return 13.384736\n",
    "        elif item_type == \"Meat\":\n",
    "            return 12.817344\n",
    "        elif item_type == \"Others\":\n",
    "            return 13.853285\n",
    "        elif item_type == \"Seafood\":\n",
    "            return 12.552843\n",
    "        elif item_type == \"Snack Foods\":\n",
    "            return 12.987880\n",
    "        elif item_type == \"Soft Drinks\":\n",
    "            return 11.847460\n",
    "        elif item_type == \"Starchy Foods\":\n",
    "            return 13.690731\n",
    "    return item_weight   \n",
    "        \n",
    "       \n",
    "            \n",
    "            \n",
    "            \n",
    "            "
   ]
  },
  {
   "cell_type": "code",
   "execution_count": 12,
   "metadata": {},
   "outputs": [],
   "source": [
    "#Imputing the missing value by using defined function\n",
    "data[\"item_weight\"] = data[[\"item_type\",\"item_weight\"]].apply(missing_value, axis = 1)"
   ]
  },
  {
   "cell_type": "code",
   "execution_count": 13,
   "metadata": {},
   "outputs": [
    {
     "data": {
      "text/html": [
       "<div>\n",
       "<style scoped>\n",
       "    .dataframe tbody tr th:only-of-type {\n",
       "        vertical-align: middle;\n",
       "    }\n",
       "\n",
       "    .dataframe tbody tr th {\n",
       "        vertical-align: top;\n",
       "    }\n",
       "\n",
       "    .dataframe thead th {\n",
       "        text-align: right;\n",
       "    }\n",
       "</style>\n",
       "<table border=\"1\" class=\"dataframe\">\n",
       "  <thead>\n",
       "    <tr style=\"text-align: right;\">\n",
       "      <th></th>\n",
       "      <th>item_identifier</th>\n",
       "      <th>item_weight</th>\n",
       "      <th>item_fat_content</th>\n",
       "      <th>item_visibility</th>\n",
       "      <th>item_type</th>\n",
       "      <th>item_mrp</th>\n",
       "      <th>outlet_identifier</th>\n",
       "      <th>outlet_establishment_year</th>\n",
       "      <th>outlet_size</th>\n",
       "      <th>outlet_location_type</th>\n",
       "      <th>outlet_type</th>\n",
       "      <th>item_outlet_sales</th>\n",
       "    </tr>\n",
       "  </thead>\n",
       "  <tbody>\n",
       "    <tr>\n",
       "      <th>0</th>\n",
       "      <td>FDA15</td>\n",
       "      <td>9.30</td>\n",
       "      <td>Low Fat</td>\n",
       "      <td>0.016047</td>\n",
       "      <td>Dairy</td>\n",
       "      <td>249.8092</td>\n",
       "      <td>OUT049</td>\n",
       "      <td>1999</td>\n",
       "      <td>Medium</td>\n",
       "      <td>Tier 1</td>\n",
       "      <td>Supermarket Type1</td>\n",
       "      <td>3735.1380</td>\n",
       "    </tr>\n",
       "    <tr>\n",
       "      <th>1</th>\n",
       "      <td>DRC01</td>\n",
       "      <td>5.92</td>\n",
       "      <td>Regular</td>\n",
       "      <td>0.019278</td>\n",
       "      <td>Soft Drinks</td>\n",
       "      <td>48.2692</td>\n",
       "      <td>OUT018</td>\n",
       "      <td>2009</td>\n",
       "      <td>Medium</td>\n",
       "      <td>Tier 3</td>\n",
       "      <td>Supermarket Type2</td>\n",
       "      <td>443.4228</td>\n",
       "    </tr>\n",
       "    <tr>\n",
       "      <th>2</th>\n",
       "      <td>FDN15</td>\n",
       "      <td>17.50</td>\n",
       "      <td>Low Fat</td>\n",
       "      <td>0.016760</td>\n",
       "      <td>Meat</td>\n",
       "      <td>141.6180</td>\n",
       "      <td>OUT049</td>\n",
       "      <td>1999</td>\n",
       "      <td>Medium</td>\n",
       "      <td>Tier 1</td>\n",
       "      <td>Supermarket Type1</td>\n",
       "      <td>2097.2700</td>\n",
       "    </tr>\n",
       "    <tr>\n",
       "      <th>3</th>\n",
       "      <td>FDX07</td>\n",
       "      <td>19.20</td>\n",
       "      <td>Regular</td>\n",
       "      <td>0.000000</td>\n",
       "      <td>Fruits and Vegetables</td>\n",
       "      <td>182.0950</td>\n",
       "      <td>OUT010</td>\n",
       "      <td>1998</td>\n",
       "      <td>NaN</td>\n",
       "      <td>Tier 3</td>\n",
       "      <td>Grocery Store</td>\n",
       "      <td>732.3800</td>\n",
       "    </tr>\n",
       "    <tr>\n",
       "      <th>4</th>\n",
       "      <td>NCD19</td>\n",
       "      <td>8.93</td>\n",
       "      <td>Low Fat</td>\n",
       "      <td>0.000000</td>\n",
       "      <td>Household</td>\n",
       "      <td>53.8614</td>\n",
       "      <td>OUT013</td>\n",
       "      <td>1987</td>\n",
       "      <td>High</td>\n",
       "      <td>Tier 3</td>\n",
       "      <td>Supermarket Type1</td>\n",
       "      <td>994.7052</td>\n",
       "    </tr>\n",
       "  </tbody>\n",
       "</table>\n",
       "</div>"
      ],
      "text/plain": [
       "  item_identifier  item_weight item_fat_content  item_visibility  \\\n",
       "0           FDA15         9.30          Low Fat         0.016047   \n",
       "1           DRC01         5.92          Regular         0.019278   \n",
       "2           FDN15        17.50          Low Fat         0.016760   \n",
       "3           FDX07        19.20          Regular         0.000000   \n",
       "4           NCD19         8.93          Low Fat         0.000000   \n",
       "\n",
       "               item_type  item_mrp outlet_identifier  \\\n",
       "0                  Dairy  249.8092            OUT049   \n",
       "1            Soft Drinks   48.2692            OUT018   \n",
       "2                   Meat  141.6180            OUT049   \n",
       "3  Fruits and Vegetables  182.0950            OUT010   \n",
       "4              Household   53.8614            OUT013   \n",
       "\n",
       "   outlet_establishment_year outlet_size outlet_location_type  \\\n",
       "0                       1999      Medium               Tier 1   \n",
       "1                       2009      Medium               Tier 3   \n",
       "2                       1999      Medium               Tier 1   \n",
       "3                       1998         NaN               Tier 3   \n",
       "4                       1987        High               Tier 3   \n",
       "\n",
       "         outlet_type  item_outlet_sales  \n",
       "0  Supermarket Type1          3735.1380  \n",
       "1  Supermarket Type2           443.4228  \n",
       "2  Supermarket Type1          2097.2700  \n",
       "3      Grocery Store           732.3800  \n",
       "4  Supermarket Type1           994.7052  "
      ]
     },
     "execution_count": 13,
     "metadata": {},
     "output_type": "execute_result"
    }
   ],
   "source": [
    "data.head()"
   ]
  },
  {
   "cell_type": "markdown",
   "metadata": {},
   "source": [
    "## DATA UNDERSTANDING THROUGH VISUALIZATION"
   ]
  },
  {
   "cell_type": "code",
   "execution_count": 14,
   "metadata": {},
   "outputs": [
    {
     "data": {
      "text/plain": [
       "(array([0, 1, 2, 3]), <a list of 4 Text xticklabel objects>)"
      ]
     },
     "execution_count": 14,
     "metadata": {},
     "output_type": "execute_result"
    },
    {
     "data": {
      "image/png": "[encoded data removed]",
      "text/plain": [
       "<Figure size 432x288 with 1 Axes>"
      ]
     },
     "metadata": {
      "needs_background": "light"
     },
     "output_type": "display_data"
    }
   ],
   "source": [
    "#FINDING FREQUENCY COUNT OF OUTLET TYPE\n",
    "sns.countplot(data = data, x = \"outlet_type\",hue = \"outlet_size\")\n",
    "plt.xticks(rotation =90)"
   ]
  },
  {
   "cell_type": "code",
   "execution_count": 15,
   "metadata": {},
   "outputs": [],
   "source": [
    "# Function for Imputing Missing value in Outlet_Size column:\n",
    "\n",
    "def impute_size(cols):\n",
    "    size = cols[0]\n",
    "    ot_type = cols[1]\n",
    "    if pd.isnull(size):\n",
    "        if ot_type == \"Supermarket Type1\":\n",
    "            return \"Small\"\n",
    "        elif ot_type == \"Supermarket Type2\":\n",
    "            return \"Medium\"\n",
    "        elif ot_type == \"Grocery Store\":\n",
    "            return \"Small\"\n",
    "        elif ot_type == \"Supermarket Type3\":\n",
    "            return \"Medium\"\n",
    "    return size    "
   ]
  },
  {
   "cell_type": "code",
   "execution_count": 16,
   "metadata": {},
   "outputs": [],
   "source": [
    "#USING ABOVE DEFINED FUNCTION IMPUTE MISSING VALUES IN OUTLET SIZE COLUMNS\n",
    "data[\"outlet_size\"] = data[[\"outlet_size\",\"outlet_type\"]].apply(impute_size, axis = 1)"
   ]
  },
  {
   "cell_type": "markdown",
   "metadata": {},
   "source": [
    "**While exploring the item_fat_content, we founded \"4\" different unique values.**\n",
    "Following ARE:\n",
    "low fat - represent LOW FAT\n",
    "reg - represent regular"
   ]
  },
  {
   "cell_type": "code",
   "execution_count": 17,
   "metadata": {
    "scrolled": false
   },
   "outputs": [
    {
     "data": {
      "text/plain": [
       "array(['Low Fat', 'Regular', 'low fat', 'LF', 'reg'], dtype=object)"
      ]
     },
     "execution_count": 17,
     "metadata": {},
     "output_type": "execute_result"
    }
   ],
   "source": [
    "data[\"item_fat_content\"].unique()"
   ]
  },
  {
   "cell_type": "code",
   "execution_count": 18,
   "metadata": {},
   "outputs": [],
   "source": [
    "data[\"item_fat_content\"] = data[\"item_fat_content\"].str.replace(\"LF\", \"low fat\").str.replace(\"reg\", \"regular\").str.lower()"
   ]
  },
  {
   "cell_type": "code",
   "execution_count": 19,
   "metadata": {},
   "outputs": [
    {
     "data": {
      "text/plain": [
       "array(['low fat', 'regular'], dtype=object)"
      ]
     },
     "execution_count": 19,
     "metadata": {},
     "output_type": "execute_result"
    }
   ],
   "source": [
    "data[\"item_fat_content\"].unique()"
   ]
  },
  {
   "cell_type": "code",
   "execution_count": 20,
   "metadata": {},
   "outputs": [
    {
     "data": {
      "text/html": [
       "<div>\n",
       "<style scoped>\n",
       "    .dataframe tbody tr th:only-of-type {\n",
       "        vertical-align: middle;\n",
       "    }\n",
       "\n",
       "    .dataframe tbody tr th {\n",
       "        vertical-align: top;\n",
       "    }\n",
       "\n",
       "    .dataframe thead th {\n",
       "        text-align: right;\n",
       "    }\n",
       "</style>\n",
       "<table border=\"1\" class=\"dataframe\">\n",
       "  <thead>\n",
       "    <tr style=\"text-align: right;\">\n",
       "      <th></th>\n",
       "      <th>item_identifier</th>\n",
       "      <th>item_weight</th>\n",
       "      <th>item_fat_content</th>\n",
       "      <th>item_visibility</th>\n",
       "      <th>item_type</th>\n",
       "      <th>item_mrp</th>\n",
       "      <th>outlet_identifier</th>\n",
       "      <th>outlet_establishment_year</th>\n",
       "      <th>outlet_size</th>\n",
       "      <th>outlet_location_type</th>\n",
       "      <th>outlet_type</th>\n",
       "      <th>item_outlet_sales</th>\n",
       "    </tr>\n",
       "  </thead>\n",
       "  <tbody>\n",
       "    <tr>\n",
       "      <th>0</th>\n",
       "      <td>FDA15</td>\n",
       "      <td>9.30</td>\n",
       "      <td>low fat</td>\n",
       "      <td>0.016047</td>\n",
       "      <td>Dairy</td>\n",
       "      <td>249.8092</td>\n",
       "      <td>OUT049</td>\n",
       "      <td>1999</td>\n",
       "      <td>Medium</td>\n",
       "      <td>Tier 1</td>\n",
       "      <td>Supermarket Type1</td>\n",
       "      <td>3735.1380</td>\n",
       "    </tr>\n",
       "    <tr>\n",
       "      <th>1</th>\n",
       "      <td>DRC01</td>\n",
       "      <td>5.92</td>\n",
       "      <td>regular</td>\n",
       "      <td>0.019278</td>\n",
       "      <td>Soft Drinks</td>\n",
       "      <td>48.2692</td>\n",
       "      <td>OUT018</td>\n",
       "      <td>2009</td>\n",
       "      <td>Medium</td>\n",
       "      <td>Tier 3</td>\n",
       "      <td>Supermarket Type2</td>\n",
       "      <td>443.4228</td>\n",
       "    </tr>\n",
       "    <tr>\n",
       "      <th>2</th>\n",
       "      <td>FDN15</td>\n",
       "      <td>17.50</td>\n",
       "      <td>low fat</td>\n",
       "      <td>0.016760</td>\n",
       "      <td>Meat</td>\n",
       "      <td>141.6180</td>\n",
       "      <td>OUT049</td>\n",
       "      <td>1999</td>\n",
       "      <td>Medium</td>\n",
       "      <td>Tier 1</td>\n",
       "      <td>Supermarket Type1</td>\n",
       "      <td>2097.2700</td>\n",
       "    </tr>\n",
       "    <tr>\n",
       "      <th>3</th>\n",
       "      <td>FDX07</td>\n",
       "      <td>19.20</td>\n",
       "      <td>regular</td>\n",
       "      <td>0.000000</td>\n",
       "      <td>Fruits and Vegetables</td>\n",
       "      <td>182.0950</td>\n",
       "      <td>OUT010</td>\n",
       "      <td>1998</td>\n",
       "      <td>Small</td>\n",
       "      <td>Tier 3</td>\n",
       "      <td>Grocery Store</td>\n",
       "      <td>732.3800</td>\n",
       "    </tr>\n",
       "    <tr>\n",
       "      <th>4</th>\n",
       "      <td>NCD19</td>\n",
       "      <td>8.93</td>\n",
       "      <td>low fat</td>\n",
       "      <td>0.000000</td>\n",
       "      <td>Household</td>\n",
       "      <td>53.8614</td>\n",
       "      <td>OUT013</td>\n",
       "      <td>1987</td>\n",
       "      <td>High</td>\n",
       "      <td>Tier 3</td>\n",
       "      <td>Supermarket Type1</td>\n",
       "      <td>994.7052</td>\n",
       "    </tr>\n",
       "  </tbody>\n",
       "</table>\n",
       "</div>"
      ],
      "text/plain": [
       "  item_identifier  item_weight item_fat_content  item_visibility  \\\n",
       "0           FDA15         9.30          low fat         0.016047   \n",
       "1           DRC01         5.92          regular         0.019278   \n",
       "2           FDN15        17.50          low fat         0.016760   \n",
       "3           FDX07        19.20          regular         0.000000   \n",
       "4           NCD19         8.93          low fat         0.000000   \n",
       "\n",
       "               item_type  item_mrp outlet_identifier  \\\n",
       "0                  Dairy  249.8092            OUT049   \n",
       "1            Soft Drinks   48.2692            OUT018   \n",
       "2                   Meat  141.6180            OUT049   \n",
       "3  Fruits and Vegetables  182.0950            OUT010   \n",
       "4              Household   53.8614            OUT013   \n",
       "\n",
       "   outlet_establishment_year outlet_size outlet_location_type  \\\n",
       "0                       1999      Medium               Tier 1   \n",
       "1                       2009      Medium               Tier 3   \n",
       "2                       1999      Medium               Tier 1   \n",
       "3                       1998       Small               Tier 3   \n",
       "4                       1987        High               Tier 3   \n",
       "\n",
       "         outlet_type  item_outlet_sales  \n",
       "0  Supermarket Type1          3735.1380  \n",
       "1  Supermarket Type2           443.4228  \n",
       "2  Supermarket Type1          2097.2700  \n",
       "3      Grocery Store           732.3800  \n",
       "4  Supermarket Type1           994.7052  "
      ]
     },
     "execution_count": 20,
     "metadata": {},
     "output_type": "execute_result"
    }
   ],
   "source": [
    "data.head()"
   ]
  },
  {
   "cell_type": "markdown",
   "metadata": {},
   "source": [
    "---\n",
    "While exploring the **\"item_visibility\"** column, We Found many items visibility as **0.0** which is impossible. Hence, imputing these **0.0** values with **MEAN** of respective item of visibility."
   ]
  },
  {
   "cell_type": "code",
   "execution_count": 21,
   "metadata": {},
   "outputs": [],
   "source": [
    "mean_visibility = data.pivot_table(index = \"item_identifier\",  values = \"item_visibility\")"
   ]
  },
  {
   "cell_type": "code",
   "execution_count": 22,
   "metadata": {},
   "outputs": [],
   "source": [
    "data.loc[(data[\"item_visibility\"] == 0.0), \"item_visibility\"] = data.loc[(data[\"item_visibility\"] == 0.0), \"item_identifier\"].apply(lambda x : mean_visibility.at[x, \"item_visibility\"])\n",
    "                                                                                        "
   ]
  },
  {
   "cell_type": "code",
   "execution_count": 23,
   "metadata": {},
   "outputs": [
    {
     "name": "stderr",
     "output_type": "stream",
     "text": [
      "C:\\Users\\Pankaj\\Anaconda3\\lib\\site-packages\\scipy\\stats\\stats.py:1713: FutureWarning: Using a non-tuple sequence for multidimensional indexing is deprecated; use `arr[tuple(seq)]` instead of `arr[seq]`. In the future this will be interpreted as an array index, `arr[np.array(seq)]`, which will result either in an error or a different result.\n",
      "  return np.add.reduce(sorted[indexer] * weights, axis=axis) / sumval\n"
     ]
    },
    {
     "data": {
      "text/plain": [
       "<matplotlib.axes._subplots.AxesSubplot at 0x264770e6be0>"
      ]
     },
     "execution_count": 23,
     "metadata": {},
     "output_type": "execute_result"
    },
    {
     "data": {
      "image/png": "[encoded data removed]",
      "text/plain": [
       "<Figure size 720x360 with 1 Axes>"
      ]
     },
     "metadata": {
      "needs_background": "light"
     },
     "output_type": "display_data"
    }
   ],
   "source": [
    "#understanding outlet_identifier depending on item_outlet_sales\n",
    "import matplotlib.pyplot as plt\n",
    "plt.figure(figsize = (10,5))\n",
    "sns.barplot(data = data, x = \"outlet_identifier\", y= \"item_outlet_sales\")"
   ]
  },
  {
   "cell_type": "code",
   "execution_count": 24,
   "metadata": {},
   "outputs": [
    {
     "data": {
      "text/plain": [
       "Text(0, 0.5, 'Mean of Item outlet sales')"
      ]
     },
     "execution_count": 24,
     "metadata": {},
     "output_type": "execute_result"
    },
    {
     "data": {
      "image/png": "[encoded data removed]",
      "text/plain": [
       "<Figure size 432x288 with 1 Axes>"
      ]
     },
     "metadata": {
      "needs_background": "light"
     },
     "output_type": "display_data"
    }
   ],
   "source": [
    "#Understanding to ultet_establishment per year with respective to mean of each respective year item outlet sales\n",
    "data.groupby(\"outlet_establishment_year\")[\"item_outlet_sales\"].mean().plot.bar()\n",
    "plt.ylabel(\"Mean of Item outlet sales\")"
   ]
  },
  {
   "cell_type": "code",
   "execution_count": 25,
   "metadata": {},
   "outputs": [
    {
     "data": {
      "text/plain": [
       "Text(0, 0.5, 'Mean of Item outlet sales')"
      ]
     },
     "execution_count": 25,
     "metadata": {},
     "output_type": "execute_result"
    },
    {
     "data": {
      "image/png": "[encoded data removed]",
      "text/plain": [
       "<Figure size 432x288 with 1 Axes>"
      ]
     },
     "metadata": {
      "needs_background": "light"
     },
     "output_type": "display_data"
    }
   ],
   "source": [
    "#Understanding to item_type per year with respective to mean of each respective year item outlet sales\n",
    "data.groupby(\"item_type\")[\"item_outlet_sales\"].mean().plot.bar()\n",
    "plt.ylabel(\"Mean of Item outlet sales\")"
   ]
  },
  {
   "cell_type": "code",
   "execution_count": 26,
   "metadata": {},
   "outputs": [
    {
     "data": {
      "text/plain": [
       "Text(0, 0.5, 'Mean of Item outlet sales')"
      ]
     },
     "execution_count": 26,
     "metadata": {},
     "output_type": "execute_result"
    },
    {
     "data": {
      "image/png": "[encoded data removed]",
      "text/plain": [
       "<Figure size 432x288 with 1 Axes>"
      ]
     },
     "metadata": {
      "needs_background": "light"
     },
     "output_type": "display_data"
    }
   ],
   "source": [
    "#Understanding to outlet_type per year with respective to mean of each respective year item outlet sales\n",
    "data.groupby(\"outlet_type\")[\"item_outlet_sales\"].mean().plot.bar()\n",
    "plt.ylabel(\"Mean of Item outlet sales\")"
   ]
  },
  {
   "cell_type": "code",
   "execution_count": 27,
   "metadata": {},
   "outputs": [
    {
     "data": {
      "text/html": [
       "<div>\n",
       "<style scoped>\n",
       "    .dataframe tbody tr th:only-of-type {\n",
       "        vertical-align: middle;\n",
       "    }\n",
       "\n",
       "    .dataframe tbody tr th {\n",
       "        vertical-align: top;\n",
       "    }\n",
       "\n",
       "    .dataframe thead th {\n",
       "        text-align: right;\n",
       "    }\n",
       "</style>\n",
       "<table border=\"1\" class=\"dataframe\">\n",
       "  <thead>\n",
       "    <tr style=\"text-align: right;\">\n",
       "      <th></th>\n",
       "      <th>item_identifier</th>\n",
       "      <th>item_weight</th>\n",
       "      <th>item_fat_content</th>\n",
       "      <th>item_visibility</th>\n",
       "      <th>item_type</th>\n",
       "      <th>item_mrp</th>\n",
       "      <th>outlet_identifier</th>\n",
       "      <th>outlet_establishment_year</th>\n",
       "      <th>outlet_size</th>\n",
       "      <th>outlet_location_type</th>\n",
       "      <th>outlet_type</th>\n",
       "      <th>item_outlet_sales</th>\n",
       "    </tr>\n",
       "  </thead>\n",
       "  <tbody>\n",
       "    <tr>\n",
       "      <th>0</th>\n",
       "      <td>FDA15</td>\n",
       "      <td>9.30</td>\n",
       "      <td>low fat</td>\n",
       "      <td>0.016047</td>\n",
       "      <td>Dairy</td>\n",
       "      <td>249.8092</td>\n",
       "      <td>OUT049</td>\n",
       "      <td>1999</td>\n",
       "      <td>Medium</td>\n",
       "      <td>Tier 1</td>\n",
       "      <td>Supermarket Type1</td>\n",
       "      <td>3735.1380</td>\n",
       "    </tr>\n",
       "    <tr>\n",
       "      <th>1</th>\n",
       "      <td>DRC01</td>\n",
       "      <td>5.92</td>\n",
       "      <td>regular</td>\n",
       "      <td>0.019278</td>\n",
       "      <td>Soft Drinks</td>\n",
       "      <td>48.2692</td>\n",
       "      <td>OUT018</td>\n",
       "      <td>2009</td>\n",
       "      <td>Medium</td>\n",
       "      <td>Tier 3</td>\n",
       "      <td>Supermarket Type2</td>\n",
       "      <td>443.4228</td>\n",
       "    </tr>\n",
       "    <tr>\n",
       "      <th>2</th>\n",
       "      <td>FDN15</td>\n",
       "      <td>17.50</td>\n",
       "      <td>low fat</td>\n",
       "      <td>0.016760</td>\n",
       "      <td>Meat</td>\n",
       "      <td>141.6180</td>\n",
       "      <td>OUT049</td>\n",
       "      <td>1999</td>\n",
       "      <td>Medium</td>\n",
       "      <td>Tier 1</td>\n",
       "      <td>Supermarket Type1</td>\n",
       "      <td>2097.2700</td>\n",
       "    </tr>\n",
       "    <tr>\n",
       "      <th>3</th>\n",
       "      <td>FDX07</td>\n",
       "      <td>19.20</td>\n",
       "      <td>regular</td>\n",
       "      <td>0.015274</td>\n",
       "      <td>Fruits and Vegetables</td>\n",
       "      <td>182.0950</td>\n",
       "      <td>OUT010</td>\n",
       "      <td>1998</td>\n",
       "      <td>Small</td>\n",
       "      <td>Tier 3</td>\n",
       "      <td>Grocery Store</td>\n",
       "      <td>732.3800</td>\n",
       "    </tr>\n",
       "    <tr>\n",
       "      <th>4</th>\n",
       "      <td>NCD19</td>\n",
       "      <td>8.93</td>\n",
       "      <td>low fat</td>\n",
       "      <td>0.008082</td>\n",
       "      <td>Household</td>\n",
       "      <td>53.8614</td>\n",
       "      <td>OUT013</td>\n",
       "      <td>1987</td>\n",
       "      <td>High</td>\n",
       "      <td>Tier 3</td>\n",
       "      <td>Supermarket Type1</td>\n",
       "      <td>994.7052</td>\n",
       "    </tr>\n",
       "  </tbody>\n",
       "</table>\n",
       "</div>"
      ],
      "text/plain": [
       "  item_identifier  item_weight item_fat_content  item_visibility  \\\n",
       "0           FDA15         9.30          low fat         0.016047   \n",
       "1           DRC01         5.92          regular         0.019278   \n",
       "2           FDN15        17.50          low fat         0.016760   \n",
       "3           FDX07        19.20          regular         0.015274   \n",
       "4           NCD19         8.93          low fat         0.008082   \n",
       "\n",
       "               item_type  item_mrp outlet_identifier  \\\n",
       "0                  Dairy  249.8092            OUT049   \n",
       "1            Soft Drinks   48.2692            OUT018   \n",
       "2                   Meat  141.6180            OUT049   \n",
       "3  Fruits and Vegetables  182.0950            OUT010   \n",
       "4              Household   53.8614            OUT013   \n",
       "\n",
       "   outlet_establishment_year outlet_size outlet_location_type  \\\n",
       "0                       1999      Medium               Tier 1   \n",
       "1                       2009      Medium               Tier 3   \n",
       "2                       1999      Medium               Tier 1   \n",
       "3                       1998       Small               Tier 3   \n",
       "4                       1987        High               Tier 3   \n",
       "\n",
       "         outlet_type  item_outlet_sales  \n",
       "0  Supermarket Type1          3735.1380  \n",
       "1  Supermarket Type2           443.4228  \n",
       "2  Supermarket Type1          2097.2700  \n",
       "3      Grocery Store           732.3800  \n",
       "4  Supermarket Type1           994.7052  "
      ]
     },
     "execution_count": 27,
     "metadata": {},
     "output_type": "execute_result"
    }
   ],
   "source": [
    "data.head()"
   ]
  },
  {
   "cell_type": "markdown",
   "metadata": {},
   "source": [
    "# Replacing The Categorical  Values Containing Columns With Their Respective Frequency or Count"
   ]
  },
  {
   "cell_type": "code",
   "execution_count": 28,
   "metadata": {},
   "outputs": [],
   "source": [
    "cols = ['item_identifier', 'item_fat_content',\n",
    "       'item_type', 'outlet_identifier',\n",
    "       'outlet_establishment_year', 'outlet_size', 'outlet_location_type',\n",
    "       'outlet_type']"
   ]
  },
  {
   "cell_type": "code",
   "execution_count": 29,
   "metadata": {},
   "outputs": [],
   "source": [
    "#MAPPING EACH CATEGORICAL COLUMN WITH RESPECTIVE FREQUENCY OF THE VALUES IN THE COLUMNS\n",
    "for i in cols:\n",
    "    x  = data[i].value_counts().to_dict()\n",
    "    data[i] = data[i].map(x)"
   ]
  },
  {
   "cell_type": "code",
   "execution_count": 30,
   "metadata": {},
   "outputs": [
    {
     "data": {
      "text/html": [
       "<div>\n",
       "<style scoped>\n",
       "    .dataframe tbody tr th:only-of-type {\n",
       "        vertical-align: middle;\n",
       "    }\n",
       "\n",
       "    .dataframe tbody tr th {\n",
       "        vertical-align: top;\n",
       "    }\n",
       "\n",
       "    .dataframe thead th {\n",
       "        text-align: right;\n",
       "    }\n",
       "</style>\n",
       "<table border=\"1\" class=\"dataframe\">\n",
       "  <thead>\n",
       "    <tr style=\"text-align: right;\">\n",
       "      <th></th>\n",
       "      <th>item_identifier</th>\n",
       "      <th>item_weight</th>\n",
       "      <th>item_fat_content</th>\n",
       "      <th>item_visibility</th>\n",
       "      <th>item_type</th>\n",
       "      <th>item_mrp</th>\n",
       "      <th>outlet_identifier</th>\n",
       "      <th>outlet_establishment_year</th>\n",
       "      <th>outlet_size</th>\n",
       "      <th>outlet_location_type</th>\n",
       "      <th>outlet_type</th>\n",
       "      <th>item_outlet_sales</th>\n",
       "    </tr>\n",
       "  </thead>\n",
       "  <tbody>\n",
       "    <tr>\n",
       "      <th>0</th>\n",
       "      <td>8</td>\n",
       "      <td>9.30</td>\n",
       "      <td>5517</td>\n",
       "      <td>0.016047</td>\n",
       "      <td>682</td>\n",
       "      <td>249.8092</td>\n",
       "      <td>930</td>\n",
       "      <td>930</td>\n",
       "      <td>2793</td>\n",
       "      <td>2388</td>\n",
       "      <td>5577</td>\n",
       "      <td>3735.1380</td>\n",
       "    </tr>\n",
       "    <tr>\n",
       "      <th>1</th>\n",
       "      <td>6</td>\n",
       "      <td>5.92</td>\n",
       "      <td>3006</td>\n",
       "      <td>0.019278</td>\n",
       "      <td>445</td>\n",
       "      <td>48.2692</td>\n",
       "      <td>928</td>\n",
       "      <td>928</td>\n",
       "      <td>2793</td>\n",
       "      <td>3350</td>\n",
       "      <td>928</td>\n",
       "      <td>443.4228</td>\n",
       "    </tr>\n",
       "    <tr>\n",
       "      <th>2</th>\n",
       "      <td>7</td>\n",
       "      <td>17.50</td>\n",
       "      <td>5517</td>\n",
       "      <td>0.016760</td>\n",
       "      <td>425</td>\n",
       "      <td>141.6180</td>\n",
       "      <td>930</td>\n",
       "      <td>930</td>\n",
       "      <td>2793</td>\n",
       "      <td>2388</td>\n",
       "      <td>5577</td>\n",
       "      <td>2097.2700</td>\n",
       "    </tr>\n",
       "    <tr>\n",
       "      <th>3</th>\n",
       "      <td>6</td>\n",
       "      <td>19.20</td>\n",
       "      <td>3006</td>\n",
       "      <td>0.015274</td>\n",
       "      <td>1232</td>\n",
       "      <td>182.0950</td>\n",
       "      <td>555</td>\n",
       "      <td>555</td>\n",
       "      <td>4798</td>\n",
       "      <td>3350</td>\n",
       "      <td>1083</td>\n",
       "      <td>732.3800</td>\n",
       "    </tr>\n",
       "    <tr>\n",
       "      <th>4</th>\n",
       "      <td>6</td>\n",
       "      <td>8.93</td>\n",
       "      <td>5517</td>\n",
       "      <td>0.008082</td>\n",
       "      <td>910</td>\n",
       "      <td>53.8614</td>\n",
       "      <td>932</td>\n",
       "      <td>932</td>\n",
       "      <td>932</td>\n",
       "      <td>3350</td>\n",
       "      <td>5577</td>\n",
       "      <td>994.7052</td>\n",
       "    </tr>\n",
       "  </tbody>\n",
       "</table>\n",
       "</div>"
      ],
      "text/plain": [
       "   item_identifier  item_weight  item_fat_content  item_visibility  item_type  \\\n",
       "0                8         9.30              5517         0.016047        682   \n",
       "1                6         5.92              3006         0.019278        445   \n",
       "2                7        17.50              5517         0.016760        425   \n",
       "3                6        19.20              3006         0.015274       1232   \n",
       "4                6         8.93              5517         0.008082        910   \n",
       "\n",
       "   item_mrp  outlet_identifier  outlet_establishment_year  outlet_size  \\\n",
       "0  249.8092                930                        930         2793   \n",
       "1   48.2692                928                        928         2793   \n",
       "2  141.6180                930                        930         2793   \n",
       "3  182.0950                555                        555         4798   \n",
       "4   53.8614                932                        932          932   \n",
       "\n",
       "   outlet_location_type  outlet_type  item_outlet_sales  \n",
       "0                  2388         5577          3735.1380  \n",
       "1                  3350          928           443.4228  \n",
       "2                  2388         5577          2097.2700  \n",
       "3                  3350         1083           732.3800  \n",
       "4                  3350         5577           994.7052  "
      ]
     },
     "execution_count": 30,
     "metadata": {},
     "output_type": "execute_result"
    }
   ],
   "source": [
    "#RESULTING DATASET AFTER CATEGORICAL VALUES CONVERTED TO NUMERICAL COLUMN\n",
    "data.head()"
   ]
  },
  {
   "cell_type": "code",
   "execution_count": 31,
   "metadata": {},
   "outputs": [],
   "source": [
    "#COPYING DATA \n",
    "new_data= data.copy()"
   ]
  },
  {
   "cell_type": "code",
   "execution_count": 32,
   "metadata": {},
   "outputs": [
    {
     "data": {
      "text/plain": [
       "<matplotlib.axes._subplots.AxesSubplot at 0x264772e1c88>"
      ]
     },
     "execution_count": 32,
     "metadata": {},
     "output_type": "execute_result"
    },
    {
     "data": {
      "image/png": "[encoded data removed]",
      "text/plain": [
       "<Figure size 720x360 with 2 Axes>"
      ]
     },
     "metadata": {
      "needs_background": "light"
     },
     "output_type": "display_data"
    }
   ],
   "source": [
    "#FINDING CORRELATION BETWEEN EACH COLUMNS BY USING HEATMAP\n",
    "plt.figure(figsize = (10,5))\n",
    "sns.heatmap(new_data.corr(), cmap = \"RdYlGn\", annot = True)"
   ]
  },
  {
   "cell_type": "code",
   "execution_count": 33,
   "metadata": {},
   "outputs": [],
   "source": [
    "#REMOVING LESS CORRELATED COLUMNS \n",
    "new_data =new_data.drop([\"item_weight\",\"item_identifier\", \"item_type\", \"item_fat_content\",\"outlet_location_type\"], axis = 1)"
   ]
  },
  {
   "cell_type": "code",
   "execution_count": 34,
   "metadata": {},
   "outputs": [
    {
     "data": {
      "text/html": [
       "<div>\n",
       "<style scoped>\n",
       "    .dataframe tbody tr th:only-of-type {\n",
       "        vertical-align: middle;\n",
       "    }\n",
       "\n",
       "    .dataframe tbody tr th {\n",
       "        vertical-align: top;\n",
       "    }\n",
       "\n",
       "    .dataframe thead th {\n",
       "        text-align: right;\n",
       "    }\n",
       "</style>\n",
       "<table border=\"1\" class=\"dataframe\">\n",
       "  <thead>\n",
       "    <tr style=\"text-align: right;\">\n",
       "      <th></th>\n",
       "      <th>item_visibility</th>\n",
       "      <th>item_mrp</th>\n",
       "      <th>outlet_identifier</th>\n",
       "      <th>outlet_establishment_year</th>\n",
       "      <th>outlet_size</th>\n",
       "      <th>outlet_type</th>\n",
       "      <th>item_outlet_sales</th>\n",
       "    </tr>\n",
       "  </thead>\n",
       "  <tbody>\n",
       "    <tr>\n",
       "      <th>0</th>\n",
       "      <td>0.016047</td>\n",
       "      <td>249.8092</td>\n",
       "      <td>930</td>\n",
       "      <td>930</td>\n",
       "      <td>2793</td>\n",
       "      <td>5577</td>\n",
       "      <td>3735.1380</td>\n",
       "    </tr>\n",
       "    <tr>\n",
       "      <th>1</th>\n",
       "      <td>0.019278</td>\n",
       "      <td>48.2692</td>\n",
       "      <td>928</td>\n",
       "      <td>928</td>\n",
       "      <td>2793</td>\n",
       "      <td>928</td>\n",
       "      <td>443.4228</td>\n",
       "    </tr>\n",
       "    <tr>\n",
       "      <th>2</th>\n",
       "      <td>0.016760</td>\n",
       "      <td>141.6180</td>\n",
       "      <td>930</td>\n",
       "      <td>930</td>\n",
       "      <td>2793</td>\n",
       "      <td>5577</td>\n",
       "      <td>2097.2700</td>\n",
       "    </tr>\n",
       "    <tr>\n",
       "      <th>3</th>\n",
       "      <td>0.015274</td>\n",
       "      <td>182.0950</td>\n",
       "      <td>555</td>\n",
       "      <td>555</td>\n",
       "      <td>4798</td>\n",
       "      <td>1083</td>\n",
       "      <td>732.3800</td>\n",
       "    </tr>\n",
       "    <tr>\n",
       "      <th>4</th>\n",
       "      <td>0.008082</td>\n",
       "      <td>53.8614</td>\n",
       "      <td>932</td>\n",
       "      <td>932</td>\n",
       "      <td>932</td>\n",
       "      <td>5577</td>\n",
       "      <td>994.7052</td>\n",
       "    </tr>\n",
       "  </tbody>\n",
       "</table>\n",
       "</div>"
      ],
      "text/plain": [
       "   item_visibility  item_mrp  outlet_identifier  outlet_establishment_year  \\\n",
       "0         0.016047  249.8092                930                        930   \n",
       "1         0.019278   48.2692                928                        928   \n",
       "2         0.016760  141.6180                930                        930   \n",
       "3         0.015274  182.0950                555                        555   \n",
       "4         0.008082   53.8614                932                        932   \n",
       "\n",
       "   outlet_size  outlet_type  item_outlet_sales  \n",
       "0         2793         5577          3735.1380  \n",
       "1         2793          928           443.4228  \n",
       "2         2793         5577          2097.2700  \n",
       "3         4798         1083           732.3800  \n",
       "4          932         5577           994.7052  "
      ]
     },
     "execution_count": 34,
     "metadata": {},
     "output_type": "execute_result"
    }
   ],
   "source": [
    "new_data.head()"
   ]
  },
  {
   "cell_type": "code",
   "execution_count": 35,
   "metadata": {},
   "outputs": [
    {
     "data": {
      "text/plain": [
       "item_visibility              1.233294\n",
       "item_mrp                     0.127202\n",
       "outlet_identifier           -2.244651\n",
       "outlet_establishment_year    0.936439\n",
       "outlet_size                 -0.803018\n",
       "outlet_type                 -0.650418\n",
       "item_outlet_sales            1.177531\n",
       "dtype: float64"
      ]
     },
     "execution_count": 35,
     "metadata": {},
     "output_type": "execute_result"
    }
   ],
   "source": [
    "#CALCULATING THE SKEWNESS OF THE DATA\n",
    "new_data.skew()"
   ]
  },
  {
   "cell_type": "markdown",
   "metadata": {},
   "source": [
    "### VISUALIZING THE SKEWNESSS OF THE DATASET"
   ]
  },
  {
   "cell_type": "code",
   "execution_count": 36,
   "metadata": {},
   "outputs": [
    {
     "data": {
      "text/plain": [
       "<matplotlib.axes._subplots.AxesSubplot at 0x264777815c0>"
      ]
     },
     "execution_count": 36,
     "metadata": {},
     "output_type": "execute_result"
    },
    {
     "data": {
      "image/png": "[encoded data removed]",
      "text/plain": [
       "<Figure size 1080x1080 with 8 Axes>"
      ]
     },
     "metadata": {
      "needs_background": "light"
     },
     "output_type": "display_data"
    }
   ],
   "source": [
    "# Before Transformation\n",
    "fig, ax = plt.subplots(4,2,figsize = (15,15))\n",
    "sns.distplot(new_data[\"item_visibility\"], kde =True, ax=ax[0,0], color = \"red\")\n",
    "sns.distplot(new_data[\"item_mrp\"], kde =True, ax=ax[0,1], color = \"blue\")\n",
    "sns.distplot(new_data[\"outlet_identifier\"], kde =True, ax=ax[1,0], color = \"orange\")\n",
    "sns.distplot(new_data[\"outlet_type\"], kde =True, ax=ax[1,1], color = \"black\")\n",
    "sns.distplot(new_data[\"outlet_size\"], kde =True, ax=ax[2,0], color = \"magenta\")\n",
    "sns.distplot(new_data[\"outlet_establishment_year\"], kde =True, ax=ax[3,0])\n",
    "sns.distplot(new_data[\"item_outlet_sales\"], kde =True, ax=ax[3,1])\n",
    "\n"
   ]
  },
  {
   "cell_type": "code",
   "execution_count": 37,
   "metadata": {},
   "outputs": [
    {
     "data": {
      "text/plain": [
       "Index(['item_visibility', 'item_mrp', 'outlet_identifier',\n",
       "       'outlet_establishment_year', 'outlet_size', 'outlet_type',\n",
       "       'item_outlet_sales'],\n",
       "      dtype='object')"
      ]
     },
     "execution_count": 37,
     "metadata": {},
     "output_type": "execute_result"
    }
   ],
   "source": [
    "new_data.columns"
   ]
  },
  {
   "cell_type": "markdown",
   "metadata": {},
   "source": [
    "### From the above plot it is clear that many columns are not following the normal distribution and not properly scaled. Therefore, we will apply \"Logarithmic\" Transformation on above dataset to make it scale and reduce the skewness."
   ]
  },
  {
   "cell_type": "code",
   "execution_count": 38,
   "metadata": {},
   "outputs": [],
   "source": [
    "for i in new_data.columns:\n",
    "    new_data[i] =np.log(new_data[i])"
   ]
  },
  {
   "cell_type": "code",
   "execution_count": 39,
   "metadata": {},
   "outputs": [
    {
     "data": {
      "text/html": [
       "<div>\n",
       "<style scoped>\n",
       "    .dataframe tbody tr th:only-of-type {\n",
       "        vertical-align: middle;\n",
       "    }\n",
       "\n",
       "    .dataframe tbody tr th {\n",
       "        vertical-align: top;\n",
       "    }\n",
       "\n",
       "    .dataframe thead th {\n",
       "        text-align: right;\n",
       "    }\n",
       "</style>\n",
       "<table border=\"1\" class=\"dataframe\">\n",
       "  <thead>\n",
       "    <tr style=\"text-align: right;\">\n",
       "      <th></th>\n",
       "      <th>item_visibility</th>\n",
       "      <th>item_mrp</th>\n",
       "      <th>outlet_identifier</th>\n",
       "      <th>outlet_establishment_year</th>\n",
       "      <th>outlet_size</th>\n",
       "      <th>outlet_type</th>\n",
       "      <th>item_outlet_sales</th>\n",
       "    </tr>\n",
       "  </thead>\n",
       "  <tbody>\n",
       "    <tr>\n",
       "      <th>0</th>\n",
       "      <td>-4.132215</td>\n",
       "      <td>5.520697</td>\n",
       "      <td>6.835185</td>\n",
       "      <td>6.835185</td>\n",
       "      <td>7.934872</td>\n",
       "      <td>8.626406</td>\n",
       "      <td>8.225540</td>\n",
       "    </tr>\n",
       "    <tr>\n",
       "      <th>1</th>\n",
       "      <td>-3.948780</td>\n",
       "      <td>3.876794</td>\n",
       "      <td>6.833032</td>\n",
       "      <td>6.833032</td>\n",
       "      <td>7.934872</td>\n",
       "      <td>6.833032</td>\n",
       "      <td>6.094524</td>\n",
       "    </tr>\n",
       "    <tr>\n",
       "      <th>2</th>\n",
       "      <td>-4.088756</td>\n",
       "      <td>4.953133</td>\n",
       "      <td>6.835185</td>\n",
       "      <td>6.835185</td>\n",
       "      <td>7.934872</td>\n",
       "      <td>8.626406</td>\n",
       "      <td>7.648392</td>\n",
       "    </tr>\n",
       "    <tr>\n",
       "      <th>3</th>\n",
       "      <td>-4.181625</td>\n",
       "      <td>5.204529</td>\n",
       "      <td>6.318968</td>\n",
       "      <td>6.318968</td>\n",
       "      <td>8.475954</td>\n",
       "      <td>6.987490</td>\n",
       "      <td>6.596300</td>\n",
       "    </tr>\n",
       "    <tr>\n",
       "      <th>4</th>\n",
       "      <td>-4.818097</td>\n",
       "      <td>3.986414</td>\n",
       "      <td>6.837333</td>\n",
       "      <td>6.837333</td>\n",
       "      <td>6.837333</td>\n",
       "      <td>8.626406</td>\n",
       "      <td>6.902446</td>\n",
       "    </tr>\n",
       "  </tbody>\n",
       "</table>\n",
       "</div>"
      ],
      "text/plain": [
       "   item_visibility  item_mrp  outlet_identifier  outlet_establishment_year  \\\n",
       "0        -4.132215  5.520697           6.835185                   6.835185   \n",
       "1        -3.948780  3.876794           6.833032                   6.833032   \n",
       "2        -4.088756  4.953133           6.835185                   6.835185   \n",
       "3        -4.181625  5.204529           6.318968                   6.318968   \n",
       "4        -4.818097  3.986414           6.837333                   6.837333   \n",
       "\n",
       "   outlet_size  outlet_type  item_outlet_sales  \n",
       "0     7.934872     8.626406           8.225540  \n",
       "1     7.934872     6.833032           6.094524  \n",
       "2     7.934872     8.626406           7.648392  \n",
       "3     8.475954     6.987490           6.596300  \n",
       "4     6.837333     8.626406           6.902446  "
      ]
     },
     "execution_count": 39,
     "metadata": {},
     "output_type": "execute_result"
    }
   ],
   "source": [
    "new_data.head()"
   ]
  },
  {
   "cell_type": "code",
   "execution_count": 40,
   "metadata": {},
   "outputs": [
    {
     "ename": "SyntaxError",
     "evalue": "unexpected EOF while parsing (<ipython-input-40-ed17f145fa2f>, line 9)",
     "output_type": "error",
     "traceback": [
      "\u001b[1;36m  File \u001b[1;32m\"<ipython-input-40-ed17f145fa2f>\"\u001b[1;36m, line \u001b[1;32m9\u001b[0m\n\u001b[1;33m    sns.distplot(new_data[\"item_outlet_sales\"], kde =True, ax=ax[3,1]\u001b[0m\n\u001b[1;37m                                                                     ^\u001b[0m\n\u001b[1;31mSyntaxError\u001b[0m\u001b[1;31m:\u001b[0m unexpected EOF while parsing\n"
     ]
    }
   ],
   "source": [
    "# After Transformation\n",
    "fig, ax = plt.subplots(4,2,figsize = (15,15))\n",
    "sns.distplot(new_data[\"item_visibility\"], kde =True, ax=ax[0,0], color = \"red\")\n",
    "sns.distplot(new_data[\"item_mrp\"], kde =True, ax=ax[0,1], color = \"blue\")\n",
    "sns.distplot(new_data[\"outlet_identifier\"], kde =True, ax=ax[1,0], color = \"orange\")\n",
    "sns.distplot(new_data[\"outlet_type\"], kde =True, ax=ax[1,1], color = \"black\")\n",
    "sns.distplot(new_data[\"outlet_size\"], kde =True, ax=ax[2,0], color = \"magenta\")\n",
    "sns.distplot(new_data[\"outlet_establishment_year\"], kde =True, ax=ax[3,0])\n",
    "sns.distplot(new_data[\"item_outlet_sales\"], kde =True, ax=ax[3,1]"
   ]
  },
  {
   "cell_type": "code",
   "execution_count": 41,
   "metadata": {},
   "outputs": [
    {
     "data": {
      "text/plain": [
       "item_visibility             -0.429840\n",
       "item_mrp                    -0.735795\n",
       "outlet_identifier           -2.249965\n",
       "outlet_establishment_year    0.026025\n",
       "outlet_size                 -1.539875\n",
       "outlet_type                 -0.657515\n",
       "item_outlet_sales           -0.887753\n",
       "dtype: float64"
      ]
     },
     "execution_count": 41,
     "metadata": {},
     "output_type": "execute_result"
    }
   ],
   "source": [
    "new_data.skew()"
   ]
  },
  {
   "cell_type": "markdown",
   "metadata": {},
   "source": [
    "# Fitting Linear Regression Model:"
   ]
  },
  {
   "cell_type": "code",
   "execution_count": 42,
   "metadata": {},
   "outputs": [],
   "source": [
    "#Independent Variables:\n",
    "x = new_data.drop(\"item_outlet_sales\", axis = 1) \n",
    "\n",
    "#Depenedent Variables \n",
    "y = new_data[\"item_outlet_sales\"].values.reshape(-1,1)\n"
   ]
  },
  {
   "cell_type": "code",
   "execution_count": 43,
   "metadata": {},
   "outputs": [],
   "source": [
    "#Splitting The data  into Train and Test Dataset:\n",
    "from sklearn.model_selection import train_test_split\n",
    "x_train,x_test, y_train, y_test = train_test_split(x,y, test_size =0.20, random_state = 3)"
   ]
  },
  {
   "cell_type": "code",
   "execution_count": 44,
   "metadata": {},
   "outputs": [
    {
     "data": {
      "text/plain": [
       "LinearRegression(copy_X=True, fit_intercept=True, n_jobs=None,\n",
       "         normalize=False)"
      ]
     },
     "execution_count": 44,
     "metadata": {},
     "output_type": "execute_result"
    }
   ],
   "source": [
    "#Applying Linear Regression Model\n",
    "from sklearn.linear_model import LinearRegression\n",
    "regressor =LinearRegression()\n",
    "regressor.fit(x_train, y_train)"
   ]
  },
  {
   "cell_type": "code",
   "execution_count": 45,
   "metadata": {},
   "outputs": [],
   "source": [
    "#Prediction\n",
    "y_pred = regressor.predict(x_test)"
   ]
  },
  {
   "cell_type": "code",
   "execution_count": 46,
   "metadata": {},
   "outputs": [
    {
     "data": {
      "text/plain": [
       "0.757028146007712"
      ]
     },
     "execution_count": 46,
     "metadata": {},
     "output_type": "execute_result"
    }
   ],
   "source": [
    "#Accuracy of Model (Apply R2_score)\n",
    "from sklearn.metrics import r2_score, mean_squared_error\n",
    "r2_score(y_test, y_pred)"
   ]
  },
  {
   "cell_type": "code",
   "execution_count": 47,
   "metadata": {},
   "outputs": [
    {
     "data": {
      "text/plain": [
       "0.519778744716386"
      ]
     },
     "execution_count": 47,
     "metadata": {},
     "output_type": "execute_result"
    }
   ],
   "source": [
    "#Checking Root Mean Square error\n",
    "from math import sqrt\n",
    "rmse = sqrt(mean_squared_error(y_test,  y_pred))\n",
    "rmse"
   ]
  },
  {
   "cell_type": "markdown",
   "metadata": {},
   "source": [
    "# 1. R2_Score = 75.70%\n",
    "# 2. RMSE  = 0.519"
   ]
  },
  {
   "cell_type": "code",
   "execution_count": 48,
   "metadata": {},
   "outputs": [],
   "source": [
    "#Residue of the Linear Regression Model \n",
    "residue_lr = y_test -y_pred"
   ]
  },
  {
   "cell_type": "code",
   "execution_count": 49,
   "metadata": {},
   "outputs": [
    {
     "data": {
      "text/plain": [
       "<matplotlib.lines.Line2D at 0x264798aecc0>"
      ]
     },
     "execution_count": 49,
     "metadata": {},
     "output_type": "execute_result"
    },
    {
     "data": {
      "image/png": "[encoded data removed]",
      "text/plain": [
       "<Figure size 432x288 with 1 Axes>"
      ]
     },
     "metadata": {
      "needs_background": "light"
     },
     "output_type": "display_data"
    }
   ],
   "source": [
    "#Plotting Residual Plot\n",
    "plt.scatter(y_test,residue_lr, c = \"red\")\n",
    "plt.xlabel(\"residual\")\n",
    "plt.ylabel(\"y_test\")\n",
    "plt.axhline(y = 0)"
   ]
  },
  {
   "cell_type": "markdown",
   "metadata": {},
   "source": [
    "# Regularization:\n",
    "\n",
    "### 1. **LASSO Regression**:"
   ]
  },
  {
   "cell_type": "code",
   "execution_count": 50,
   "metadata": {},
   "outputs": [
    {
     "data": {
      "text/plain": [
       "Lasso(alpha=0.009, copy_X=True, fit_intercept=True, max_iter=1000,\n",
       "   normalize=False, positive=False, precompute=False, random_state=None,\n",
       "   selection='cyclic', tol=0.0001, warm_start=False)"
      ]
     },
     "execution_count": 50,
     "metadata": {},
     "output_type": "execute_result"
    }
   ],
   "source": [
    "#Importing LASSO AND RIDGE from sklearn library:\n",
    "#Apply Lasso Regularization Technique\n",
    "from sklearn.linear_model import Lasso, Ridge\n",
    "ls = Lasso(alpha = 0.009)\n",
    "ls.fit(x_train, y_train)\n"
   ]
  },
  {
   "cell_type": "code",
   "execution_count": 51,
   "metadata": {},
   "outputs": [],
   "source": [
    "#prediction by LASSO model\n",
    "ls_pred = ls.predict(x_test)"
   ]
  },
  {
   "cell_type": "code",
   "execution_count": 52,
   "metadata": {},
   "outputs": [
    {
     "data": {
      "text/plain": [
       "0.7468491769184082"
      ]
     },
     "execution_count": 52,
     "metadata": {},
     "output_type": "execute_result"
    }
   ],
   "source": [
    "#Accuracy After Lasso(by R2_score)\n",
    "r2_score(y_test,ls_pred)"
   ]
  },
  {
   "cell_type": "code",
   "execution_count": 53,
   "metadata": {},
   "outputs": [
    {
     "data": {
      "text/plain": [
       "0.530554746291775"
      ]
     },
     "execution_count": 53,
     "metadata": {},
     "output_type": "execute_result"
    }
   ],
   "source": [
    "#Root Mean Square Error\n",
    "rmse_lasso = sqrt(mean_squared_error(y_test, ls_pred))\n",
    "rmse_lasso"
   ]
  },
  {
   "cell_type": "markdown",
   "metadata": {},
   "source": [
    "# AFTER LASSO REGRESSION\n",
    "# 1.R2_SCORE= 74.68%\n",
    "# 2.RMSE = 0.53"
   ]
  },
  {
   "cell_type": "code",
   "execution_count": 54,
   "metadata": {},
   "outputs": [],
   "source": [
    "#Getting Lasso Coefficent\n",
    "lasso_coeff = pd.Series(ls.coef_, index =x.columns) "
   ]
  },
  {
   "cell_type": "code",
   "execution_count": 55,
   "metadata": {},
   "outputs": [
    {
     "data": {
      "text/plain": [
       "<matplotlib.axes._subplots.AxesSubplot at 0x2647993fef0>"
      ]
     },
     "execution_count": 55,
     "metadata": {},
     "output_type": "execute_result"
    },
    {
     "data": {
      "image/png": "[encoded data removed]",
      "text/plain": [
       "<Figure size 432x288 with 1 Axes>"
      ]
     },
     "metadata": {
      "needs_background": "light"
     },
     "output_type": "display_data"
    }
   ],
   "source": [
    "#Visualization of Coefficent after LASSO \n",
    "lasso_coeff.plot(kind = \"bar\")"
   ]
  },
  {
   "cell_type": "code",
   "execution_count": 56,
   "metadata": {},
   "outputs": [
    {
     "data": {
      "text/plain": [
       "array([[7.86649549],\n",
       "       [7.45465459],\n",
       "       [6.52762899],\n",
       "       ...,\n",
       "       [7.92350261],\n",
       "       [7.03867668],\n",
       "       [6.64322991]])"
      ]
     },
     "execution_count": 56,
     "metadata": {},
     "output_type": "execute_result"
    }
   ],
   "source": [
    "#RESHAPING THE PREDICTED VALUES\n",
    "ls_pred= ls_pred.reshape(-1,1)\n",
    "\n",
    "ls_pred"
   ]
  },
  {
   "cell_type": "code",
   "execution_count": 57,
   "metadata": {},
   "outputs": [],
   "source": [
    "#RESIDUE VALUE AFTER LASSO REGRESSION\n",
    "residue = y_test - ls_pred"
   ]
  },
  {
   "cell_type": "code",
   "execution_count": 58,
   "metadata": {},
   "outputs": [
    {
     "data": {
      "text/plain": [
       "<matplotlib.lines.Line2D at 0x264799a3d68>"
      ]
     },
     "execution_count": 58,
     "metadata": {},
     "output_type": "execute_result"
    },
    {
     "data": {
      "image/png": "[encoded data removed]",
      "text/plain": [
       "<Figure size 432x288 with 1 Axes>"
      ]
     },
     "metadata": {
      "needs_background": "light"
     },
     "output_type": "display_data"
    }
   ],
   "source": [
    "plt.scatter(y_test.reshape(-1,1),residue, c = \"red\")\n",
    "plt.xlabel(\"residual\")\n",
    "plt.ylabel(\"y_test\")\n",
    "plt.axhline(y = 0)"
   ]
  },
  {
   "cell_type": "markdown",
   "metadata": {},
   "source": [
    "## 2. **RIDGE Regression**:\n"
   ]
  },
  {
   "cell_type": "code",
   "execution_count": 59,
   "metadata": {},
   "outputs": [
    {
     "data": {
      "text/plain": [
       "Ridge(alpha=0.009, copy_X=True, fit_intercept=True, max_iter=None,\n",
       "   normalize=False, random_state=None, solver='auto', tol=0.001)"
      ]
     },
     "execution_count": 59,
     "metadata": {},
     "output_type": "execute_result"
    }
   ],
   "source": [
    "#Ridge Regression\n",
    "rr = Ridge(alpha = 0.009)\n",
    "rr.fit(x_train, y_train)"
   ]
  },
  {
   "cell_type": "code",
   "execution_count": 60,
   "metadata": {},
   "outputs": [],
   "source": [
    "#Prediction AFTER Ridge regression\n",
    "rr_pred = rr.predict(x_test)"
   ]
  },
  {
   "cell_type": "code",
   "execution_count": 61,
   "metadata": {},
   "outputs": [
    {
     "data": {
      "text/plain": [
       "0.757028146007712"
      ]
     },
     "execution_count": 61,
     "metadata": {},
     "output_type": "execute_result"
    }
   ],
   "source": [
    "#Accuracy score check\n",
    "r2_score(y_test, y_pred)"
   ]
  },
  {
   "cell_type": "code",
   "execution_count": 62,
   "metadata": {},
   "outputs": [
    {
     "data": {
      "text/plain": [
       "0.5197810776520828"
      ]
     },
     "execution_count": 62,
     "metadata": {},
     "output_type": "execute_result"
    }
   ],
   "source": [
    "#RMSE\n",
    "rmse_ridge = sqrt(mean_squared_error(y_test, rr_pred))\n",
    "rmse_ridge"
   ]
  },
  {
   "cell_type": "markdown",
   "metadata": {},
   "source": [
    "# AFTER RIDGE REGRESSION\n",
    "# 1. R2_SCORE = 75.57%\n",
    "# 2. RMSE = 0.519"
   ]
  },
  {
   "cell_type": "code",
   "execution_count": 63,
   "metadata": {},
   "outputs": [],
   "source": [
    "#residue after ridge\n",
    "residue_rr = y_test-rr_pred"
   ]
  },
  {
   "cell_type": "code",
   "execution_count": 64,
   "metadata": {},
   "outputs": [
    {
     "data": {
      "text/plain": [
       "<matplotlib.lines.Line2D at 0x26479a1c630>"
      ]
     },
     "execution_count": 64,
     "metadata": {},
     "output_type": "execute_result"
    },
    {
     "data": {
      "image/png": "[encoded data removed]",
      "text/plain": [
       "<Figure size 432x288 with 1 Axes>"
      ]
     },
     "metadata": {
      "needs_background": "light"
     },
     "output_type": "display_data"
    }
   ],
   "source": [
    "#plotting of residual graph after RIDGE REGRESSION\n",
    "plt.scatter(y_test,residue_rr, c = \"red\")\n",
    "plt.xlabel(\"residual\")\n",
    "plt.ylabel(\"y_test\")\n",
    "plt.axhline(y = 0)"
   ]
  },
  {
   "cell_type": "markdown",
   "metadata": {},
   "source": [
    "# Selcting The Better Model"
   ]
  },
  {
   "cell_type": "markdown",
   "metadata": {},
   "source": [
    "## 1.From above three different model after applying LASSO AND RIDGE Regression,  we can accept the model which is giving the better  \"**RMSE SCORE**\" and higher accuracy (R2_SCORE). \n",
    "\n",
    "## 2. Lasso Regression is showing the low accuracy in terms of Linear regression.\n",
    "## 3. Ridge Regression is showing the similar accuracy in terms of Linear Regression.\n",
    "\n",
    "### HENCE, ACCEPTING THE LINEAR REGRESSION MODEL TO PREDICT THE TEST DATA ITEM OUTLET SALE.\n"
   ]
  },
  {
   "cell_type": "markdown",
   "metadata": {},
   "source": [
    "# LOADING TEST DATA"
   ]
  },
  {
   "cell_type": "code",
   "execution_count": 65,
   "metadata": {},
   "outputs": [],
   "source": [
    "test_data = pd.read_csv(\"Test.csv\")"
   ]
  },
  {
   "cell_type": "code",
   "execution_count": 66,
   "metadata": {},
   "outputs": [
    {
     "data": {
      "text/html": [
       "<div>\n",
       "<style scoped>\n",
       "    .dataframe tbody tr th:only-of-type {\n",
       "        vertical-align: middle;\n",
       "    }\n",
       "\n",
       "    .dataframe tbody tr th {\n",
       "        vertical-align: top;\n",
       "    }\n",
       "\n",
       "    .dataframe thead th {\n",
       "        text-align: right;\n",
       "    }\n",
       "</style>\n",
       "<table border=\"1\" class=\"dataframe\">\n",
       "  <thead>\n",
       "    <tr style=\"text-align: right;\">\n",
       "      <th></th>\n",
       "      <th>Item_Identifier</th>\n",
       "      <th>Item_Weight</th>\n",
       "      <th>Item_Fat_Content</th>\n",
       "      <th>Item_Visibility</th>\n",
       "      <th>Item_Type</th>\n",
       "      <th>Item_MRP</th>\n",
       "      <th>Outlet_Identifier</th>\n",
       "      <th>Outlet_Establishment_Year</th>\n",
       "      <th>Outlet_Size</th>\n",
       "      <th>Outlet_Location_Type</th>\n",
       "      <th>Outlet_Type</th>\n",
       "    </tr>\n",
       "  </thead>\n",
       "  <tbody>\n",
       "    <tr>\n",
       "      <th>0</th>\n",
       "      <td>FDW58</td>\n",
       "      <td>20.750</td>\n",
       "      <td>Low Fat</td>\n",
       "      <td>0.007565</td>\n",
       "      <td>Snack Foods</td>\n",
       "      <td>107.8622</td>\n",
       "      <td>OUT049</td>\n",
       "      <td>1999</td>\n",
       "      <td>Medium</td>\n",
       "      <td>Tier 1</td>\n",
       "      <td>Supermarket Type1</td>\n",
       "    </tr>\n",
       "    <tr>\n",
       "      <th>1</th>\n",
       "      <td>FDW14</td>\n",
       "      <td>8.300</td>\n",
       "      <td>reg</td>\n",
       "      <td>0.038428</td>\n",
       "      <td>Dairy</td>\n",
       "      <td>87.3198</td>\n",
       "      <td>OUT017</td>\n",
       "      <td>2007</td>\n",
       "      <td>NaN</td>\n",
       "      <td>Tier 2</td>\n",
       "      <td>Supermarket Type1</td>\n",
       "    </tr>\n",
       "    <tr>\n",
       "      <th>2</th>\n",
       "      <td>NCN55</td>\n",
       "      <td>14.600</td>\n",
       "      <td>Low Fat</td>\n",
       "      <td>0.099575</td>\n",
       "      <td>Others</td>\n",
       "      <td>241.7538</td>\n",
       "      <td>OUT010</td>\n",
       "      <td>1998</td>\n",
       "      <td>NaN</td>\n",
       "      <td>Tier 3</td>\n",
       "      <td>Grocery Store</td>\n",
       "    </tr>\n",
       "    <tr>\n",
       "      <th>3</th>\n",
       "      <td>FDQ58</td>\n",
       "      <td>7.315</td>\n",
       "      <td>Low Fat</td>\n",
       "      <td>0.015388</td>\n",
       "      <td>Snack Foods</td>\n",
       "      <td>155.0340</td>\n",
       "      <td>OUT017</td>\n",
       "      <td>2007</td>\n",
       "      <td>NaN</td>\n",
       "      <td>Tier 2</td>\n",
       "      <td>Supermarket Type1</td>\n",
       "    </tr>\n",
       "    <tr>\n",
       "      <th>4</th>\n",
       "      <td>FDY38</td>\n",
       "      <td>NaN</td>\n",
       "      <td>Regular</td>\n",
       "      <td>0.118599</td>\n",
       "      <td>Dairy</td>\n",
       "      <td>234.2300</td>\n",
       "      <td>OUT027</td>\n",
       "      <td>1985</td>\n",
       "      <td>Medium</td>\n",
       "      <td>Tier 3</td>\n",
       "      <td>Supermarket Type3</td>\n",
       "    </tr>\n",
       "  </tbody>\n",
       "</table>\n",
       "</div>"
      ],
      "text/plain": [
       "  Item_Identifier  Item_Weight Item_Fat_Content  Item_Visibility    Item_Type  \\\n",
       "0           FDW58       20.750          Low Fat         0.007565  Snack Foods   \n",
       "1           FDW14        8.300              reg         0.038428        Dairy   \n",
       "2           NCN55       14.600          Low Fat         0.099575       Others   \n",
       "3           FDQ58        7.315          Low Fat         0.015388  Snack Foods   \n",
       "4           FDY38          NaN          Regular         0.118599        Dairy   \n",
       "\n",
       "   Item_MRP Outlet_Identifier  Outlet_Establishment_Year Outlet_Size  \\\n",
       "0  107.8622            OUT049                       1999      Medium   \n",
       "1   87.3198            OUT017                       2007         NaN   \n",
       "2  241.7538            OUT010                       1998         NaN   \n",
       "3  155.0340            OUT017                       2007         NaN   \n",
       "4  234.2300            OUT027                       1985      Medium   \n",
       "\n",
       "  Outlet_Location_Type        Outlet_Type  \n",
       "0               Tier 1  Supermarket Type1  \n",
       "1               Tier 2  Supermarket Type1  \n",
       "2               Tier 3      Grocery Store  \n",
       "3               Tier 2  Supermarket Type1  \n",
       "4               Tier 3  Supermarket Type3  "
      ]
     },
     "execution_count": 66,
     "metadata": {},
     "output_type": "execute_result"
    }
   ],
   "source": [
    "test_data.head()"
   ]
  },
  {
   "cell_type": "code",
   "execution_count": 67,
   "metadata": {},
   "outputs": [],
   "source": [
    "test = test_data.copy()"
   ]
  },
  {
   "cell_type": "code",
   "execution_count": 68,
   "metadata": {},
   "outputs": [],
   "source": [
    "#LOWERING THE COLUMNS NAMES \n",
    "test.columns = test.columns.str.lower()"
   ]
  },
  {
   "cell_type": "code",
   "execution_count": 69,
   "metadata": {},
   "outputs": [
    {
     "data": {
      "text/plain": [
       "item_identifier               0.000000\n",
       "item_weight                  17.180074\n",
       "item_fat_content              0.000000\n",
       "item_visibility               0.000000\n",
       "item_type                     0.000000\n",
       "item_mrp                      0.000000\n",
       "outlet_identifier             0.000000\n",
       "outlet_establishment_year     0.000000\n",
       "outlet_size                  28.269671\n",
       "outlet_location_type          0.000000\n",
       "outlet_type                   0.000000\n",
       "dtype: float64"
      ]
     },
     "execution_count": 69,
     "metadata": {},
     "output_type": "execute_result"
    }
   ],
   "source": [
    "#Calculating Missing Values\n",
    "(test.isnull().sum()/len(test))*100"
   ]
  },
  {
   "cell_type": "markdown",
   "metadata": {},
   "source": [
    "### IMPUTATION OF MISSING VALUES"
   ]
  },
  {
   "cell_type": "code",
   "execution_count": 70,
   "metadata": {},
   "outputs": [],
   "source": [
    "#calculating the mean of item_weight with respective to item_type\n",
    "group_mean = test.pivot_table(index = [\"item_type\"], values = \"item_weight\", aggfunc = [np.mean])"
   ]
  },
  {
   "cell_type": "code",
   "execution_count": 71,
   "metadata": {},
   "outputs": [
    {
     "data": {
      "text/html": [
       "<div>\n",
       "<style scoped>\n",
       "    .dataframe tbody tr th:only-of-type {\n",
       "        vertical-align: middle;\n",
       "    }\n",
       "\n",
       "    .dataframe tbody tr th {\n",
       "        vertical-align: top;\n",
       "    }\n",
       "\n",
       "    .dataframe thead tr th {\n",
       "        text-align: left;\n",
       "    }\n",
       "\n",
       "    .dataframe thead tr:last-of-type th {\n",
       "        text-align: right;\n",
       "    }\n",
       "</style>\n",
       "<table border=\"1\" class=\"dataframe\">\n",
       "  <thead>\n",
       "    <tr>\n",
       "      <th></th>\n",
       "      <th>mean</th>\n",
       "    </tr>\n",
       "    <tr>\n",
       "      <th></th>\n",
       "      <th>item_weight</th>\n",
       "    </tr>\n",
       "    <tr>\n",
       "      <th>item_type</th>\n",
       "      <th></th>\n",
       "    </tr>\n",
       "  </thead>\n",
       "  <tbody>\n",
       "    <tr>\n",
       "      <th>Baking Goods</th>\n",
       "      <td>12.272418</td>\n",
       "    </tr>\n",
       "    <tr>\n",
       "      <th>Breads</th>\n",
       "      <td>10.866799</td>\n",
       "    </tr>\n",
       "    <tr>\n",
       "      <th>Breakfast</th>\n",
       "      <td>13.759603</td>\n",
       "    </tr>\n",
       "    <tr>\n",
       "      <th>Canned</th>\n",
       "      <td>12.393565</td>\n",
       "    </tr>\n",
       "    <tr>\n",
       "      <th>Dairy</th>\n",
       "      <td>12.955040</td>\n",
       "    </tr>\n",
       "    <tr>\n",
       "      <th>Frozen Foods</th>\n",
       "      <td>12.101543</td>\n",
       "    </tr>\n",
       "    <tr>\n",
       "      <th>Fruits and Vegetables</th>\n",
       "      <td>13.146659</td>\n",
       "    </tr>\n",
       "    <tr>\n",
       "      <th>Hard Drinks</th>\n",
       "      <td>11.844417</td>\n",
       "    </tr>\n",
       "    <tr>\n",
       "      <th>Health and Hygiene</th>\n",
       "      <td>13.216929</td>\n",
       "    </tr>\n",
       "    <tr>\n",
       "      <th>Household</th>\n",
       "      <td>13.270504</td>\n",
       "    </tr>\n",
       "    <tr>\n",
       "      <th>Meat</th>\n",
       "      <td>12.702148</td>\n",
       "    </tr>\n",
       "    <tr>\n",
       "      <th>Others</th>\n",
       "      <td>14.009725</td>\n",
       "    </tr>\n",
       "    <tr>\n",
       "      <th>Seafood</th>\n",
       "      <td>13.241136</td>\n",
       "    </tr>\n",
       "    <tr>\n",
       "      <th>Snack Foods</th>\n",
       "      <td>12.684256</td>\n",
       "    </tr>\n",
       "    <tr>\n",
       "      <th>Soft Drinks</th>\n",
       "      <td>11.691965</td>\n",
       "    </tr>\n",
       "    <tr>\n",
       "      <th>Starchy Foods</th>\n",
       "      <td>13.618247</td>\n",
       "    </tr>\n",
       "  </tbody>\n",
       "</table>\n",
       "</div>"
      ],
      "text/plain": [
       "                             mean\n",
       "                      item_weight\n",
       "item_type                        \n",
       "Baking Goods            12.272418\n",
       "Breads                  10.866799\n",
       "Breakfast               13.759603\n",
       "Canned                  12.393565\n",
       "Dairy                   12.955040\n",
       "Frozen Foods            12.101543\n",
       "Fruits and Vegetables   13.146659\n",
       "Hard Drinks             11.844417\n",
       "Health and Hygiene      13.216929\n",
       "Household               13.270504\n",
       "Meat                    12.702148\n",
       "Others                  14.009725\n",
       "Seafood                 13.241136\n",
       "Snack Foods             12.684256\n",
       "Soft Drinks             11.691965\n",
       "Starchy Foods           13.618247"
      ]
     },
     "execution_count": 71,
     "metadata": {},
     "output_type": "execute_result"
    }
   ],
   "source": [
    "group_mean"
   ]
  },
  {
   "cell_type": "code",
   "execution_count": 72,
   "metadata": {},
   "outputs": [],
   "source": [
    "mean_weigh = group_mean.iloc[:,[0][0]]"
   ]
  },
  {
   "cell_type": "code",
   "execution_count": 73,
   "metadata": {},
   "outputs": [
    {
     "data": {
      "text/plain": [
       "item_type\n",
       "Baking Goods             12.272418\n",
       "Breads                   10.866799\n",
       "Breakfast                13.759603\n",
       "Canned                   12.393565\n",
       "Dairy                    12.955040\n",
       "Frozen Foods             12.101543\n",
       "Fruits and Vegetables    13.146659\n",
       "Hard Drinks              11.844417\n",
       "Health and Hygiene       13.216929\n",
       "Household                13.270504\n",
       "Meat                     12.702148\n",
       "Others                   14.009725\n",
       "Seafood                  13.241136\n",
       "Snack Foods              12.684256\n",
       "Soft Drinks              11.691965\n",
       "Starchy Foods            13.618247\n",
       "Name: (mean, item_weight), dtype: float64"
      ]
     },
     "execution_count": 73,
     "metadata": {},
     "output_type": "execute_result"
    }
   ],
   "source": [
    "mean_weigh"
   ]
  },
  {
   "cell_type": "code",
   "execution_count": 74,
   "metadata": {},
   "outputs": [],
   "source": [
    "# Function to impute Missing Value in item_weight column:\n",
    "\n",
    "def missing_value1(cols):\n",
    "    item_type = cols[0]\n",
    "    item_weight =cols[1]\n",
    "    if pd.isnull(item_weight):\n",
    "        if item_type == \"Baking Goods\":\n",
    "            return 12.277\n",
    "        elif item_type == \"Breads\":\n",
    "            return 10.86\n",
    "        elif item_type == \"Breakfast\":\n",
    "            return  13.759603\n",
    "        elif item_type == \"Canned\":\n",
    "            return 12.393565\n",
    "        elif item_type == \"Dairy\":\n",
    "            return 12.955040\n",
    "        elif item_type == \"Frozen Foods\":\n",
    "            return  12.101543\n",
    "        elif item_type == \"Fruits and Vegetables\":\n",
    "            return 13.146659\n",
    "        elif item_type == \"Hard Drinks\":\n",
    "            return 11.844417\n",
    "        elif item_type == \"Health and Hygiene\":\n",
    "            return 13.216929\n",
    "        elif item_type == \"Household\":\n",
    "            return 13.270504\n",
    "        elif item_type == \"Meat\":\n",
    "            return 12.702148\n",
    "        elif item_type == \"Others\":\n",
    "            return 14.009725\n",
    "        elif item_type == \"Seafood\":\n",
    "            return 13.241136\n",
    "        elif item_type == \"Snack Foods\":\n",
    "            return 12.684256\n",
    "        elif item_type == \"Soft Drinks\":\n",
    "            return 11.691965\n",
    "        elif item_type == \"Starchy Foods\":\n",
    "            return 13.618247\n",
    "    return item_weight  "
   ]
  },
  {
   "cell_type": "code",
   "execution_count": 75,
   "metadata": {},
   "outputs": [],
   "source": [
    "#applying the above function to the dataset\n",
    "test[\"item_weight\"] = test[[\"item_type\",\"item_weight\"]].apply(missing_value1, axis = 1)"
   ]
  },
  {
   "cell_type": "code",
   "execution_count": 76,
   "metadata": {},
   "outputs": [
    {
     "data": {
      "text/plain": [
       "(array([0, 1, 2, 3]), <a list of 4 Text xticklabel objects>)"
      ]
     },
     "execution_count": 76,
     "metadata": {},
     "output_type": "execute_result"
    },
    {
     "data": {
      "image/png": "[encoded data removed]",
      "text/plain": [
       "<Figure size 432x288 with 1 Axes>"
      ]
     },
     "metadata": {
      "needs_background": "light"
     },
     "output_type": "display_data"
    }
   ],
   "source": [
    "#Frequency count of the outlet_type \n",
    "sns.countplot(data = test, x = \"outlet_type\",hue = \"outlet_size\")\n",
    "plt.xticks(rotation =90)"
   ]
  },
  {
   "cell_type": "code",
   "execution_count": 77,
   "metadata": {},
   "outputs": [],
   "source": [
    "# Function for Imputing Missing value in Outlet_Size column:\n",
    "\n",
    "def impute_size1(cols):\n",
    "    size = cols[0]\n",
    "    ot_type = cols[1]\n",
    "    if pd.isnull(size):\n",
    "        if ot_type == \"Supermarket Type1\":\n",
    "            return \"Small\"\n",
    "        elif ot_type == \"Supermarket Type2\":\n",
    "            return \"Medium\"\n",
    "        elif ot_type == \"Grocery Store\":\n",
    "            return \"Small\"\n",
    "        elif ot_type == \"Supermarket Type3\":\n",
    "            return \"Medium\"\n",
    "    return size    "
   ]
  },
  {
   "cell_type": "code",
   "execution_count": 78,
   "metadata": {},
   "outputs": [],
   "source": [
    "test[\"outlet_size\"] = test[[\"outlet_size\",\"outlet_type\"]].apply(impute_size1, axis = 1)"
   ]
  },
  {
   "cell_type": "code",
   "execution_count": 79,
   "metadata": {},
   "outputs": [
    {
     "data": {
      "text/plain": [
       "array(['Low Fat', 'reg', 'Regular', 'LF', 'low fat'], dtype=object)"
      ]
     },
     "execution_count": 79,
     "metadata": {},
     "output_type": "execute_result"
    }
   ],
   "source": [
    "test[\"item_fat_content\"].unique()"
   ]
  },
  {
   "cell_type": "code",
   "execution_count": 80,
   "metadata": {},
   "outputs": [],
   "source": [
    "test[\"item_fat_content\"] = test[\"item_fat_content\"].str.replace(\"LF\", \"low fat\").str.replace(\"reg\", \"regular\").str.lower()"
   ]
  },
  {
   "cell_type": "code",
   "execution_count": 81,
   "metadata": {},
   "outputs": [
    {
     "data": {
      "text/plain": [
       "array(['low fat', 'regular'], dtype=object)"
      ]
     },
     "execution_count": 81,
     "metadata": {},
     "output_type": "execute_result"
    }
   ],
   "source": [
    "test[\"item_fat_content\"].unique()"
   ]
  },
  {
   "cell_type": "code",
   "execution_count": 82,
   "metadata": {},
   "outputs": [],
   "source": [
    "mean_item_visibility = test.pivot_table(index = \"item_identifier\",  values = \"item_visibility\")"
   ]
  },
  {
   "cell_type": "code",
   "execution_count": 83,
   "metadata": {},
   "outputs": [
    {
     "data": {
      "text/html": [
       "<div>\n",
       "<style scoped>\n",
       "    .dataframe tbody tr th:only-of-type {\n",
       "        vertical-align: middle;\n",
       "    }\n",
       "\n",
       "    .dataframe tbody tr th {\n",
       "        vertical-align: top;\n",
       "    }\n",
       "\n",
       "    .dataframe thead th {\n",
       "        text-align: right;\n",
       "    }\n",
       "</style>\n",
       "<table border=\"1\" class=\"dataframe\">\n",
       "  <thead>\n",
       "    <tr style=\"text-align: right;\">\n",
       "      <th></th>\n",
       "      <th>item_visibility</th>\n",
       "    </tr>\n",
       "    <tr>\n",
       "      <th>item_identifier</th>\n",
       "      <th></th>\n",
       "    </tr>\n",
       "  </thead>\n",
       "  <tbody>\n",
       "    <tr>\n",
       "      <th>DRA12</th>\n",
       "      <td>0.040901</td>\n",
       "    </tr>\n",
       "    <tr>\n",
       "      <th>DRA24</th>\n",
       "      <td>0.040009</td>\n",
       "    </tr>\n",
       "    <tr>\n",
       "      <th>DRA59</th>\n",
       "      <td>0.128046</td>\n",
       "    </tr>\n",
       "    <tr>\n",
       "      <th>DRB01</th>\n",
       "      <td>0.078302</td>\n",
       "    </tr>\n",
       "    <tr>\n",
       "      <th>DRB13</th>\n",
       "      <td>0.005294</td>\n",
       "    </tr>\n",
       "  </tbody>\n",
       "</table>\n",
       "</div>"
      ],
      "text/plain": [
       "                 item_visibility\n",
       "item_identifier                 \n",
       "DRA12                   0.040901\n",
       "DRA24                   0.040009\n",
       "DRA59                   0.128046\n",
       "DRB01                   0.078302\n",
       "DRB13                   0.005294"
      ]
     },
     "execution_count": 83,
     "metadata": {},
     "output_type": "execute_result"
    }
   ],
   "source": [
    "mean_item_visibility.head()"
   ]
  },
  {
   "cell_type": "code",
   "execution_count": 84,
   "metadata": {},
   "outputs": [],
   "source": [
    "test_d = test.copy()"
   ]
  },
  {
   "cell_type": "markdown",
   "metadata": {},
   "source": [
    "### IMPUTING CATEGORICAL VALUES WITH FREQUENCY OF RESPECTIVE COLUMNS IN THE TEST DATA"
   ]
  },
  {
   "cell_type": "code",
   "execution_count": 85,
   "metadata": {},
   "outputs": [],
   "source": [
    "columns = ['item_identifier', 'item_fat_content',\n",
    "       'item_type', 'outlet_identifier',\n",
    "       'outlet_establishment_year', 'outlet_size', 'outlet_location_type',\n",
    "       'outlet_type']\n",
    "for i in columns:\n",
    "    x  = test_d[i].value_counts().to_dict()\n",
    "    test_d[i] = test_d[i].map(x)"
   ]
  },
  {
   "cell_type": "code",
   "execution_count": 86,
   "metadata": {},
   "outputs": [
    {
     "data": {
      "text/html": [
       "<div>\n",
       "<style scoped>\n",
       "    .dataframe tbody tr th:only-of-type {\n",
       "        vertical-align: middle;\n",
       "    }\n",
       "\n",
       "    .dataframe tbody tr th {\n",
       "        vertical-align: top;\n",
       "    }\n",
       "\n",
       "    .dataframe thead th {\n",
       "        text-align: right;\n",
       "    }\n",
       "</style>\n",
       "<table border=\"1\" class=\"dataframe\">\n",
       "  <thead>\n",
       "    <tr style=\"text-align: right;\">\n",
       "      <th></th>\n",
       "      <th>item_identifier</th>\n",
       "      <th>item_weight</th>\n",
       "      <th>item_fat_content</th>\n",
       "      <th>item_visibility</th>\n",
       "      <th>item_type</th>\n",
       "      <th>item_mrp</th>\n",
       "      <th>outlet_identifier</th>\n",
       "      <th>outlet_establishment_year</th>\n",
       "      <th>outlet_size</th>\n",
       "      <th>outlet_location_type</th>\n",
       "      <th>outlet_type</th>\n",
       "    </tr>\n",
       "  </thead>\n",
       "  <tbody>\n",
       "    <tr>\n",
       "      <th>0</th>\n",
       "      <td>7</td>\n",
       "      <td>20.75000</td>\n",
       "      <td>3668</td>\n",
       "      <td>0.007565</td>\n",
       "      <td>789</td>\n",
       "      <td>107.8622</td>\n",
       "      <td>620</td>\n",
       "      <td>620</td>\n",
       "      <td>1862</td>\n",
       "      <td>1592</td>\n",
       "      <td>3717</td>\n",
       "    </tr>\n",
       "    <tr>\n",
       "      <th>1</th>\n",
       "      <td>6</td>\n",
       "      <td>8.30000</td>\n",
       "      <td>2013</td>\n",
       "      <td>0.038428</td>\n",
       "      <td>454</td>\n",
       "      <td>87.3198</td>\n",
       "      <td>617</td>\n",
       "      <td>617</td>\n",
       "      <td>3198</td>\n",
       "      <td>1856</td>\n",
       "      <td>3717</td>\n",
       "    </tr>\n",
       "    <tr>\n",
       "      <th>2</th>\n",
       "      <td>4</td>\n",
       "      <td>14.60000</td>\n",
       "      <td>3668</td>\n",
       "      <td>0.099575</td>\n",
       "      <td>111</td>\n",
       "      <td>241.7538</td>\n",
       "      <td>370</td>\n",
       "      <td>370</td>\n",
       "      <td>3198</td>\n",
       "      <td>2233</td>\n",
       "      <td>722</td>\n",
       "    </tr>\n",
       "    <tr>\n",
       "      <th>3</th>\n",
       "      <td>3</td>\n",
       "      <td>7.31500</td>\n",
       "      <td>3668</td>\n",
       "      <td>0.015388</td>\n",
       "      <td>789</td>\n",
       "      <td>155.0340</td>\n",
       "      <td>617</td>\n",
       "      <td>617</td>\n",
       "      <td>3198</td>\n",
       "      <td>1856</td>\n",
       "      <td>3717</td>\n",
       "    </tr>\n",
       "    <tr>\n",
       "      <th>4</th>\n",
       "      <td>4</td>\n",
       "      <td>12.95504</td>\n",
       "      <td>2013</td>\n",
       "      <td>0.118599</td>\n",
       "      <td>454</td>\n",
       "      <td>234.2300</td>\n",
       "      <td>624</td>\n",
       "      <td>976</td>\n",
       "      <td>1862</td>\n",
       "      <td>2233</td>\n",
       "      <td>624</td>\n",
       "    </tr>\n",
       "  </tbody>\n",
       "</table>\n",
       "</div>"
      ],
      "text/plain": [
       "   item_identifier  item_weight  item_fat_content  item_visibility  item_type  \\\n",
       "0                7     20.75000              3668         0.007565        789   \n",
       "1                6      8.30000              2013         0.038428        454   \n",
       "2                4     14.60000              3668         0.099575        111   \n",
       "3                3      7.31500              3668         0.015388        789   \n",
       "4                4     12.95504              2013         0.118599        454   \n",
       "\n",
       "   item_mrp  outlet_identifier  outlet_establishment_year  outlet_size  \\\n",
       "0  107.8622                620                        620         1862   \n",
       "1   87.3198                617                        617         3198   \n",
       "2  241.7538                370                        370         3198   \n",
       "3  155.0340                617                        617         3198   \n",
       "4  234.2300                624                        976         1862   \n",
       "\n",
       "   outlet_location_type  outlet_type  \n",
       "0                  1592         3717  \n",
       "1                  1856         3717  \n",
       "2                  2233          722  \n",
       "3                  1856         3717  \n",
       "4                  2233          624  "
      ]
     },
     "execution_count": 86,
     "metadata": {},
     "output_type": "execute_result"
    }
   ],
   "source": [
    "test_d.head()"
   ]
  },
  {
   "cell_type": "code",
   "execution_count": 87,
   "metadata": {},
   "outputs": [],
   "source": [
    "new_test_data = test_d.copy()"
   ]
  },
  {
   "cell_type": "code",
   "execution_count": 88,
   "metadata": {},
   "outputs": [],
   "source": [
    "new_test_data =new_test_data.drop([\"item_weight\",\"item_identifier\", \"item_type\", \"item_fat_content\",\"outlet_location_type\"], axis = 1)"
   ]
  },
  {
   "cell_type": "code",
   "execution_count": 89,
   "metadata": {},
   "outputs": [
    {
     "data": {
      "text/html": [
       "<div>\n",
       "<style scoped>\n",
       "    .dataframe tbody tr th:only-of-type {\n",
       "        vertical-align: middle;\n",
       "    }\n",
       "\n",
       "    .dataframe tbody tr th {\n",
       "        vertical-align: top;\n",
       "    }\n",
       "\n",
       "    .dataframe thead th {\n",
       "        text-align: right;\n",
       "    }\n",
       "</style>\n",
       "<table border=\"1\" class=\"dataframe\">\n",
       "  <thead>\n",
       "    <tr style=\"text-align: right;\">\n",
       "      <th></th>\n",
       "      <th>item_visibility</th>\n",
       "      <th>item_mrp</th>\n",
       "      <th>outlet_identifier</th>\n",
       "      <th>outlet_establishment_year</th>\n",
       "      <th>outlet_size</th>\n",
       "      <th>outlet_type</th>\n",
       "    </tr>\n",
       "  </thead>\n",
       "  <tbody>\n",
       "    <tr>\n",
       "      <th>0</th>\n",
       "      <td>0.007565</td>\n",
       "      <td>107.8622</td>\n",
       "      <td>620</td>\n",
       "      <td>620</td>\n",
       "      <td>1862</td>\n",
       "      <td>3717</td>\n",
       "    </tr>\n",
       "    <tr>\n",
       "      <th>1</th>\n",
       "      <td>0.038428</td>\n",
       "      <td>87.3198</td>\n",
       "      <td>617</td>\n",
       "      <td>617</td>\n",
       "      <td>3198</td>\n",
       "      <td>3717</td>\n",
       "    </tr>\n",
       "    <tr>\n",
       "      <th>2</th>\n",
       "      <td>0.099575</td>\n",
       "      <td>241.7538</td>\n",
       "      <td>370</td>\n",
       "      <td>370</td>\n",
       "      <td>3198</td>\n",
       "      <td>722</td>\n",
       "    </tr>\n",
       "    <tr>\n",
       "      <th>3</th>\n",
       "      <td>0.015388</td>\n",
       "      <td>155.0340</td>\n",
       "      <td>617</td>\n",
       "      <td>617</td>\n",
       "      <td>3198</td>\n",
       "      <td>3717</td>\n",
       "    </tr>\n",
       "    <tr>\n",
       "      <th>4</th>\n",
       "      <td>0.118599</td>\n",
       "      <td>234.2300</td>\n",
       "      <td>624</td>\n",
       "      <td>976</td>\n",
       "      <td>1862</td>\n",
       "      <td>624</td>\n",
       "    </tr>\n",
       "  </tbody>\n",
       "</table>\n",
       "</div>"
      ],
      "text/plain": [
       "   item_visibility  item_mrp  outlet_identifier  outlet_establishment_year  \\\n",
       "0         0.007565  107.8622                620                        620   \n",
       "1         0.038428   87.3198                617                        617   \n",
       "2         0.099575  241.7538                370                        370   \n",
       "3         0.015388  155.0340                617                        617   \n",
       "4         0.118599  234.2300                624                        976   \n",
       "\n",
       "   outlet_size  outlet_type  \n",
       "0         1862         3717  \n",
       "1         3198         3717  \n",
       "2         3198          722  \n",
       "3         3198         3717  \n",
       "4         1862          624  "
      ]
     },
     "execution_count": 89,
     "metadata": {},
     "output_type": "execute_result"
    }
   ],
   "source": [
    "new_test_data.head()"
   ]
  },
  {
   "cell_type": "code",
   "execution_count": 90,
   "metadata": {},
   "outputs": [
    {
     "data": {
      "text/plain": [
       "item_visibility              1.238312\n",
       "item_mrp                     0.136182\n",
       "outlet_identifier           -2.243972\n",
       "outlet_establishment_year    0.940664\n",
       "outlet_size                 -0.803617\n",
       "outlet_type                 -0.650194\n",
       "dtype: float64"
      ]
     },
     "execution_count": 90,
     "metadata": {},
     "output_type": "execute_result"
    }
   ],
   "source": [
    "#CHECKING THE SKEWNESS OF THE TEST DATA\n",
    "new_test_data.skew()"
   ]
  },
  {
   "cell_type": "code",
   "execution_count": 91,
   "metadata": {},
   "outputs": [
    {
     "name": "stderr",
     "output_type": "stream",
     "text": [
      "C:\\Users\\Pankaj\\Anaconda3\\lib\\site-packages\\scipy\\stats\\stats.py:1713: FutureWarning: Using a non-tuple sequence for multidimensional indexing is deprecated; use `arr[tuple(seq)]` instead of `arr[seq]`. In the future this will be interpreted as an array index, `arr[np.array(seq)]`, which will result either in an error or a different result.\n",
      "  return np.add.reduce(sorted[indexer] * weights, axis=axis) / sumval\n"
     ]
    },
    {
     "data": {
      "text/plain": [
       "<matplotlib.axes._subplots.AxesSubplot at 0x2647a8a56a0>"
      ]
     },
     "execution_count": 91,
     "metadata": {},
     "output_type": "execute_result"
    },
    {
     "data": {
      "image/png": "[encoded data removed]",
      "text/plain": [
       "<Figure size 1080x1080 with 6 Axes>"
      ]
     },
     "metadata": {
      "needs_background": "light"
     },
     "output_type": "display_data"
    }
   ],
   "source": [
    "#VISUALIZING THE SKEWNESS OF THE DATASET\n",
    "# Before Transformation\n",
    "fig, ax = plt.subplots(3,2,figsize = (15,15))\n",
    "sns.distplot(new_test_data[\"item_visibility\"], kde =True, ax=ax[0,0], color = \"red\")\n",
    "sns.distplot(new_test_data[\"item_mrp\"], kde =True, ax=ax[0,1], color = \"blue\")\n",
    "sns.distplot(new_test_data[\"outlet_identifier\"], kde =True, ax=ax[1,0], color = \"orange\")\n",
    "sns.distplot(new_test_data[\"outlet_type\"], kde =True, ax=ax[1,1], color = \"black\")\n",
    "sns.distplot(new_test_data[\"outlet_size\"], kde =True, ax=ax[2,0], color = \"magenta\")\n",
    "sns.distplot(new_test_data[\"outlet_establishment_year\"], kde =True, ax=ax[2,1])\n",
    "\n"
   ]
  },
  {
   "cell_type": "code",
   "execution_count": 92,
   "metadata": {},
   "outputs": [
    {
     "data": {
      "text/plain": [
       "Index(['item_visibility', 'item_mrp', 'outlet_identifier',\n",
       "       'outlet_establishment_year', 'outlet_size', 'outlet_type'],\n",
       "      dtype='object')"
      ]
     },
     "execution_count": 92,
     "metadata": {},
     "output_type": "execute_result"
    }
   ],
   "source": [
    "new_test_data.columns"
   ]
  },
  {
   "cell_type": "code",
   "execution_count": 93,
   "metadata": {},
   "outputs": [],
   "source": [
    "#Applying the log transformation\n",
    "for i in new_test_data.columns:\n",
    "    new_test_data[i] =np.log(new_test_data[i]+1)"
   ]
  },
  {
   "cell_type": "code",
   "execution_count": 94,
   "metadata": {},
   "outputs": [
    {
     "data": {
      "text/plain": [
       "<matplotlib.axes._subplots.AxesSubplot at 0x2647ab1be10>"
      ]
     },
     "execution_count": 94,
     "metadata": {},
     "output_type": "execute_result"
    },
    {
     "data": {
      "image/png": "[encoded data removed]",
      "text/plain": [
       "<Figure size 1080x1080 with 6 Axes>"
      ]
     },
     "metadata": {
      "needs_background": "light"
     },
     "output_type": "display_data"
    }
   ],
   "source": [
    "#After Transformation \n",
    "fig, ax = plt.subplots(3,2,figsize = (15,15))\n",
    "sns.distplot(new_test_data[\"item_visibility\"], kde =True, ax=ax[0,0], color = \"red\")\n",
    "sns.distplot(new_test_data[\"item_mrp\"], kde =True, ax=ax[0,1], color = \"blue\")\n",
    "sns.distplot(new_test_data[\"outlet_identifier\"], kde =True, ax=ax[1,0], color = \"orange\")\n",
    "sns.distplot(new_test_data[\"outlet_type\"], kde =True, ax=ax[1,1], color = \"black\")\n",
    "sns.distplot(new_test_data[\"outlet_size\"], kde =True, ax=ax[2,0], color = \"magenta\")\n",
    "sns.distplot(new_test_data[\"outlet_establishment_year\"], kde =True, ax=ax[2,1])\n"
   ]
  },
  {
   "cell_type": "code",
   "execution_count": 95,
   "metadata": {},
   "outputs": [
    {
     "data": {
      "text/html": [
       "<div>\n",
       "<style scoped>\n",
       "    .dataframe tbody tr th:only-of-type {\n",
       "        vertical-align: middle;\n",
       "    }\n",
       "\n",
       "    .dataframe tbody tr th {\n",
       "        vertical-align: top;\n",
       "    }\n",
       "\n",
       "    .dataframe thead th {\n",
       "        text-align: right;\n",
       "    }\n",
       "</style>\n",
       "<table border=\"1\" class=\"dataframe\">\n",
       "  <thead>\n",
       "    <tr style=\"text-align: right;\">\n",
       "      <th></th>\n",
       "      <th>item_visibility</th>\n",
       "      <th>item_mrp</th>\n",
       "      <th>outlet_identifier</th>\n",
       "      <th>outlet_establishment_year</th>\n",
       "      <th>outlet_size</th>\n",
       "      <th>outlet_type</th>\n",
       "    </tr>\n",
       "  </thead>\n",
       "  <tbody>\n",
       "    <tr>\n",
       "      <th>0</th>\n",
       "      <td>0.007536</td>\n",
       "      <td>4.690083</td>\n",
       "      <td>6.431331</td>\n",
       "      <td>6.431331</td>\n",
       "      <td>7.529943</td>\n",
       "      <td>8.220941</td>\n",
       "    </tr>\n",
       "    <tr>\n",
       "      <th>1</th>\n",
       "      <td>0.037708</td>\n",
       "      <td>4.480964</td>\n",
       "      <td>6.426488</td>\n",
       "      <td>6.426488</td>\n",
       "      <td>8.070594</td>\n",
       "      <td>8.220941</td>\n",
       "    </tr>\n",
       "    <tr>\n",
       "      <th>2</th>\n",
       "      <td>0.094924</td>\n",
       "      <td>5.492048</td>\n",
       "      <td>5.916202</td>\n",
       "      <td>5.916202</td>\n",
       "      <td>8.070594</td>\n",
       "      <td>6.583409</td>\n",
       "    </tr>\n",
       "    <tr>\n",
       "      <th>3</th>\n",
       "      <td>0.015271</td>\n",
       "      <td>5.050074</td>\n",
       "      <td>6.426488</td>\n",
       "      <td>6.426488</td>\n",
       "      <td>8.070594</td>\n",
       "      <td>8.220941</td>\n",
       "    </tr>\n",
       "    <tr>\n",
       "      <th>4</th>\n",
       "      <td>0.112077</td>\n",
       "      <td>5.460564</td>\n",
       "      <td>6.437752</td>\n",
       "      <td>6.884487</td>\n",
       "      <td>7.529943</td>\n",
       "      <td>6.437752</td>\n",
       "    </tr>\n",
       "  </tbody>\n",
       "</table>\n",
       "</div>"
      ],
      "text/plain": [
       "   item_visibility  item_mrp  outlet_identifier  outlet_establishment_year  \\\n",
       "0         0.007536  4.690083           6.431331                   6.431331   \n",
       "1         0.037708  4.480964           6.426488                   6.426488   \n",
       "2         0.094924  5.492048           5.916202                   5.916202   \n",
       "3         0.015271  5.050074           6.426488                   6.426488   \n",
       "4         0.112077  5.460564           6.437752                   6.884487   \n",
       "\n",
       "   outlet_size  outlet_type  \n",
       "0     7.529943     8.220941  \n",
       "1     8.070594     8.220941  \n",
       "2     8.070594     6.583409  \n",
       "3     8.070594     8.220941  \n",
       "4     7.529943     6.437752  "
      ]
     },
     "execution_count": 95,
     "metadata": {},
     "output_type": "execute_result"
    }
   ],
   "source": [
    "new_test_data.head()"
   ]
  },
  {
   "cell_type": "code",
   "execution_count": 96,
   "metadata": {},
   "outputs": [
    {
     "data": {
      "text/plain": [
       "item_visibility              1.075093\n",
       "item_mrp                    -0.714215\n",
       "outlet_identifier           -2.249508\n",
       "outlet_establishment_year    0.035052\n",
       "outlet_size                 -1.540480\n",
       "outlet_type                 -0.657290\n",
       "dtype: float64"
      ]
     },
     "execution_count": 96,
     "metadata": {},
     "output_type": "execute_result"
    }
   ],
   "source": [
    "#Skewness After Transformation:\n",
    "new_test_data.skew()"
   ]
  },
  {
   "cell_type": "markdown",
   "metadata": {},
   "source": [
    "# Apply Model to the Test Data for Predicting The item Outsale Values:"
   ]
  },
  {
   "cell_type": "code",
   "execution_count": 97,
   "metadata": {},
   "outputs": [],
   "source": [
    "item_outsale_pred = regressor.predict(new_test_data)"
   ]
  },
  {
   "cell_type": "code",
   "execution_count": 98,
   "metadata": {},
   "outputs": [
    {
     "data": {
      "text/plain": [
       "array([[5.67640946],\n",
       "       [5.46067678],\n",
       "       [4.38498969],\n",
       "       ...,\n",
       "       [5.78283971],\n",
       "       [6.36494054],\n",
       "       [5.38430632]])"
      ]
     },
     "execution_count": 98,
     "metadata": {},
     "output_type": "execute_result"
    }
   ],
   "source": [
    "item_outsale_pred"
   ]
  },
  {
   "cell_type": "markdown",
   "metadata": {},
   "source": [
    "## **Above predicted values are transformed values. Therefore, we need to inverse transform it to get actual predicted values.** "
   ]
  },
  {
   "cell_type": "code",
   "execution_count": 99,
   "metadata": {},
   "outputs": [],
   "source": [
    "#Performing inverse transformation\n",
    "actual_item_outsale = np.exp(item_outsale_pred+1)"
   ]
  },
  {
   "cell_type": "code",
   "execution_count": 100,
   "metadata": {},
   "outputs": [
    {
     "data": {
      "text/plain": [
       "array([[ 793.46502665],\n",
       "       [ 639.49370755],\n",
       "       [ 218.10785445],\n",
       "       ...,\n",
       "       [ 882.57141188],\n",
       "       [1579.62149746],\n",
       "       [ 592.47360083]])"
      ]
     },
     "execution_count": 100,
     "metadata": {},
     "output_type": "execute_result"
    }
   ],
   "source": [
    "actual_item_outsale"
   ]
  },
  {
   "cell_type": "code",
   "execution_count": 101,
   "metadata": {},
   "outputs": [],
   "source": [
    "#ADDING THE PREDICTED ITEM_OUTLET_SALE COLUMNS TO TEST DATA\n",
    "test[\"item_outlet_sale\"] = actual_item_outsale"
   ]
  },
  {
   "cell_type": "code",
   "execution_count": 102,
   "metadata": {},
   "outputs": [
    {
     "data": {
      "text/html": [
       "<div>\n",
       "<style scoped>\n",
       "    .dataframe tbody tr th:only-of-type {\n",
       "        vertical-align: middle;\n",
       "    }\n",
       "\n",
       "    .dataframe tbody tr th {\n",
       "        vertical-align: top;\n",
       "    }\n",
       "\n",
       "    .dataframe thead th {\n",
       "        text-align: right;\n",
       "    }\n",
       "</style>\n",
       "<table border=\"1\" class=\"dataframe\">\n",
       "  <thead>\n",
       "    <tr style=\"text-align: right;\">\n",
       "      <th></th>\n",
       "      <th>item_identifier</th>\n",
       "      <th>item_weight</th>\n",
       "      <th>item_fat_content</th>\n",
       "      <th>item_visibility</th>\n",
       "      <th>item_type</th>\n",
       "      <th>item_mrp</th>\n",
       "      <th>outlet_identifier</th>\n",
       "      <th>outlet_establishment_year</th>\n",
       "      <th>outlet_size</th>\n",
       "      <th>outlet_location_type</th>\n",
       "      <th>outlet_type</th>\n",
       "      <th>item_outlet_sale</th>\n",
       "    </tr>\n",
       "  </thead>\n",
       "  <tbody>\n",
       "    <tr>\n",
       "      <th>0</th>\n",
       "      <td>FDW58</td>\n",
       "      <td>20.750000</td>\n",
       "      <td>low fat</td>\n",
       "      <td>0.007565</td>\n",
       "      <td>Snack Foods</td>\n",
       "      <td>107.8622</td>\n",
       "      <td>OUT049</td>\n",
       "      <td>1999</td>\n",
       "      <td>Medium</td>\n",
       "      <td>Tier 1</td>\n",
       "      <td>Supermarket Type1</td>\n",
       "      <td>793.465027</td>\n",
       "    </tr>\n",
       "    <tr>\n",
       "      <th>1</th>\n",
       "      <td>FDW14</td>\n",
       "      <td>8.300000</td>\n",
       "      <td>regular</td>\n",
       "      <td>0.038428</td>\n",
       "      <td>Dairy</td>\n",
       "      <td>87.3198</td>\n",
       "      <td>OUT017</td>\n",
       "      <td>2007</td>\n",
       "      <td>Small</td>\n",
       "      <td>Tier 2</td>\n",
       "      <td>Supermarket Type1</td>\n",
       "      <td>639.493708</td>\n",
       "    </tr>\n",
       "    <tr>\n",
       "      <th>2</th>\n",
       "      <td>NCN55</td>\n",
       "      <td>14.600000</td>\n",
       "      <td>low fat</td>\n",
       "      <td>0.099575</td>\n",
       "      <td>Others</td>\n",
       "      <td>241.7538</td>\n",
       "      <td>OUT010</td>\n",
       "      <td>1998</td>\n",
       "      <td>Small</td>\n",
       "      <td>Tier 3</td>\n",
       "      <td>Grocery Store</td>\n",
       "      <td>218.107854</td>\n",
       "    </tr>\n",
       "    <tr>\n",
       "      <th>3</th>\n",
       "      <td>FDQ58</td>\n",
       "      <td>7.315000</td>\n",
       "      <td>low fat</td>\n",
       "      <td>0.015388</td>\n",
       "      <td>Snack Foods</td>\n",
       "      <td>155.0340</td>\n",
       "      <td>OUT017</td>\n",
       "      <td>2007</td>\n",
       "      <td>Small</td>\n",
       "      <td>Tier 2</td>\n",
       "      <td>Supermarket Type1</td>\n",
       "      <td>1138.258763</td>\n",
       "    </tr>\n",
       "    <tr>\n",
       "      <th>4</th>\n",
       "      <td>FDY38</td>\n",
       "      <td>12.955040</td>\n",
       "      <td>regular</td>\n",
       "      <td>0.118599</td>\n",
       "      <td>Dairy</td>\n",
       "      <td>234.2300</td>\n",
       "      <td>OUT027</td>\n",
       "      <td>1985</td>\n",
       "      <td>Medium</td>\n",
       "      <td>Tier 3</td>\n",
       "      <td>Supermarket Type3</td>\n",
       "      <td>2383.376614</td>\n",
       "    </tr>\n",
       "    <tr>\n",
       "      <th>5</th>\n",
       "      <td>FDH56</td>\n",
       "      <td>9.800000</td>\n",
       "      <td>regular</td>\n",
       "      <td>0.063817</td>\n",
       "      <td>Fruits and Vegetables</td>\n",
       "      <td>117.1492</td>\n",
       "      <td>OUT046</td>\n",
       "      <td>1997</td>\n",
       "      <td>Small</td>\n",
       "      <td>Tier 1</td>\n",
       "      <td>Supermarket Type1</td>\n",
       "      <td>876.541827</td>\n",
       "    </tr>\n",
       "    <tr>\n",
       "      <th>6</th>\n",
       "      <td>FDL48</td>\n",
       "      <td>19.350000</td>\n",
       "      <td>regular</td>\n",
       "      <td>0.082602</td>\n",
       "      <td>Baking Goods</td>\n",
       "      <td>50.1034</td>\n",
       "      <td>OUT018</td>\n",
       "      <td>2009</td>\n",
       "      <td>Medium</td>\n",
       "      <td>Tier 3</td>\n",
       "      <td>Supermarket Type2</td>\n",
       "      <td>381.672146</td>\n",
       "    </tr>\n",
       "    <tr>\n",
       "      <th>7</th>\n",
       "      <td>FDC48</td>\n",
       "      <td>12.277000</td>\n",
       "      <td>low fat</td>\n",
       "      <td>0.015782</td>\n",
       "      <td>Baking Goods</td>\n",
       "      <td>81.0592</td>\n",
       "      <td>OUT027</td>\n",
       "      <td>1985</td>\n",
       "      <td>Medium</td>\n",
       "      <td>Tier 3</td>\n",
       "      <td>Supermarket Type3</td>\n",
       "      <td>819.518761</td>\n",
       "    </tr>\n",
       "    <tr>\n",
       "      <th>8</th>\n",
       "      <td>FDN33</td>\n",
       "      <td>6.305000</td>\n",
       "      <td>regular</td>\n",
       "      <td>0.123365</td>\n",
       "      <td>Snack Foods</td>\n",
       "      <td>95.7436</td>\n",
       "      <td>OUT045</td>\n",
       "      <td>2002</td>\n",
       "      <td>Small</td>\n",
       "      <td>Tier 2</td>\n",
       "      <td>Supermarket Type1</td>\n",
       "      <td>711.171036</td>\n",
       "    </tr>\n",
       "    <tr>\n",
       "      <th>9</th>\n",
       "      <td>FDA36</td>\n",
       "      <td>5.985000</td>\n",
       "      <td>low fat</td>\n",
       "      <td>0.005698</td>\n",
       "      <td>Baking Goods</td>\n",
       "      <td>186.8924</td>\n",
       "      <td>OUT017</td>\n",
       "      <td>2007</td>\n",
       "      <td>Small</td>\n",
       "      <td>Tier 2</td>\n",
       "      <td>Supermarket Type1</td>\n",
       "      <td>1373.996165</td>\n",
       "    </tr>\n",
       "    <tr>\n",
       "      <th>10</th>\n",
       "      <td>FDT44</td>\n",
       "      <td>16.600000</td>\n",
       "      <td>low fat</td>\n",
       "      <td>0.103569</td>\n",
       "      <td>Fruits and Vegetables</td>\n",
       "      <td>118.3466</td>\n",
       "      <td>OUT017</td>\n",
       "      <td>2007</td>\n",
       "      <td>Small</td>\n",
       "      <td>Tier 2</td>\n",
       "      <td>Supermarket Type1</td>\n",
       "      <td>867.849613</td>\n",
       "    </tr>\n",
       "    <tr>\n",
       "      <th>11</th>\n",
       "      <td>FDQ56</td>\n",
       "      <td>6.590000</td>\n",
       "      <td>low fat</td>\n",
       "      <td>0.105811</td>\n",
       "      <td>Fruits and Vegetables</td>\n",
       "      <td>85.3908</td>\n",
       "      <td>OUT045</td>\n",
       "      <td>2002</td>\n",
       "      <td>Small</td>\n",
       "      <td>Tier 2</td>\n",
       "      <td>Supermarket Type1</td>\n",
       "      <td>634.067119</td>\n",
       "    </tr>\n",
       "    <tr>\n",
       "      <th>12</th>\n",
       "      <td>NCC54</td>\n",
       "      <td>13.216929</td>\n",
       "      <td>low fat</td>\n",
       "      <td>0.171079</td>\n",
       "      <td>Health and Hygiene</td>\n",
       "      <td>240.4196</td>\n",
       "      <td>OUT019</td>\n",
       "      <td>1985</td>\n",
       "      <td>Small</td>\n",
       "      <td>Tier 1</td>\n",
       "      <td>Grocery Store</td>\n",
       "      <td>307.163599</td>\n",
       "    </tr>\n",
       "    <tr>\n",
       "      <th>13</th>\n",
       "      <td>FDU11</td>\n",
       "      <td>4.785000</td>\n",
       "      <td>low fat</td>\n",
       "      <td>0.092738</td>\n",
       "      <td>Breads</td>\n",
       "      <td>122.3098</td>\n",
       "      <td>OUT049</td>\n",
       "      <td>1999</td>\n",
       "      <td>Medium</td>\n",
       "      <td>Tier 1</td>\n",
       "      <td>Supermarket Type1</td>\n",
       "      <td>900.584801</td>\n",
       "    </tr>\n",
       "    <tr>\n",
       "      <th>14</th>\n",
       "      <td>DRL59</td>\n",
       "      <td>16.750000</td>\n",
       "      <td>low fat</td>\n",
       "      <td>0.021206</td>\n",
       "      <td>Hard Drinks</td>\n",
       "      <td>52.0298</td>\n",
       "      <td>OUT013</td>\n",
       "      <td>1987</td>\n",
       "      <td>High</td>\n",
       "      <td>Tier 3</td>\n",
       "      <td>Supermarket Type1</td>\n",
       "      <td>372.859422</td>\n",
       "    </tr>\n",
       "    <tr>\n",
       "      <th>15</th>\n",
       "      <td>FDM24</td>\n",
       "      <td>6.135000</td>\n",
       "      <td>regular</td>\n",
       "      <td>0.079451</td>\n",
       "      <td>Baking Goods</td>\n",
       "      <td>151.6366</td>\n",
       "      <td>OUT049</td>\n",
       "      <td>1999</td>\n",
       "      <td>Medium</td>\n",
       "      <td>Tier 1</td>\n",
       "      <td>Supermarket Type1</td>\n",
       "      <td>1117.877828</td>\n",
       "    </tr>\n",
       "    <tr>\n",
       "      <th>16</th>\n",
       "      <td>FDI57</td>\n",
       "      <td>19.850000</td>\n",
       "      <td>low fat</td>\n",
       "      <td>0.054135</td>\n",
       "      <td>Seafood</td>\n",
       "      <td>198.7768</td>\n",
       "      <td>OUT045</td>\n",
       "      <td>2002</td>\n",
       "      <td>Small</td>\n",
       "      <td>Tier 2</td>\n",
       "      <td>Supermarket Type1</td>\n",
       "      <td>1482.388699</td>\n",
       "    </tr>\n",
       "    <tr>\n",
       "      <th>17</th>\n",
       "      <td>DRC12</td>\n",
       "      <td>17.850000</td>\n",
       "      <td>low fat</td>\n",
       "      <td>0.037981</td>\n",
       "      <td>Soft Drinks</td>\n",
       "      <td>192.2188</td>\n",
       "      <td>OUT018</td>\n",
       "      <td>2009</td>\n",
       "      <td>Medium</td>\n",
       "      <td>Tier 3</td>\n",
       "      <td>Supermarket Type2</td>\n",
       "      <td>1468.554293</td>\n",
       "    </tr>\n",
       "    <tr>\n",
       "      <th>18</th>\n",
       "      <td>NCM42</td>\n",
       "      <td>13.270504</td>\n",
       "      <td>low fat</td>\n",
       "      <td>0.028184</td>\n",
       "      <td>Household</td>\n",
       "      <td>109.6912</td>\n",
       "      <td>OUT027</td>\n",
       "      <td>1985</td>\n",
       "      <td>Medium</td>\n",
       "      <td>Tier 3</td>\n",
       "      <td>Supermarket Type3</td>\n",
       "      <td>1109.932964</td>\n",
       "    </tr>\n",
       "    <tr>\n",
       "      <th>19</th>\n",
       "      <td>FDA46</td>\n",
       "      <td>13.600000</td>\n",
       "      <td>low fat</td>\n",
       "      <td>0.196898</td>\n",
       "      <td>Snack Foods</td>\n",
       "      <td>193.7136</td>\n",
       "      <td>OUT010</td>\n",
       "      <td>1998</td>\n",
       "      <td>Small</td>\n",
       "      <td>Tier 3</td>\n",
       "      <td>Grocery Store</td>\n",
       "      <td>174.498479</td>\n",
       "    </tr>\n",
       "    <tr>\n",
       "      <th>20</th>\n",
       "      <td>FDA31</td>\n",
       "      <td>7.100000</td>\n",
       "      <td>low fat</td>\n",
       "      <td>0.109920</td>\n",
       "      <td>Fruits and Vegetables</td>\n",
       "      <td>175.0080</td>\n",
       "      <td>OUT013</td>\n",
       "      <td>1987</td>\n",
       "      <td>High</td>\n",
       "      <td>Tier 3</td>\n",
       "      <td>Supermarket Type1</td>\n",
       "      <td>1257.902502</td>\n",
       "    </tr>\n",
       "    <tr>\n",
       "      <th>21</th>\n",
       "      <td>NCJ31</td>\n",
       "      <td>19.200000</td>\n",
       "      <td>low fat</td>\n",
       "      <td>0.182619</td>\n",
       "      <td>Others</td>\n",
       "      <td>239.9196</td>\n",
       "      <td>OUT035</td>\n",
       "      <td>2004</td>\n",
       "      <td>Small</td>\n",
       "      <td>Tier 2</td>\n",
       "      <td>Supermarket Type1</td>\n",
       "      <td>1805.233615</td>\n",
       "    </tr>\n",
       "    <tr>\n",
       "      <th>22</th>\n",
       "      <td>FDG52</td>\n",
       "      <td>13.650000</td>\n",
       "      <td>low fat</td>\n",
       "      <td>0.065631</td>\n",
       "      <td>Frozen Foods</td>\n",
       "      <td>47.7402</td>\n",
       "      <td>OUT046</td>\n",
       "      <td>1997</td>\n",
       "      <td>Small</td>\n",
       "      <td>Tier 1</td>\n",
       "      <td>Supermarket Type1</td>\n",
       "      <td>357.370431</td>\n",
       "    </tr>\n",
       "    <tr>\n",
       "      <th>23</th>\n",
       "      <td>NCL19</td>\n",
       "      <td>14.009725</td>\n",
       "      <td>low fat</td>\n",
       "      <td>0.027447</td>\n",
       "      <td>Others</td>\n",
       "      <td>142.3470</td>\n",
       "      <td>OUT019</td>\n",
       "      <td>1985</td>\n",
       "      <td>Small</td>\n",
       "      <td>Tier 1</td>\n",
       "      <td>Grocery Store</td>\n",
       "      <td>181.018405</td>\n",
       "    </tr>\n",
       "    <tr>\n",
       "      <th>24</th>\n",
       "      <td>FDS10</td>\n",
       "      <td>19.200000</td>\n",
       "      <td>low fat</td>\n",
       "      <td>0.035179</td>\n",
       "      <td>Snack Foods</td>\n",
       "      <td>180.7318</td>\n",
       "      <td>OUT035</td>\n",
       "      <td>2004</td>\n",
       "      <td>Small</td>\n",
       "      <td>Tier 2</td>\n",
       "      <td>Supermarket Type1</td>\n",
       "      <td>1355.835293</td>\n",
       "    </tr>\n",
       "    <tr>\n",
       "      <th>25</th>\n",
       "      <td>FDX22</td>\n",
       "      <td>6.785000</td>\n",
       "      <td>regular</td>\n",
       "      <td>0.038455</td>\n",
       "      <td>Snack Foods</td>\n",
       "      <td>209.4928</td>\n",
       "      <td>OUT010</td>\n",
       "      <td>1998</td>\n",
       "      <td>Small</td>\n",
       "      <td>Tier 3</td>\n",
       "      <td>Grocery Store</td>\n",
       "      <td>188.715938</td>\n",
       "    </tr>\n",
       "    <tr>\n",
       "      <th>26</th>\n",
       "      <td>NCF19</td>\n",
       "      <td>13.000000</td>\n",
       "      <td>low fat</td>\n",
       "      <td>0.035102</td>\n",
       "      <td>Household</td>\n",
       "      <td>47.6034</td>\n",
       "      <td>OUT035</td>\n",
       "      <td>2004</td>\n",
       "      <td>Small</td>\n",
       "      <td>Tier 2</td>\n",
       "      <td>Supermarket Type1</td>\n",
       "      <td>356.308045</td>\n",
       "    </tr>\n",
       "    <tr>\n",
       "      <th>27</th>\n",
       "      <td>NCE06</td>\n",
       "      <td>5.825000</td>\n",
       "      <td>low fat</td>\n",
       "      <td>0.091485</td>\n",
       "      <td>Household</td>\n",
       "      <td>161.3894</td>\n",
       "      <td>OUT046</td>\n",
       "      <td>1997</td>\n",
       "      <td>Small</td>\n",
       "      <td>Tier 1</td>\n",
       "      <td>Supermarket Type1</td>\n",
       "      <td>1210.001660</td>\n",
       "    </tr>\n",
       "    <tr>\n",
       "      <th>28</th>\n",
       "      <td>DRC27</td>\n",
       "      <td>13.800000</td>\n",
       "      <td>low fat</td>\n",
       "      <td>0.058102</td>\n",
       "      <td>Dairy</td>\n",
       "      <td>244.6802</td>\n",
       "      <td>OUT046</td>\n",
       "      <td>1997</td>\n",
       "      <td>Small</td>\n",
       "      <td>Tier 1</td>\n",
       "      <td>Supermarket Type1</td>\n",
       "      <td>1840.474169</td>\n",
       "    </tr>\n",
       "    <tr>\n",
       "      <th>29</th>\n",
       "      <td>FDE21</td>\n",
       "      <td>12.800000</td>\n",
       "      <td>low fat</td>\n",
       "      <td>0.022940</td>\n",
       "      <td>Fruits and Vegetables</td>\n",
       "      <td>116.5492</td>\n",
       "      <td>OUT035</td>\n",
       "      <td>2004</td>\n",
       "      <td>Small</td>\n",
       "      <td>Tier 2</td>\n",
       "      <td>Supermarket Type1</td>\n",
       "      <td>871.879591</td>\n",
       "    </tr>\n",
       "    <tr>\n",
       "      <th>...</th>\n",
       "      <td>...</td>\n",
       "      <td>...</td>\n",
       "      <td>...</td>\n",
       "      <td>...</td>\n",
       "      <td>...</td>\n",
       "      <td>...</td>\n",
       "      <td>...</td>\n",
       "      <td>...</td>\n",
       "      <td>...</td>\n",
       "      <td>...</td>\n",
       "      <td>...</td>\n",
       "      <td>...</td>\n",
       "    </tr>\n",
       "    <tr>\n",
       "      <th>5651</th>\n",
       "      <td>FDD23</td>\n",
       "      <td>9.500000</td>\n",
       "      <td>regular</td>\n",
       "      <td>0.048645</td>\n",
       "      <td>Starchy Foods</td>\n",
       "      <td>186.1898</td>\n",
       "      <td>OUT013</td>\n",
       "      <td>1987</td>\n",
       "      <td>High</td>\n",
       "      <td>Tier 3</td>\n",
       "      <td>Supermarket Type1</td>\n",
       "      <td>1338.575531</td>\n",
       "    </tr>\n",
       "    <tr>\n",
       "      <th>5652</th>\n",
       "      <td>FDP32</td>\n",
       "      <td>6.650000</td>\n",
       "      <td>low fat</td>\n",
       "      <td>0.087847</td>\n",
       "      <td>Fruits and Vegetables</td>\n",
       "      <td>126.7678</td>\n",
       "      <td>OUT045</td>\n",
       "      <td>2002</td>\n",
       "      <td>Small</td>\n",
       "      <td>Tier 2</td>\n",
       "      <td>Supermarket Type1</td>\n",
       "      <td>942.578804</td>\n",
       "    </tr>\n",
       "    <tr>\n",
       "      <th>5653</th>\n",
       "      <td>FDO31</td>\n",
       "      <td>6.760000</td>\n",
       "      <td>regular</td>\n",
       "      <td>0.028977</td>\n",
       "      <td>Fruits and Vegetables</td>\n",
       "      <td>80.2960</td>\n",
       "      <td>OUT035</td>\n",
       "      <td>2004</td>\n",
       "      <td>Small</td>\n",
       "      <td>Tier 2</td>\n",
       "      <td>Supermarket Type1</td>\n",
       "      <td>600.050237</td>\n",
       "    </tr>\n",
       "    <tr>\n",
       "      <th>5654</th>\n",
       "      <td>FDQ57</td>\n",
       "      <td>7.275000</td>\n",
       "      <td>low fat</td>\n",
       "      <td>0.000000</td>\n",
       "      <td>Snack Foods</td>\n",
       "      <td>144.5760</td>\n",
       "      <td>OUT013</td>\n",
       "      <td>1987</td>\n",
       "      <td>High</td>\n",
       "      <td>Tier 3</td>\n",
       "      <td>Supermarket Type1</td>\n",
       "      <td>1037.305594</td>\n",
       "    </tr>\n",
       "    <tr>\n",
       "      <th>5655</th>\n",
       "      <td>FDX32</td>\n",
       "      <td>13.146659</td>\n",
       "      <td>regular</td>\n",
       "      <td>0.099375</td>\n",
       "      <td>Fruits and Vegetables</td>\n",
       "      <td>143.6786</td>\n",
       "      <td>OUT027</td>\n",
       "      <td>1985</td>\n",
       "      <td>Medium</td>\n",
       "      <td>Tier 3</td>\n",
       "      <td>Supermarket Type3</td>\n",
       "      <td>1456.342934</td>\n",
       "    </tr>\n",
       "    <tr>\n",
       "      <th>5656</th>\n",
       "      <td>FDC39</td>\n",
       "      <td>12.955040</td>\n",
       "      <td>low fat</td>\n",
       "      <td>0.158425</td>\n",
       "      <td>Dairy</td>\n",
       "      <td>207.8296</td>\n",
       "      <td>OUT027</td>\n",
       "      <td>1985</td>\n",
       "      <td>Medium</td>\n",
       "      <td>Tier 3</td>\n",
       "      <td>Supermarket Type3</td>\n",
       "      <td>2112.866222</td>\n",
       "    </tr>\n",
       "    <tr>\n",
       "      <th>5657</th>\n",
       "      <td>FDU55</td>\n",
       "      <td>16.200000</td>\n",
       "      <td>low fat</td>\n",
       "      <td>0.035911</td>\n",
       "      <td>Fruits and Vegetables</td>\n",
       "      <td>261.3278</td>\n",
       "      <td>OUT046</td>\n",
       "      <td>1997</td>\n",
       "      <td>Small</td>\n",
       "      <td>Tier 1</td>\n",
       "      <td>Supermarket Type1</td>\n",
       "      <td>1966.715959</td>\n",
       "    </tr>\n",
       "    <tr>\n",
       "      <th>5658</th>\n",
       "      <td>FDL45</td>\n",
       "      <td>15.600000</td>\n",
       "      <td>low fat</td>\n",
       "      <td>0.037656</td>\n",
       "      <td>Snack Foods</td>\n",
       "      <td>123.4704</td>\n",
       "      <td>OUT013</td>\n",
       "      <td>1987</td>\n",
       "      <td>High</td>\n",
       "      <td>Tier 3</td>\n",
       "      <td>Supermarket Type1</td>\n",
       "      <td>885.217017</td>\n",
       "    </tr>\n",
       "    <tr>\n",
       "      <th>5659</th>\n",
       "      <td>DRK37</td>\n",
       "      <td>5.000000</td>\n",
       "      <td>low fat</td>\n",
       "      <td>0.044073</td>\n",
       "      <td>Soft Drinks</td>\n",
       "      <td>188.8530</td>\n",
       "      <td>OUT049</td>\n",
       "      <td>1999</td>\n",
       "      <td>Medium</td>\n",
       "      <td>Tier 1</td>\n",
       "      <td>Supermarket Type1</td>\n",
       "      <td>1394.276658</td>\n",
       "    </tr>\n",
       "    <tr>\n",
       "      <th>5660</th>\n",
       "      <td>FDK22</td>\n",
       "      <td>9.800000</td>\n",
       "      <td>low fat</td>\n",
       "      <td>0.026065</td>\n",
       "      <td>Snack Foods</td>\n",
       "      <td>215.3850</td>\n",
       "      <td>OUT013</td>\n",
       "      <td>1987</td>\n",
       "      <td>High</td>\n",
       "      <td>Tier 3</td>\n",
       "      <td>Supermarket Type1</td>\n",
       "      <td>1550.182797</td>\n",
       "    </tr>\n",
       "    <tr>\n",
       "      <th>5661</th>\n",
       "      <td>DRG37</td>\n",
       "      <td>11.691965</td>\n",
       "      <td>low fat</td>\n",
       "      <td>0.000000</td>\n",
       "      <td>Soft Drinks</td>\n",
       "      <td>155.7972</td>\n",
       "      <td>OUT027</td>\n",
       "      <td>1985</td>\n",
       "      <td>Medium</td>\n",
       "      <td>Tier 3</td>\n",
       "      <td>Supermarket Type3</td>\n",
       "      <td>1579.353610</td>\n",
       "    </tr>\n",
       "    <tr>\n",
       "      <th>5662</th>\n",
       "      <td>FDK22</td>\n",
       "      <td>9.800000</td>\n",
       "      <td>low fat</td>\n",
       "      <td>0.026234</td>\n",
       "      <td>Snack Foods</td>\n",
       "      <td>214.3850</td>\n",
       "      <td>OUT017</td>\n",
       "      <td>2007</td>\n",
       "      <td>Small</td>\n",
       "      <td>Tier 2</td>\n",
       "      <td>Supermarket Type1</td>\n",
       "      <td>1578.045261</td>\n",
       "    </tr>\n",
       "    <tr>\n",
       "      <th>5663</th>\n",
       "      <td>DRH36</td>\n",
       "      <td>16.200000</td>\n",
       "      <td>low fat</td>\n",
       "      <td>0.033516</td>\n",
       "      <td>Soft Drinks</td>\n",
       "      <td>72.8696</td>\n",
       "      <td>OUT018</td>\n",
       "      <td>2009</td>\n",
       "      <td>Medium</td>\n",
       "      <td>Tier 3</td>\n",
       "      <td>Supermarket Type2</td>\n",
       "      <td>554.299941</td>\n",
       "    </tr>\n",
       "    <tr>\n",
       "      <th>5664</th>\n",
       "      <td>DRC36</td>\n",
       "      <td>13.000000</td>\n",
       "      <td>regular</td>\n",
       "      <td>0.045168</td>\n",
       "      <td>Soft Drinks</td>\n",
       "      <td>173.4054</td>\n",
       "      <td>OUT018</td>\n",
       "      <td>2009</td>\n",
       "      <td>Medium</td>\n",
       "      <td>Tier 3</td>\n",
       "      <td>Supermarket Type2</td>\n",
       "      <td>1323.799553</td>\n",
       "    </tr>\n",
       "    <tr>\n",
       "      <th>5665</th>\n",
       "      <td>DRE03</td>\n",
       "      <td>12.955040</td>\n",
       "      <td>low fat</td>\n",
       "      <td>0.024110</td>\n",
       "      <td>Dairy</td>\n",
       "      <td>46.0718</td>\n",
       "      <td>OUT027</td>\n",
       "      <td>1985</td>\n",
       "      <td>Medium</td>\n",
       "      <td>Tier 3</td>\n",
       "      <td>Supermarket Type3</td>\n",
       "      <td>466.657640</td>\n",
       "    </tr>\n",
       "    <tr>\n",
       "      <th>5666</th>\n",
       "      <td>FDF34</td>\n",
       "      <td>9.300000</td>\n",
       "      <td>regular</td>\n",
       "      <td>0.014019</td>\n",
       "      <td>Snack Foods</td>\n",
       "      <td>196.9084</td>\n",
       "      <td>OUT046</td>\n",
       "      <td>1997</td>\n",
       "      <td>Small</td>\n",
       "      <td>Tier 1</td>\n",
       "      <td>Supermarket Type1</td>\n",
       "      <td>1478.062715</td>\n",
       "    </tr>\n",
       "    <tr>\n",
       "      <th>5667</th>\n",
       "      <td>FDZ22</td>\n",
       "      <td>9.395000</td>\n",
       "      <td>low fat</td>\n",
       "      <td>0.045270</td>\n",
       "      <td>Snack Foods</td>\n",
       "      <td>82.1250</td>\n",
       "      <td>OUT046</td>\n",
       "      <td>1997</td>\n",
       "      <td>Small</td>\n",
       "      <td>Tier 1</td>\n",
       "      <td>Supermarket Type1</td>\n",
       "      <td>613.774595</td>\n",
       "    </tr>\n",
       "    <tr>\n",
       "      <th>5668</th>\n",
       "      <td>FDC44</td>\n",
       "      <td>15.600000</td>\n",
       "      <td>low fat</td>\n",
       "      <td>0.288892</td>\n",
       "      <td>Fruits and Vegetables</td>\n",
       "      <td>115.1518</td>\n",
       "      <td>OUT010</td>\n",
       "      <td>1998</td>\n",
       "      <td>Small</td>\n",
       "      <td>Tier 3</td>\n",
       "      <td>Grocery Store</td>\n",
       "      <td>103.414262</td>\n",
       "    </tr>\n",
       "    <tr>\n",
       "      <th>5669</th>\n",
       "      <td>FDN31</td>\n",
       "      <td>13.146659</td>\n",
       "      <td>low fat</td>\n",
       "      <td>0.072529</td>\n",
       "      <td>Fruits and Vegetables</td>\n",
       "      <td>188.0530</td>\n",
       "      <td>OUT027</td>\n",
       "      <td>1985</td>\n",
       "      <td>Medium</td>\n",
       "      <td>Tier 3</td>\n",
       "      <td>Supermarket Type3</td>\n",
       "      <td>1909.590392</td>\n",
       "    </tr>\n",
       "    <tr>\n",
       "      <th>5670</th>\n",
       "      <td>FDO03</td>\n",
       "      <td>10.395000</td>\n",
       "      <td>regular</td>\n",
       "      <td>0.037092</td>\n",
       "      <td>Meat</td>\n",
       "      <td>229.4352</td>\n",
       "      <td>OUT017</td>\n",
       "      <td>2007</td>\n",
       "      <td>Small</td>\n",
       "      <td>Tier 2</td>\n",
       "      <td>Supermarket Type1</td>\n",
       "      <td>1689.908622</td>\n",
       "    </tr>\n",
       "    <tr>\n",
       "      <th>5671</th>\n",
       "      <td>FDA01</td>\n",
       "      <td>15.000000</td>\n",
       "      <td>regular</td>\n",
       "      <td>0.054463</td>\n",
       "      <td>Canned</td>\n",
       "      <td>59.5904</td>\n",
       "      <td>OUT049</td>\n",
       "      <td>1999</td>\n",
       "      <td>Medium</td>\n",
       "      <td>Tier 1</td>\n",
       "      <td>Supermarket Type1</td>\n",
       "      <td>438.286610</td>\n",
       "    </tr>\n",
       "    <tr>\n",
       "      <th>5672</th>\n",
       "      <td>NCH42</td>\n",
       "      <td>6.860000</td>\n",
       "      <td>low fat</td>\n",
       "      <td>0.036594</td>\n",
       "      <td>Household</td>\n",
       "      <td>231.1010</td>\n",
       "      <td>OUT049</td>\n",
       "      <td>1999</td>\n",
       "      <td>Medium</td>\n",
       "      <td>Tier 1</td>\n",
       "      <td>Supermarket Type1</td>\n",
       "      <td>1709.051098</td>\n",
       "    </tr>\n",
       "    <tr>\n",
       "      <th>5673</th>\n",
       "      <td>FDF46</td>\n",
       "      <td>7.070000</td>\n",
       "      <td>low fat</td>\n",
       "      <td>0.094053</td>\n",
       "      <td>Snack Foods</td>\n",
       "      <td>116.0834</td>\n",
       "      <td>OUT018</td>\n",
       "      <td>2009</td>\n",
       "      <td>Medium</td>\n",
       "      <td>Tier 3</td>\n",
       "      <td>Supermarket Type2</td>\n",
       "      <td>884.187471</td>\n",
       "    </tr>\n",
       "    <tr>\n",
       "      <th>5674</th>\n",
       "      <td>DRL35</td>\n",
       "      <td>15.700000</td>\n",
       "      <td>low fat</td>\n",
       "      <td>0.030704</td>\n",
       "      <td>Hard Drinks</td>\n",
       "      <td>43.2770</td>\n",
       "      <td>OUT046</td>\n",
       "      <td>1997</td>\n",
       "      <td>Small</td>\n",
       "      <td>Tier 1</td>\n",
       "      <td>Supermarket Type1</td>\n",
       "      <td>324.183205</td>\n",
       "    </tr>\n",
       "    <tr>\n",
       "      <th>5675</th>\n",
       "      <td>FDW46</td>\n",
       "      <td>13.000000</td>\n",
       "      <td>regular</td>\n",
       "      <td>0.070411</td>\n",
       "      <td>Snack Foods</td>\n",
       "      <td>63.4484</td>\n",
       "      <td>OUT049</td>\n",
       "      <td>1999</td>\n",
       "      <td>Medium</td>\n",
       "      <td>Tier 1</td>\n",
       "      <td>Supermarket Type1</td>\n",
       "      <td>466.607810</td>\n",
       "    </tr>\n",
       "    <tr>\n",
       "      <th>5676</th>\n",
       "      <td>FDB58</td>\n",
       "      <td>10.500000</td>\n",
       "      <td>regular</td>\n",
       "      <td>0.013496</td>\n",
       "      <td>Snack Foods</td>\n",
       "      <td>141.3154</td>\n",
       "      <td>OUT046</td>\n",
       "      <td>1997</td>\n",
       "      <td>Small</td>\n",
       "      <td>Tier 1</td>\n",
       "      <td>Supermarket Type1</td>\n",
       "      <td>1058.217726</td>\n",
       "    </tr>\n",
       "    <tr>\n",
       "      <th>5677</th>\n",
       "      <td>FDD47</td>\n",
       "      <td>7.600000</td>\n",
       "      <td>regular</td>\n",
       "      <td>0.142991</td>\n",
       "      <td>Starchy Foods</td>\n",
       "      <td>169.1448</td>\n",
       "      <td>OUT018</td>\n",
       "      <td>2009</td>\n",
       "      <td>Medium</td>\n",
       "      <td>Tier 3</td>\n",
       "      <td>Supermarket Type2</td>\n",
       "      <td>1291.548794</td>\n",
       "    </tr>\n",
       "    <tr>\n",
       "      <th>5678</th>\n",
       "      <td>NCO17</td>\n",
       "      <td>10.000000</td>\n",
       "      <td>low fat</td>\n",
       "      <td>0.073529</td>\n",
       "      <td>Health and Hygiene</td>\n",
       "      <td>118.7440</td>\n",
       "      <td>OUT045</td>\n",
       "      <td>2002</td>\n",
       "      <td>Small</td>\n",
       "      <td>Tier 2</td>\n",
       "      <td>Supermarket Type1</td>\n",
       "      <td>882.571412</td>\n",
       "    </tr>\n",
       "    <tr>\n",
       "      <th>5679</th>\n",
       "      <td>FDJ26</td>\n",
       "      <td>15.300000</td>\n",
       "      <td>regular</td>\n",
       "      <td>0.000000</td>\n",
       "      <td>Canned</td>\n",
       "      <td>214.6218</td>\n",
       "      <td>OUT017</td>\n",
       "      <td>2007</td>\n",
       "      <td>Small</td>\n",
       "      <td>Tier 2</td>\n",
       "      <td>Supermarket Type1</td>\n",
       "      <td>1579.621497</td>\n",
       "    </tr>\n",
       "    <tr>\n",
       "      <th>5680</th>\n",
       "      <td>FDU37</td>\n",
       "      <td>9.500000</td>\n",
       "      <td>regular</td>\n",
       "      <td>0.104720</td>\n",
       "      <td>Canned</td>\n",
       "      <td>79.7960</td>\n",
       "      <td>OUT045</td>\n",
       "      <td>2002</td>\n",
       "      <td>Small</td>\n",
       "      <td>Tier 2</td>\n",
       "      <td>Supermarket Type1</td>\n",
       "      <td>592.473601</td>\n",
       "    </tr>\n",
       "  </tbody>\n",
       "</table>\n",
       "<p>5681 rows × 12 columns</p>\n",
       "</div>"
      ],
      "text/plain": [
       "     item_identifier  item_weight item_fat_content  item_visibility  \\\n",
       "0              FDW58    20.750000          low fat         0.007565   \n",
       "1              FDW14     8.300000          regular         0.038428   \n",
       "2              NCN55    14.600000          low fat         0.099575   \n",
       "3              FDQ58     7.315000          low fat         0.015388   \n",
       "4              FDY38    12.955040          regular         0.118599   \n",
       "5              FDH56     9.800000          regular         0.063817   \n",
       "6              FDL48    19.350000          regular         0.082602   \n",
       "7              FDC48    12.277000          low fat         0.015782   \n",
       "8              FDN33     6.305000          regular         0.123365   \n",
       "9              FDA36     5.985000          low fat         0.005698   \n",
       "10             FDT44    16.600000          low fat         0.103569   \n",
       "11             FDQ56     6.590000          low fat         0.105811   \n",
       "12             NCC54    13.216929          low fat         0.171079   \n",
       "13             FDU11     4.785000          low fat         0.092738   \n",
       "14             DRL59    16.750000          low fat         0.021206   \n",
       "15             FDM24     6.135000          regular         0.079451   \n",
       "16             FDI57    19.850000          low fat         0.054135   \n",
       "17             DRC12    17.850000          low fat         0.037981   \n",
       "18             NCM42    13.270504          low fat         0.028184   \n",
       "19             FDA46    13.600000          low fat         0.196898   \n",
       "20             FDA31     7.100000          low fat         0.109920   \n",
       "21             NCJ31    19.200000          low fat         0.182619   \n",
       "22             FDG52    13.650000          low fat         0.065631   \n",
       "23             NCL19    14.009725          low fat         0.027447   \n",
       "24             FDS10    19.200000          low fat         0.035179   \n",
       "25             FDX22     6.785000          regular         0.038455   \n",
       "26             NCF19    13.000000          low fat         0.035102   \n",
       "27             NCE06     5.825000          low fat         0.091485   \n",
       "28             DRC27    13.800000          low fat         0.058102   \n",
       "29             FDE21    12.800000          low fat         0.022940   \n",
       "...              ...          ...              ...              ...   \n",
       "5651           FDD23     9.500000          regular         0.048645   \n",
       "5652           FDP32     6.650000          low fat         0.087847   \n",
       "5653           FDO31     6.760000          regular         0.028977   \n",
       "5654           FDQ57     7.275000          low fat         0.000000   \n",
       "5655           FDX32    13.146659          regular         0.099375   \n",
       "5656           FDC39    12.955040          low fat         0.158425   \n",
       "5657           FDU55    16.200000          low fat         0.035911   \n",
       "5658           FDL45    15.600000          low fat         0.037656   \n",
       "5659           DRK37     5.000000          low fat         0.044073   \n",
       "5660           FDK22     9.800000          low fat         0.026065   \n",
       "5661           DRG37    11.691965          low fat         0.000000   \n",
       "5662           FDK22     9.800000          low fat         0.026234   \n",
       "5663           DRH36    16.200000          low fat         0.033516   \n",
       "5664           DRC36    13.000000          regular         0.045168   \n",
       "5665           DRE03    12.955040          low fat         0.024110   \n",
       "5666           FDF34     9.300000          regular         0.014019   \n",
       "5667           FDZ22     9.395000          low fat         0.045270   \n",
       "5668           FDC44    15.600000          low fat         0.288892   \n",
       "5669           FDN31    13.146659          low fat         0.072529   \n",
       "5670           FDO03    10.395000          regular         0.037092   \n",
       "5671           FDA01    15.000000          regular         0.054463   \n",
       "5672           NCH42     6.860000          low fat         0.036594   \n",
       "5673           FDF46     7.070000          low fat         0.094053   \n",
       "5674           DRL35    15.700000          low fat         0.030704   \n",
       "5675           FDW46    13.000000          regular         0.070411   \n",
       "5676           FDB58    10.500000          regular         0.013496   \n",
       "5677           FDD47     7.600000          regular         0.142991   \n",
       "5678           NCO17    10.000000          low fat         0.073529   \n",
       "5679           FDJ26    15.300000          regular         0.000000   \n",
       "5680           FDU37     9.500000          regular         0.104720   \n",
       "\n",
       "                  item_type  item_mrp outlet_identifier  \\\n",
       "0               Snack Foods  107.8622            OUT049   \n",
       "1                     Dairy   87.3198            OUT017   \n",
       "2                    Others  241.7538            OUT010   \n",
       "3               Snack Foods  155.0340            OUT017   \n",
       "4                     Dairy  234.2300            OUT027   \n",
       "5     Fruits and Vegetables  117.1492            OUT046   \n",
       "6              Baking Goods   50.1034            OUT018   \n",
       "7              Baking Goods   81.0592            OUT027   \n",
       "8               Snack Foods   95.7436            OUT045   \n",
       "9              Baking Goods  186.8924            OUT017   \n",
       "10    Fruits and Vegetables  118.3466            OUT017   \n",
       "11    Fruits and Vegetables   85.3908            OUT045   \n",
       "12       Health and Hygiene  240.4196            OUT019   \n",
       "13                   Breads  122.3098            OUT049   \n",
       "14              Hard Drinks   52.0298            OUT013   \n",
       "15             Baking Goods  151.6366            OUT049   \n",
       "16                  Seafood  198.7768            OUT045   \n",
       "17              Soft Drinks  192.2188            OUT018   \n",
       "18                Household  109.6912            OUT027   \n",
       "19              Snack Foods  193.7136            OUT010   \n",
       "20    Fruits and Vegetables  175.0080            OUT013   \n",
       "21                   Others  239.9196            OUT035   \n",
       "22             Frozen Foods   47.7402            OUT046   \n",
       "23                   Others  142.3470            OUT019   \n",
       "24              Snack Foods  180.7318            OUT035   \n",
       "25              Snack Foods  209.4928            OUT010   \n",
       "26                Household   47.6034            OUT035   \n",
       "27                Household  161.3894            OUT046   \n",
       "28                    Dairy  244.6802            OUT046   \n",
       "29    Fruits and Vegetables  116.5492            OUT035   \n",
       "...                     ...       ...               ...   \n",
       "5651          Starchy Foods  186.1898            OUT013   \n",
       "5652  Fruits and Vegetables  126.7678            OUT045   \n",
       "5653  Fruits and Vegetables   80.2960            OUT035   \n",
       "5654            Snack Foods  144.5760            OUT013   \n",
       "5655  Fruits and Vegetables  143.6786            OUT027   \n",
       "5656                  Dairy  207.8296            OUT027   \n",
       "5657  Fruits and Vegetables  261.3278            OUT046   \n",
       "5658            Snack Foods  123.4704            OUT013   \n",
       "5659            Soft Drinks  188.8530            OUT049   \n",
       "5660            Snack Foods  215.3850            OUT013   \n",
       "5661            Soft Drinks  155.7972            OUT027   \n",
       "5662            Snack Foods  214.3850            OUT017   \n",
       "5663            Soft Drinks   72.8696            OUT018   \n",
       "5664            Soft Drinks  173.4054            OUT018   \n",
       "5665                  Dairy   46.0718            OUT027   \n",
       "5666            Snack Foods  196.9084            OUT046   \n",
       "5667            Snack Foods   82.1250            OUT046   \n",
       "5668  Fruits and Vegetables  115.1518            OUT010   \n",
       "5669  Fruits and Vegetables  188.0530            OUT027   \n",
       "5670                   Meat  229.4352            OUT017   \n",
       "5671                 Canned   59.5904            OUT049   \n",
       "5672              Household  231.1010            OUT049   \n",
       "5673            Snack Foods  116.0834            OUT018   \n",
       "5674            Hard Drinks   43.2770            OUT046   \n",
       "5675            Snack Foods   63.4484            OUT049   \n",
       "5676            Snack Foods  141.3154            OUT046   \n",
       "5677          Starchy Foods  169.1448            OUT018   \n",
       "5678     Health and Hygiene  118.7440            OUT045   \n",
       "5679                 Canned  214.6218            OUT017   \n",
       "5680                 Canned   79.7960            OUT045   \n",
       "\n",
       "      outlet_establishment_year outlet_size outlet_location_type  \\\n",
       "0                          1999      Medium               Tier 1   \n",
       "1                          2007       Small               Tier 2   \n",
       "2                          1998       Small               Tier 3   \n",
       "3                          2007       Small               Tier 2   \n",
       "4                          1985      Medium               Tier 3   \n",
       "5                          1997       Small               Tier 1   \n",
       "6                          2009      Medium               Tier 3   \n",
       "7                          1985      Medium               Tier 3   \n",
       "8                          2002       Small               Tier 2   \n",
       "9                          2007       Small               Tier 2   \n",
       "10                         2007       Small               Tier 2   \n",
       "11                         2002       Small               Tier 2   \n",
       "12                         1985       Small               Tier 1   \n",
       "13                         1999      Medium               Tier 1   \n",
       "14                         1987        High               Tier 3   \n",
       "15                         1999      Medium               Tier 1   \n",
       "16                         2002       Small               Tier 2   \n",
       "17                         2009      Medium               Tier 3   \n",
       "18                         1985      Medium               Tier 3   \n",
       "19                         1998       Small               Tier 3   \n",
       "20                         1987        High               Tier 3   \n",
       "21                         2004       Small               Tier 2   \n",
       "22                         1997       Small               Tier 1   \n",
       "23                         1985       Small               Tier 1   \n",
       "24                         2004       Small               Tier 2   \n",
       "25                         1998       Small               Tier 3   \n",
       "26                         2004       Small               Tier 2   \n",
       "27                         1997       Small               Tier 1   \n",
       "28                         1997       Small               Tier 1   \n",
       "29                         2004       Small               Tier 2   \n",
       "...                         ...         ...                  ...   \n",
       "5651                       1987        High               Tier 3   \n",
       "5652                       2002       Small               Tier 2   \n",
       "5653                       2004       Small               Tier 2   \n",
       "5654                       1987        High               Tier 3   \n",
       "5655                       1985      Medium               Tier 3   \n",
       "5656                       1985      Medium               Tier 3   \n",
       "5657                       1997       Small               Tier 1   \n",
       "5658                       1987        High               Tier 3   \n",
       "5659                       1999      Medium               Tier 1   \n",
       "5660                       1987        High               Tier 3   \n",
       "5661                       1985      Medium               Tier 3   \n",
       "5662                       2007       Small               Tier 2   \n",
       "5663                       2009      Medium               Tier 3   \n",
       "5664                       2009      Medium               Tier 3   \n",
       "5665                       1985      Medium               Tier 3   \n",
       "5666                       1997       Small               Tier 1   \n",
       "5667                       1997       Small               Tier 1   \n",
       "5668                       1998       Small               Tier 3   \n",
       "5669                       1985      Medium               Tier 3   \n",
       "5670                       2007       Small               Tier 2   \n",
       "5671                       1999      Medium               Tier 1   \n",
       "5672                       1999      Medium               Tier 1   \n",
       "5673                       2009      Medium               Tier 3   \n",
       "5674                       1997       Small               Tier 1   \n",
       "5675                       1999      Medium               Tier 1   \n",
       "5676                       1997       Small               Tier 1   \n",
       "5677                       2009      Medium               Tier 3   \n",
       "5678                       2002       Small               Tier 2   \n",
       "5679                       2007       Small               Tier 2   \n",
       "5680                       2002       Small               Tier 2   \n",
       "\n",
       "            outlet_type  item_outlet_sale  \n",
       "0     Supermarket Type1        793.465027  \n",
       "1     Supermarket Type1        639.493708  \n",
       "2         Grocery Store        218.107854  \n",
       "3     Supermarket Type1       1138.258763  \n",
       "4     Supermarket Type3       2383.376614  \n",
       "5     Supermarket Type1        876.541827  \n",
       "6     Supermarket Type2        381.672146  \n",
       "7     Supermarket Type3        819.518761  \n",
       "8     Supermarket Type1        711.171036  \n",
       "9     Supermarket Type1       1373.996165  \n",
       "10    Supermarket Type1        867.849613  \n",
       "11    Supermarket Type1        634.067119  \n",
       "12        Grocery Store        307.163599  \n",
       "13    Supermarket Type1        900.584801  \n",
       "14    Supermarket Type1        372.859422  \n",
       "15    Supermarket Type1       1117.877828  \n",
       "16    Supermarket Type1       1482.388699  \n",
       "17    Supermarket Type2       1468.554293  \n",
       "18    Supermarket Type3       1109.932964  \n",
       "19        Grocery Store        174.498479  \n",
       "20    Supermarket Type1       1257.902502  \n",
       "21    Supermarket Type1       1805.233615  \n",
       "22    Supermarket Type1        357.370431  \n",
       "23        Grocery Store        181.018405  \n",
       "24    Supermarket Type1       1355.835293  \n",
       "25        Grocery Store        188.715938  \n",
       "26    Supermarket Type1        356.308045  \n",
       "27    Supermarket Type1       1210.001660  \n",
       "28    Supermarket Type1       1840.474169  \n",
       "29    Supermarket Type1        871.879591  \n",
       "...                 ...               ...  \n",
       "5651  Supermarket Type1       1338.575531  \n",
       "5652  Supermarket Type1        942.578804  \n",
       "5653  Supermarket Type1        600.050237  \n",
       "5654  Supermarket Type1       1037.305594  \n",
       "5655  Supermarket Type3       1456.342934  \n",
       "5656  Supermarket Type3       2112.866222  \n",
       "5657  Supermarket Type1       1966.715959  \n",
       "5658  Supermarket Type1        885.217017  \n",
       "5659  Supermarket Type1       1394.276658  \n",
       "5660  Supermarket Type1       1550.182797  \n",
       "5661  Supermarket Type3       1579.353610  \n",
       "5662  Supermarket Type1       1578.045261  \n",
       "5663  Supermarket Type2        554.299941  \n",
       "5664  Supermarket Type2       1323.799553  \n",
       "5665  Supermarket Type3        466.657640  \n",
       "5666  Supermarket Type1       1478.062715  \n",
       "5667  Supermarket Type1        613.774595  \n",
       "5668      Grocery Store        103.414262  \n",
       "5669  Supermarket Type3       1909.590392  \n",
       "5670  Supermarket Type1       1689.908622  \n",
       "5671  Supermarket Type1        438.286610  \n",
       "5672  Supermarket Type1       1709.051098  \n",
       "5673  Supermarket Type2        884.187471  \n",
       "5674  Supermarket Type1        324.183205  \n",
       "5675  Supermarket Type1        466.607810  \n",
       "5676  Supermarket Type1       1058.217726  \n",
       "5677  Supermarket Type2       1291.548794  \n",
       "5678  Supermarket Type1        882.571412  \n",
       "5679  Supermarket Type1       1579.621497  \n",
       "5680  Supermarket Type1        592.473601  \n",
       "\n",
       "[5681 rows x 12 columns]"
      ]
     },
     "execution_count": 102,
     "metadata": {},
     "output_type": "execute_result"
    }
   ],
   "source": [
    "test"
   ]
  },
  {
   "cell_type": "code",
   "execution_count": null,
   "metadata": {},
   "outputs": [],
   "source": []
  }
 ],
 "metadata": {
  "kernelspec": {
   "display_name": "Python 3",
   "language": "python",
   "name": "python3"
  },
  "language_info": {
   "codemirror_mode": {
    "name": "ipython",
    "version": 3
   },
   "file_extension": ".py",
   "mimetype": "text/x-python",
   "name": "python",
   "nbconvert_exporter": "python",
   "pygments_lexer": "ipython3",
   "version": "3.7.1"
  }
 },
 "nbformat": 4,
 "nbformat_minor": 2
}
